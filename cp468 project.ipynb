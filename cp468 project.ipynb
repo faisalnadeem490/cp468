{
 "cells": [
  {
   "cell_type": "code",
   "execution_count": 260,
   "id": "b23fba75",
   "metadata": {},
   "outputs": [
    {
     "name": "stdout",
     "output_type": "stream",
     "text": [
      "Defaulting to user installation because normal site-packages is not writeable\n",
      "Requirement already satisfied: opencv-python in c:\\users\\faisa\\appdata\\roaming\\python\\python39\\site-packages (4.6.0.66)\n",
      "Requirement already satisfied: numpy>=1.17.3 in c:\\programdata\\anaconda3\\lib\\site-packages (from opencv-python) (1.21.5)\n"
     ]
    }
   ],
   "source": [
    "\n",
    "!pip install opencv-python\n",
    "import pandas as pd\n",
    "import numpy as np\n",
    "import matplotlib.pyplot as plt\n",
    "import os\n",
    "import cv2\n",
    "from tqdm import tqdm\n",
    "\n",
    "\n",
    "filePath= r\"C:\\Users\\faisa\\Downloads\\chessdataset\"\n",
    "  \n",
    "    "
   ]
  },
  {
   "cell_type": "code",
   "execution_count": 256,
   "id": "58181f53",
   "metadata": {},
   "outputs": [
    {
     "data": {
      "image/png": "[encoded data removed]",
      "text/plain": [
       "<Figure size 432x288 with 1 Axes>"
      ]
     },
     "metadata": {
      "needs_background": "light"
     },
     "output_type": "display_data"
    }
   ],
   "source": [
    "imagesize = 50\n",
    "\n",
    "\n",
    "\n",
    "    "
   ]
  },
  {
   "cell_type": "code",
   "execution_count": null,
   "id": "3ac01b82",
   "metadata": {},
   "outputs": [],
   "source": []
  },
  {
   "cell_type": "code",
   "execution_count": 261,
   "id": "7e4fcd30",
   "metadata": {},
   "outputs": [
    {
     "name": "stderr",
     "output_type": "stream",
     "text": [
      "100%|██████████████████████████████████████████████████████████████████████████████| 141/141 [00:00<00:00, 2019.68it/s]\n",
      "100%|██████████████████████████████████████████████████████████████████████████████| 174/174 [00:00<00:00, 1981.80it/s]\n",
      "100%|████████████████████████████████████████████████████████████████████████████████| 82/82 [00:00<00:00, 1912.11it/s]\n",
      "100%|██████████████████████████████████████████████████████████████████████████████| 115/115 [00:00<00:00, 1953.22it/s]\n",
      "100%|██████████████████████████████████████████████████████████████████████████████| 139/139 [00:00<00:00, 1991.04it/s]\n"
     ]
    }
   ],
   "source": [
    "arraytraining = []\n",
    "\n",
    "def init_data():\n",
    "    for i in range(len(pieces)): \n",
    "\n",
    "        path = os.path.join(filePath,pieces[i]) \n",
    "        numberclass = i  \n",
    "\n",
    "        for pixels in tqdm(os.listdir(path)):  \n",
    "                set_pic = cv2.imread(os.path.join(path,pixels) ,cv2.IMREAD_GRAYSCALE)  \n",
    "                resized = cv2.resize(set_pic, (imagesize, imagesize))  \n",
    "                arraytraining.append([resized, numberclass])  \n",
    "                \n",
    "init_data()\n"
   ]
  },
  {
   "cell_type": "code",
   "execution_count": 262,
   "id": "c9fa4daf",
   "metadata": {},
   "outputs": [],
   "source": [
    "\n",
    "np.random.shuffle(arraytraining)"
   ]
  },
  {
   "cell_type": "code",
   "execution_count": 263,
   "id": "630a66b7",
   "metadata": {},
   "outputs": [
    {
     "name": "stdout",
     "output_type": "stream",
     "text": [
      "1\n",
      "1\n",
      "1\n",
      "4\n",
      "1\n",
      "2\n",
      "1\n",
      "0\n",
      "1\n",
      "4\n",
      "1\n",
      "4\n",
      "4\n",
      "0\n",
      "1\n",
      "1\n",
      "1\n",
      "4\n",
      "4\n",
      "3\n"
     ]
    }
   ],
   "source": [
    "for preview in arraytraining[:20]:\n",
    "    print(preview[1])"
   ]
  },
  {
   "cell_type": "code",
   "execution_count": 264,
   "id": "c7cb8fac",
   "metadata": {
    "scrolled": true
   },
   "outputs": [
    {
     "name": "stdout",
     "output_type": "stream",
     "text": [
      "[[[[255]\n",
      "   [255]\n",
      "   [255]\n",
      "   ...\n",
      "   [255]\n",
      "   [255]\n",
      "   [255]]\n",
      "\n",
      "  [[255]\n",
      "   [255]\n",
      "   [255]\n",
      "   ...\n",
      "   [255]\n",
      "   [255]\n",
      "   [255]]\n",
      "\n",
      "  [[255]\n",
      "   [255]\n",
      "   [255]\n",
      "   ...\n",
      "   [254]\n",
      "   [255]\n",
      "   [255]]\n",
      "\n",
      "  ...\n",
      "\n",
      "  [[255]\n",
      "   [255]\n",
      "   [255]\n",
      "   ...\n",
      "   [255]\n",
      "   [255]\n",
      "   [255]]\n",
      "\n",
      "  [[255]\n",
      "   [255]\n",
      "   [255]\n",
      "   ...\n",
      "   [255]\n",
      "   [255]\n",
      "   [255]]\n",
      "\n",
      "  [[255]\n",
      "   [255]\n",
      "   [255]\n",
      "   ...\n",
      "   [255]\n",
      "   [255]\n",
      "   [255]]]]\n"
     ]
    }
   ],
   "source": [
    "\n",
    "trainX = []\n",
    "trainy = []\n",
    "\n",
    "for xis,yis, in arraytraining:\n",
    "    trainX.append(xis)\n",
    "    trainy.append(yis)\n",
    "\n",
    "print(trainX[0].reshape(-1, imagesize, imagesize, 1))\n",
    "\n",
    "trainX = np.array(trainX).reshape(-1, imagesize, imagesize, 1)"
   ]
  },
  {
   "cell_type": "code",
   "execution_count": 265,
   "id": "35338457",
   "metadata": {},
   "outputs": [],
   "source": [
    "\n",
    "from tempfile import TemporaryFile\n",
    "\n",
    "xfile = TemporaryFile() #opening a file to save all the data for re-use\n",
    "\n",
    "np.save(xfile, trainX) #saving the data using numpy\n",
    "\n",
    "yfile = TemporaryFile()\n",
    "np.save(yfile,trainy) \n",
    "\n"
   ]
  },
  {
   "cell_type": "code",
   "execution_count": 266,
   "id": "1e2397d1",
   "metadata": {},
   "outputs": [],
   "source": [
    "\n",
    "_= xfile.seek(0)\n",
    "_= yfile.seek(0)\n",
    "trainX=np.load(xfile)\n",
    "trainy=np.load(yfile)"
   ]
  },
  {
   "cell_type": "code",
   "execution_count": 251,
   "id": "ffe09392",
   "metadata": {
    "scrolled": true
   },
   "outputs": [
    {
     "data": {
      "text/plain": [
       "array([[[247],\n",
       "        [247],\n",
       "        [247],\n",
       "        ...,\n",
       "        [247],\n",
       "        [247],\n",
       "        [247]],\n",
       "\n",
       "       [[247],\n",
       "        [247],\n",
       "        [247],\n",
       "        ...,\n",
       "        [247],\n",
       "        [247],\n",
       "        [247]],\n",
       "\n",
       "       [[247],\n",
       "        [247],\n",
       "        [247],\n",
       "        ...,\n",
       "        [247],\n",
       "        [247],\n",
       "        [247]],\n",
       "\n",
       "       ...,\n",
       "\n",
       "       [[247],\n",
       "        [247],\n",
       "        [247],\n",
       "        ...,\n",
       "        [247],\n",
       "        [247],\n",
       "        [247]],\n",
       "\n",
       "       [[247],\n",
       "        [247],\n",
       "        [247],\n",
       "        ...,\n",
       "        [247],\n",
       "        [247],\n",
       "        [247]],\n",
       "\n",
       "       [[247],\n",
       "        [247],\n",
       "        [247],\n",
       "        ...,\n",
       "        [247],\n",
       "        [247],\n",
       "        [247]]], dtype=uint8)"
      ]
     },
     "execution_count": 251,
     "metadata": {},
     "output_type": "execute_result"
    }
   ],
   "source": [
    "trainX[1]"
   ]
  },
  {
   "cell_type": "code",
   "execution_count": 295,
   "id": "05c9f441",
   "metadata": {},
   "outputs": [
    {
     "name": "stdout",
     "output_type": "stream",
     "text": [
      "Epoch 1/10\n",
      "19/19 [==============================] - 9s 426ms/step - loss: 1.6076 - accuracy: 0.2513 - val_loss: 1.6209 - val_accuracy: 0.2727\n",
      "Epoch 2/10\n",
      "19/19 [==============================] - 8s 422ms/step - loss: 1.5724 - accuracy: 0.2821 - val_loss: 1.5982 - val_accuracy: 0.3333\n",
      "Epoch 3/10\n",
      "19/19 [==============================] - 8s 413ms/step - loss: 1.5161 - accuracy: 0.3282 - val_loss: 1.5701 - val_accuracy: 0.2576\n",
      "Epoch 4/10\n",
      "19/19 [==============================] - 8s 426ms/step - loss: 1.3763 - accuracy: 0.4205 - val_loss: 1.4302 - val_accuracy: 0.4394\n",
      "Epoch 5/10\n",
      "19/19 [==============================] - 8s 419ms/step - loss: 1.1493 - accuracy: 0.5590 - val_loss: 1.4595 - val_accuracy: 0.3485\n",
      "Epoch 6/10\n",
      "19/19 [==============================] - 8s 403ms/step - loss: 1.0031 - accuracy: 0.6188 - val_loss: 1.4013 - val_accuracy: 0.4545\n",
      "Epoch 7/10\n",
      "19/19 [==============================] - 8s 401ms/step - loss: 0.8183 - accuracy: 0.7009 - val_loss: 1.3202 - val_accuracy: 0.5909\n",
      "Epoch 8/10\n",
      "19/19 [==============================] - 8s 401ms/step - loss: 0.6728 - accuracy: 0.7607 - val_loss: 1.5382 - val_accuracy: 0.5303\n",
      "Epoch 9/10\n",
      "19/19 [==============================] - 7s 392ms/step - loss: 0.5281 - accuracy: 0.8205 - val_loss: 1.5317 - val_accuracy: 0.6061\n",
      "Epoch 10/10\n",
      "19/19 [==============================] - 8s 406ms/step - loss: 0.4376 - accuracy: 0.8513 - val_loss: 1.9242 - val_accuracy: 0.4848\n",
      "21/21 [==============================] - 2s 106ms/step - loss: 0.5244 - accuracy: 0.8126\n"
     ]
    },
    {
     "name": "stderr",
     "output_type": "stream",
     "text": [
      "WARNING:absl:Found untraced functions such as _jit_compiled_convolution_op, _jit_compiled_convolution_op, _jit_compiled_convolution_op while saving (showing 3 of 3). These functions will not be directly callable after loading.\n"
     ]
    },
    {
     "name": "stdout",
     "output_type": "stream",
     "text": [
      "INFO:tensorflow:Assets written to: CNN.model\\assets\n"
     ]
    },
    {
     "name": "stderr",
     "output_type": "stream",
     "text": [
      "INFO:tensorflow:Assets written to: CNN.model\\assets\n"
     ]
    }
   ],
   "source": [
    "import tensorflow as tf\n",
    "from tensorflow.keras.models import Sequential\n",
    "from tensorflow.keras.layers import Dense, Dropout, Activation, Flatten\n",
    "from tensorflow.keras.layers import Conv2D, MaxPooling2D\n",
    "from tensorflow.keras.datasets import cifar10\n",
    "from tensorflow.keras.preprocessing.image import ImageDataGenerator\n",
    "\n",
    "\n",
    "\n",
    "_= xfile.seek(0) #closing  the file to load the data later \n",
    "_= yfile.seek(0)\n",
    "\n",
    "X=np.load(xfile) # load the file of values we created\n",
    "y=np.load(yfile)\n",
    "\n",
    "X = X/255.0#this is going to normalize the data\n",
    "\n",
    "model = Sequential()\n",
    "\n",
    "model.add(Conv2D(256, (3, 3), input_shape=X.shape[1:]))  #add conv2d layer\n",
    "model.add(Activation('relu')) #add activation layer\n",
    "model.add(MaxPooling2D(pool_size=(2, 2))) #add pooling\n",
    "\n",
    "model.add(Conv2D(256, (3, 3)))\n",
    "model.add(Activation('relu'))\n",
    "model.add(MaxPooling2D(pool_size=(2, 2)))\n",
    "\n",
    "model.add(Conv2D(256, (3, 3)))\n",
    "model.add(Activation('relu'))\n",
    "model.add(MaxPooling2D(pool_size=(2, 2)))\n",
    "\n",
    "\n",
    "\n",
    "model.add(Flatten())  # 3d feature maps areconverted into 2d features \n",
    "\n",
    "model.add(Dense(64))\n",
    "\n",
    "#model.add(Dense(1))\n",
    "\n",
    "#model.add(Activation('sigmoid'))\n",
    "model.add(Dense(5))\n",
    "model.add(Activation('softmax'))#softmax is used for non binary data \n",
    "\n",
    "model.compile(loss='sparse_categorical_crossentropy',\n",
    "              optimizer='adam',\n",
    "              metrics=['accuracy'])\n",
    "y=np.array(y)\n",
    "\n",
    "mymodel=model.fit(X, y, batch_size=32, epochs=10, validation_split=0.1)\n",
    "model.evaluate(X,y)\n",
    "\n",
    "model.save('CNN.model')\n"
   ]
  },
  {
   "cell_type": "code",
   "execution_count": 296,
   "id": "ebce5617",
   "metadata": {},
   "outputs": [
    {
     "name": "stdout",
     "output_type": "stream",
     "text": [
      "1/1 [==============================] - 0s 102ms/step\n",
      "[[1. 0. 0. 0. 0.]]\n",
      "bishop\n"
     ]
    }
   ],
   "source": [
    "import cv2\n",
    "import tensorflow as tf\n",
    "\n",
    "def maker(filepath):\n",
    "    \n",
    "    sizeofimg = 50  # 50 in txt-based\n",
    "    readarray = cv2.imread(filepath, cv2.IMREAD_GRAYSCALE)\n",
    "    resizedarr = cv2.resize(readarray, (sizeofimg, sizeofimg))\n",
    "    x=resizedarr.reshape(-1, sizeofimg, sizeofimg, 1)\n",
    "    return x\n",
    "\n",
    "\n",
    "model = tf.keras.models.load_model(\"CNN.model\")\n",
    "def prediction(model):\n",
    "    guess = model.predict([maker('bishop1.jpg')])\n",
    "    print(guess)  # will be a list in a list.\n",
    "    count=0\n",
    "    for i in guess[0]:\n",
    "        if(i==1.0):\n",
    "            break\n",
    "        else:\n",
    "         count+=1\n",
    "    if(count==0):\n",
    "        print(\"bishop\")\n",
    "    elif(count==1):    \n",
    "        print(\"knight\")\n",
    "    elif(count==2):\n",
    "        print(\"pawn\")\n",
    "    elif(count==3):\n",
    "        print(\"queen\")\n",
    "    elif(count==4):\n",
    "        print(\"rook\")\n",
    "prediction(model)        \n",
    "        \n",
    "    "
   ]
  },
  {
   "cell_type": "code",
   "execution_count": 291,
   "id": "6c394eb7",
   "metadata": {},
   "outputs": [
    {
     "data": {
      "image/png": "[encoded data removed]",
      "text/plain": [
       "<Figure size 432x288 with 1 Axes>"
      ]
     },
     "metadata": {
      "needs_background": "light"
     },
     "output_type": "display_data"
    }
   ],
   "source": [
    "graph = pd.DataFrame(mymodel.history)\n",
    "\n",
    "graph[['loss', 'val_loss']].plot()\n",
    "graph[['accuracy', 'val_accuracy']].plot\n",
    "plt.show()\n",
    "\n"
   ]
  },
  {
   "cell_type": "code",
   "execution_count": 287,
   "id": "127a257b",
   "metadata": {},
   "outputs": [
    {
     "data": {
      "image/png": "[encoded data removed]",
      "text/plain": [
       "<Figure size 432x288 with 1 Axes>"
      ]
     },
     "metadata": {
      "needs_background": "light"
     },
     "output_type": "display_data"
    }
   ],
   "source": [
    "graph[['accuracy', 'val_accuracy']].plot()\n",
    "plt.show()"
   ]
  },
  {
   "cell_type": "code",
   "execution_count": null,
   "id": "10e1d6af",
   "metadata": {},
   "outputs": [],
   "source": []
  }
 ],
 "metadata": {
  "kernelspec": {
   "display_name": "Python 3 (ipykernel)",
   "language": "python",
   "name": "python3"
  },
  "language_info": {
   "codemirror_mode": {
    "name": "ipython",
    "version": 3
   },
   "file_extension": ".py",
   "mimetype": "text/x-python",
   "name": "python",
   "nbconvert_exporter": "python",
   "pygments_lexer": "ipython3",
   "version": "3.9.12"
  }
 },
 "nbformat": 4,
 "nbformat_minor": 5
}
