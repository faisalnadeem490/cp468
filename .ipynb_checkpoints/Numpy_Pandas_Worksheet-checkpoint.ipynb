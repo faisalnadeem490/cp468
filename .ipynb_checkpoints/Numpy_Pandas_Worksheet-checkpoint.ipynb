{
 "cells": [
  {
   "cell_type": "markdown",
   "metadata": {
    "id": "bxrbwI83MB69",
    "nbgrader": {
     "grade": false,
     "grade_id": "intro",
     "locked": true,
     "schema_version": 2,
     "solution": false
    },
    "pycharm": {
     "name": "#%% md\n"
    }
   },
   "source": [
    "# Worksheet 1\n",
    "\n",
    "**Motive:**\n",
    "\n",
    "This worksheet is meant to familiarize yourself with Jupyter Notebook, NumPy, and Pandas library. \n",
    "\n",
    "**Additional notes:**\n",
    "\n",
    "Notebooks consist of a linear sequence of cells. There are three basic cell types:\n",
    "\n",
    "- Code cells: Input and output of live code that is run in the kernel (Grey color). Code in this cell is executable and '#' is used to write the comment in the code cell. To see the output/run the code cell **Cmd/Ctrl+Enter**\n",
    "\n",
    "- Markdown cells: Narrative text with embedded LaTeX equations (White color).\n",
    "\n",
    "- Raw cells: Unformatted text that is included, without modification (White color).\n",
    "\n",
    "For more information on Jupyter notebook, [Click here](https://www.edureka.co/blog/wp-content/uploads/2018/10/Jupyter_Notebook_CheatSheet_Edureka.pdf)\n",
    "\n",
    "You should become familiar with reading the comments within the Code cells. This is usually where instructions and explanations are \"hidden\" on how to get the function to work. A comment in the code cell is preceded by a `\\#` to ensure that the comment will not be read when the code is executed. To view the Python documentation for a function, use the `help` function. To run the below code cell, click your mouse anywhere on `print()` and use **Cmd/Ctrl+Enter** to run and view the function's documentation. When you double click the code cell, it would become editable and you can make changes and then run the cell using **Cmd/Ctrl+Enter**."
   ]
  },
  {
   "cell_type": "code",
   "execution_count": 4,
   "metadata": {
    "ExecuteTime": {
     "end_time": "2019-01-18T23:27:51.618364Z",
     "start_time": "2019-01-18T23:27:51.596329Z"
    },
    "id": "lkFL_eBGMB7E",
    "outputId": "6298282e-0444-4801-c56c-fa5f139dc74a"
   },
   "outputs": [
    {
     "name": "stdout",
     "output_type": "stream",
     "text": [
      "Help on built-in function print in module builtins:\n",
      "\n",
      "print(...)\n",
      "    print(value, ..., sep=' ', end='\\n', file=sys.stdout, flush=False)\n",
      "    \n",
      "    Prints the values to a stream, or to sys.stdout by default.\n",
      "    Optional keyword arguments:\n",
      "    file:  a file-like object (stream); defaults to the current sys.stdout.\n",
      "    sep:   string inserted between values, default a space.\n",
      "    end:   string appended after the last value, default a newline.\n",
      "    flush: whether to forcibly flush the stream.\n",
      "\n"
     ]
    }
   ],
   "source": [
    "help(print)   "
   ]
  },
  {
   "cell_type": "markdown",
   "metadata": {
    "id": "VfalI-oUMB7G"
   },
   "source": [
    "**Importing libraries**\n",
    "\n",
    "We will be using various Python libraries to help the processing of data. By convention, we import all libraries at the very top of the notebook. "
   ]
  },
  {
   "cell_type": "code",
   "execution_count": 3,
   "metadata": {
    "ExecuteTime": {
     "end_time": "2019-01-18T23:27:53.746048Z",
     "start_time": "2019-01-18T23:27:51.644613Z"
    },
    "id": "IYrIEHVZMB7H"
   },
   "outputs": [],
   "source": [
    "import pandas as pd\n",
    "import numpy as np"
   ]
  },
  {
   "cell_type": "markdown",
   "metadata": {},
   "source": [
    "**Keyboard shortcuts**\n",
    "\n",
    "Following are the keyboard shortcuts to become proficient with Jupyter notebooks. To learn more about keyboard shortcuts, go to **Help --> Keyboard Shortcuts** in the menu above. \n",
    "\n",
    "1. `Ctrl` + `Return` : *Evaluate the current cell*\n",
    "1. `Shift` + `Return`: *Evaluate the current cell and move to the next*\n",
    "1. `ESC` : *command mode* (may need to press before using any of the commands below)\n",
    "1. `a` : *create a cell above*\n",
    "1. `b` : *create a cell below*\n",
    "1. `dd` : *delete a cell*\n",
    "1. `z` : *undo the last cell operation*\n",
    "1. `m` : *convert a cell to markdown*\n",
    "1. `y` : *convert a cell to code*"
   ]
  },
  {
   "cell_type": "markdown",
   "metadata": {
    "id": "PmCxCEb4MB7H"
   },
   "source": [
    "---\n",
    "## Part 1: NumPy\n",
    "\n",
    "Let's start the discussion from NumPy (Numerical computation tool). It is one of the most widely used python libraries and used for working with arrays. NumPy offers comprehensive mathematical functions, random number generators, linear algebra routines, Fourier transforms, and more. In the previous course, you have used Python lists that serve the purpose of arrays, but they are slow to process. NumPy aims to provide an array object that is up to 50x faster than traditional Python lists.\n",
    "\n"
   ]
  },
  {
   "cell_type": "markdown",
   "metadata": {
    "id": "uanHxOmdmqC6"
   },
   "source": [
    "*NumPy gives you an enormous range of fast and efficient ways of creating arrays and manipulating numerical data inside them. While a Python list can contain different data types within a single list, all of the elements in a NumPy array should be homogenous. The mathematical operations that are meant to be performed on arrays would be extremely inefficient if the arrays weren’t homogenous.* "
   ]
  },
  {
   "cell_type": "markdown",
   "metadata": {
    "id": "SnrxhpL0-7To"
   },
   "source": [
    "Let's start with the most important object in NumPy that is the ndarray."
   ]
  },
  {
   "cell_type": "code",
   "execution_count": 8,
   "metadata": {
    "colab": {
     "base_uri": "https://localhost:8080/"
    },
    "id": "XtOi2KT-_WLn",
    "outputId": "9e9da886-1c8f-44b4-9f5c-129fe1f8c206"
   },
   "outputs": [
    {
     "name": "stdout",
     "output_type": "stream",
     "text": [
      "[1 2 3]\n"
     ]
    },
    {
     "data": {
      "text/plain": [
       "numpy.ndarray"
      ]
     },
     "execution_count": 8,
     "metadata": {},
     "output_type": "execute_result"
    }
   ],
   "source": [
    "array = np.array((1, 2, 3)) # creates a one-dimensional array. \n",
    "print(array)\n",
    "type(array)"
   ]
  },
  {
   "cell_type": "code",
   "execution_count": 9,
   "metadata": {
    "colab": {
     "base_uri": "https://localhost:8080/"
    },
    "id": "b-hTrDYkAQsM",
    "outputId": "34885bd7-32b5-482c-806f-bd8b62539a4d"
   },
   "outputs": [
    {
     "name": "stdout",
     "output_type": "stream",
     "text": [
      "[1 2 3]\n"
     ]
    }
   ],
   "source": [
    "my_list = [1,2,3]\n",
    "\n",
    "array = np.array(my_list)\n",
    "\n",
    "print(array)"
   ]
  },
  {
   "cell_type": "markdown",
   "metadata": {
    "id": "cUqZlBzdMB7M"
   },
   "source": [
    "To create arrays from range, we can use np.arange(START, STOP, STEP) function is like the python range function. The np. arange(...) function returns evenly spaced values within a given interval. For integer arguments, the method is equivalent to a Python inbuilt range function but returns the ndarray rather than a list."
   ]
  },
  {
   "cell_type": "code",
   "execution_count": 10,
   "metadata": {
    "colab": {
     "base_uri": "https://localhost:8080/"
    },
    "id": "-Pm9OTFyMB7N",
    "outputId": "74ffc9c7-ee86-46f5-e26b-73967b0ffc19"
   },
   "outputs": [
    {
     "data": {
      "text/plain": [
       "array([0, 2, 4, 6, 8])"
      ]
     },
     "execution_count": 10,
     "metadata": {},
     "output_type": "execute_result"
    }
   ],
   "source": [
    "np.arange(0, 10, 2)"
   ]
  },
  {
   "cell_type": "markdown",
   "metadata": {
    "id": "XnPe39RFMB7N"
   },
   "source": [
    "You can make a range of other types as well:"
   ]
  },
  {
   "cell_type": "code",
   "execution_count": 11,
   "metadata": {
    "id": "G0LAK0GaMB7N",
    "outputId": "814c2a4d-3e13-4e16-e60b-3b1600c88751"
   },
   "outputs": [
    {
     "data": {
      "text/plain": [
       "array(['2016-12-31', '2017-01-01', '2017-01-02', '2017-01-03',\n",
       "       '2017-01-04', '2017-01-05', '2017-01-06', '2017-01-07',\n",
       "       '2017-01-08', '2017-01-09', '2017-01-10', '2017-01-11',\n",
       "       '2017-01-12', '2017-01-13', '2017-01-14', '2017-01-15',\n",
       "       '2017-01-16', '2017-01-17', '2017-01-18', '2017-01-19',\n",
       "       '2017-01-20', '2017-01-21', '2017-01-22', '2017-01-23',\n",
       "       '2017-01-24', '2017-01-25', '2017-01-26', '2017-01-27',\n",
       "       '2017-01-28', '2017-01-29', '2017-01-30', '2017-01-31'],\n",
       "      dtype='datetime64[D]')"
      ]
     },
     "execution_count": 11,
     "metadata": {},
     "output_type": "execute_result"
    }
   ],
   "source": [
    "np.arange(np.datetime64('2016-12-31'), np.datetime64('2017-02-01'))"
   ]
  },
  {
   "cell_type": "markdown",
   "metadata": {
    "id": "yeVzBvWGA-E7"
   },
   "source": [
    "To create a two-dimensional array using NumPy, instead of passing the list now we have to pass a list of tuples or list of lists as given below."
   ]
  },
  {
   "cell_type": "code",
   "execution_count": 21,
   "metadata": {
    "colab": {
     "base_uri": "https://localhost:8080/"
    },
    "id": "ei6qp1w0Afd1",
    "outputId": "66b3e91d-4510-44f4-b69d-3b63dcb6aa46"
   },
   "outputs": [
    {
     "name": "stdout",
     "output_type": "stream",
     "text": [
      "[[1 2 3]\n",
      " [4 5 6]\n",
      " [7 8 9]]\n"
     ]
    }
   ],
   "source": [
    "two_dim_array = np.array([(1,2,3), (4,5,6), (7,8,9)])\n",
    "print(two_dim_array)"
   ]
  },
  {
   "cell_type": "markdown",
   "metadata": {
    "id": "t2435nw1BiW3"
   },
   "source": [
    "If the number of elements are not equal in the lists used to create a ndarray, then NumPy will create an array of a list, see the example below:"
   ]
  },
  {
   "cell_type": "code",
   "execution_count": 9,
   "metadata": {
    "colab": {
     "base_uri": "https://localhost:8080/"
    },
    "id": "AtnJZBgqBZBx",
    "outputId": "3b6dde27-92d3-4026-f403-000d90c1a84e"
   },
   "outputs": [
    {
     "name": "stdout",
     "output_type": "stream",
     "text": [
      "[(1, 2, 3) (4, 6) (7, 8, 9)]\n"
     ]
    },
    {
     "name": "stderr",
     "output_type": "stream",
     "text": [
      "/Volumes/dATA/anaconda/anaconda3/lib/python3.7/site-packages/ipykernel_launcher.py:1: VisibleDeprecationWarning: Creating an ndarray from ragged nested sequences (which is a list-or-tuple of lists-or-tuples-or ndarrays with different lengths or shapes) is deprecated. If you meant to do this, you must specify 'dtype=object' when creating the ndarray\n",
      "  \"\"\"Entry point for launching an IPython kernel.\n"
     ]
    }
   ],
   "source": [
    "array = np.array([(1,2,3), (4,6), (7,8,9)])\n",
    "\n",
    "print(array)"
   ]
  },
  {
   "cell_type": "markdown",
   "metadata": {
    "deletable": false,
    "editable": false
   },
   "source": [
    "<!-- BEGIN QUESTION -->\n",
    "\n",
    "### Question 1\n",
    "\n",
    "##### Create a vector with values ranging from 10 to 99 and name it \"n_array\"\n",
    "<!--\n",
    "BEGIN QUESTION\n",
    "name: q1\n",
    "manual: true\n",
    "-->"
   ]
  },
  {
   "cell_type": "code",
   "execution_count": 20,
   "metadata": {
    "colab": {
     "base_uri": "https://localhost:8080/"
    },
    "id": "OBrOxrd-MB7Q",
    "outputId": "ae945723-ae13-48f6-efa9-f5ff7c08a52d"
   },
   "outputs": [
    {
     "name": "stdout",
     "output_type": "stream",
     "text": [
      "[10 11 12 13 14 15 16 17 18 19 20 21 22 23 24 25 26 27 28 29 30 31 32 33\n",
      " 34 35 36 37 38 39 40 41 42 43 44 45 46 47 48 49 50 51 52 53 54 55 56 57\n",
      " 58 59 60 61 62 63 64 65 66 67 68 69 70 71 72 73 74 75 76 77 78 79 80 81\n",
      " 82 83 84 85 86 87 88 89 90 91 92 93 94 95 96 97 98 99]\n"
     ]
    }
   ],
   "source": [
    "# Write your code here\n",
    "# BEGIN SOLUTION\n",
    "n_array = 10 + np.arange(90) \n",
    "# OR\n",
    "# n_array = np.arange(10,100)\n",
    "print(n_array)\n",
    "# END SOLUTION"
   ]
  },
  {
   "cell_type": "markdown",
   "metadata": {
    "id": "8YQLJjF5MB7R"
   },
   "source": [
    "<!-- END QUESTION -->\n",
    "\n",
    "\n",
    "\n",
    "<!-- END QUESTION -->\n",
    "\n",
    "\n",
    "\n",
    "### Properties of arrays\n",
    "\n",
    "The properties of the array do not require (...) in the end, as these are the attributes of the array. \n",
    "\n",
    "\n",
    "1. Arrays have a shape attribute that corresponds to the number of rows, columns."
   ]
  },
  {
   "cell_type": "code",
   "execution_count": 11,
   "metadata": {
    "colab": {
     "base_uri": "https://localhost:8080/"
    },
    "id": "WQlyPj6kMB7R",
    "outputId": "ce6b85d0-ed5a-41ff-ff91-b4656dac8ac2"
   },
   "outputs": [
    {
     "name": "stdout",
     "output_type": "stream",
     "text": [
      "(3, 3)\n"
     ]
    }
   ],
   "source": [
    "print(two_dim_array.shape)"
   ]
  },
  {
   "cell_type": "markdown",
   "metadata": {
    "id": "Xu5xmaxsMB7R"
   },
   "source": [
    "2. Arrays have a type that corresponds to the type of data they contain. There are 5 basic numerical data types are available viz. booleans (bool), integers (int), unsigned integers (uint) floating-point (float) and complex. The array(...) function along with an optional argument `dtype` allows defining the expected data type of the array elements."
   ]
  },
  {
   "cell_type": "code",
   "execution_count": 12,
   "metadata": {
    "colab": {
     "base_uri": "https://localhost:8080/"
    },
    "id": "GqkpVLrojDhA",
    "outputId": "87a04705-cecf-4138-9126-3d5eae663a44"
   },
   "outputs": [
    {
     "data": {
      "text/plain": [
       "array([1, 2, 4], dtype=int32)"
      ]
     },
     "execution_count": 12,
     "metadata": {},
     "output_type": "execute_result"
    }
   ],
   "source": [
    "y = np.int32([1,2,4])\n",
    "y"
   ]
  },
  {
   "cell_type": "code",
   "execution_count": 13,
   "metadata": {
    "colab": {
     "base_uri": "https://localhost:8080/"
    },
    "id": "AxE8Vefdiyq1",
    "outputId": "ee58fa5a-6b8d-4d8b-8e9b-c07313d3ade6"
   },
   "outputs": [
    {
     "data": {
      "text/plain": [
       "array([1., 2.], dtype=float32)"
      ]
     },
     "execution_count": 13,
     "metadata": {},
     "output_type": "execute_result"
    }
   ],
   "source": [
    "x = np.float32([1.0, 2.0])\n",
    "x"
   ]
  },
  {
   "cell_type": "code",
   "execution_count": 18,
   "metadata": {
    "colab": {
     "base_uri": "https://localhost:8080/"
    },
    "id": "DQGApx4bjWTY",
    "outputId": "d32ae536-0e1e-4c27-b65d-94e0ed7413ac"
   },
   "outputs": [
    {
     "data": {
      "text/plain": [
       "array([0, 2, 4, 6], dtype=uint8)"
      ]
     },
     "execution_count": 18,
     "metadata": {},
     "output_type": "execute_result"
    }
   ],
   "source": [
    "z = np.arange(start=0,stop=8,step=2, dtype=np.uint8)\n",
    "z"
   ]
  },
  {
   "cell_type": "markdown",
   "metadata": {
    "id": "pRAn07vAMB7S"
   },
   "source": [
    "To return the data type of NumPy array object, we can use `dtype` attribute of the array:"
   ]
  },
  {
   "cell_type": "code",
   "execution_count": 15,
   "metadata": {
    "colab": {
     "base_uri": "https://localhost:8080/"
    },
    "id": "6Q1ZcYijMB7S",
    "outputId": "de1ea472-5a17-44f5-8c4a-0e7e1034ee7d"
   },
   "outputs": [
    {
     "data": {
      "text/plain": [
       "dtype('bool')"
      ]
     },
     "execution_count": 15,
     "metadata": {},
     "output_type": "execute_result"
    }
   ],
   "source": [
    "w=np.array([True, False, True, False])\n",
    "w.dtype"
   ]
  },
  {
   "cell_type": "code",
   "execution_count": 16,
   "metadata": {
    "colab": {
     "base_uri": "https://localhost:8080/"
    },
    "id": "dNPHc-_JMB7T",
    "outputId": "149ed9eb-890a-4223-f3ee-de442cf7ffa5"
   },
   "outputs": [
    {
     "data": {
      "text/plain": [
       "dtype('int64')"
      ]
     },
     "execution_count": 16,
     "metadata": {},
     "output_type": "execute_result"
    }
   ],
   "source": [
    "two_dim_array.dtype"
   ]
  },
  {
   "cell_type": "markdown",
   "metadata": {
    "id": "40DNvYsWkHlJ"
   },
   "source": [
    "To convert the type of array to another data type, we can use the `.astype(DATA_TYPE)` method. For example:"
   ]
  },
  {
   "cell_type": "code",
   "execution_count": 17,
   "metadata": {
    "colab": {
     "base_uri": "https://localhost:8080/"
    },
    "id": "zZmoYa7UkQFA",
    "outputId": "1413f70e-0798-4ce5-b142-6b7f60ee27c9"
   },
   "outputs": [
    {
     "data": {
      "text/plain": [
       "array([0., 2., 4., 6.])"
      ]
     },
     "execution_count": 17,
     "metadata": {},
     "output_type": "execute_result"
    }
   ],
   "source": [
    "z.astype(float)     "
   ]
  },
  {
   "cell_type": "markdown",
   "metadata": {
    "id": "IV9Cu5DBLwqz"
   },
   "source": [
    "3. To check the dimension of an array, we can use the `ndim` attribute."
   ]
  },
  {
   "cell_type": "code",
   "execution_count": 18,
   "metadata": {
    "colab": {
     "base_uri": "https://localhost:8080/"
    },
    "id": "iPH8R1RZK2F0",
    "outputId": "fdbde739-a427-4692-9586-3409b542a83c"
   },
   "outputs": [
    {
     "name": "stdout",
     "output_type": "stream",
     "text": [
      "1\n",
      "2\n"
     ]
    }
   ],
   "source": [
    "print(z.ndim)\n",
    "print(two_dim_array.ndim)"
   ]
  },
  {
   "cell_type": "markdown",
   "metadata": {
    "id": "bnP6T4JZMB7V"
   },
   "source": [
    "4.  To inspect the number of elements in an array, we can use `size` attribute."
   ]
  },
  {
   "cell_type": "code",
   "execution_count": 19,
   "metadata": {
    "colab": {
     "base_uri": "https://localhost:8080/"
    },
    "id": "qPtX2785MB7V",
    "outputId": "99d94c9b-c88d-4a50-bdcd-f9c66b37da0d"
   },
   "outputs": [
    {
     "data": {
      "text/plain": [
       "9"
      ]
     },
     "execution_count": 19,
     "metadata": {},
     "output_type": "execute_result"
    }
   ],
   "source": [
    "two_dim_array.size"
   ]
  },
  {
   "cell_type": "markdown",
   "metadata": {
    "id": "cfGp94miMB7V"
   },
   "source": [
    "5. To inspect the size in bytes of each element of the array, we can use the `itemsize` attribute. For example, an array of elements of type float64 has itemsize 8 (=64/8)"
   ]
  },
  {
   "cell_type": "code",
   "execution_count": 22,
   "metadata": {
    "colab": {
     "base_uri": "https://localhost:8080/"
    },
    "id": "H0pmepBqMB7V",
    "outputId": "0b1ce4e1-9101-434f-8f38-63b480091f01"
   },
   "outputs": [
    {
     "data": {
      "text/plain": [
       "4"
      ]
     },
     "execution_count": 22,
     "metadata": {},
     "output_type": "execute_result"
    }
   ],
   "source": [
    "two_dim_array.itemsize"
   ]
  },
  {
   "cell_type": "markdown",
   "metadata": {
    "id": "ePMh_eYuMB7W"
   },
   "source": [
    "6. To inspect the memory size of an array (in byte), we can use `nbytes` attribute.\n"
   ]
  },
  {
   "cell_type": "code",
   "execution_count": 23,
   "metadata": {
    "colab": {
     "base_uri": "https://localhost:8080/"
    },
    "id": "mF8vCBA6MB7W",
    "outputId": "4cfce449-a29e-495a-aded-79a44e7a9d46"
   },
   "outputs": [
    {
     "data": {
      "text/plain": [
       "36"
      ]
     },
     "execution_count": 23,
     "metadata": {},
     "output_type": "execute_result"
    }
   ],
   "source": [
    "# array.nbytes = array.size * array.itemsize\n",
    "two_dim_array.nbytes"
   ]
  },
  {
   "cell_type": "markdown",
   "metadata": {
    "id": "VWrtYkfMMB7X"
   },
   "source": [
    "To inspect general information of an array, we can use info(...) method."
   ]
  },
  {
   "cell_type": "code",
   "execution_count": 22,
   "metadata": {
    "colab": {
     "base_uri": "https://localhost:8080/"
    },
    "id": "-Sf2DPvdMB7X",
    "outputId": "ea21a86f-53b0-4751-f9c4-c89c3eee0d74"
   },
   "outputs": [
    {
     "name": "stdout",
     "output_type": "stream",
     "text": [
      "class:  ndarray\n",
      "shape:  (3, 3)\n",
      "strides:  (24, 8)\n",
      "itemsize:  8\n",
      "aligned:  True\n",
      "contiguous:  True\n",
      "fortran:  False\n",
      "data pointer: 0x7fe7f5fbbe50\n",
      "byteorder:  little\n",
      "byteswap:  False\n",
      "type: int64\n",
      "None\n"
     ]
    }
   ],
   "source": [
    "print(np.info(two_dim_array))"
   ]
  },
  {
   "cell_type": "markdown",
   "metadata": {
    "deletable": false,
    "editable": false,
    "id": "L6XejU96MB7X"
   },
   "source": [
    "<!-- BEGIN QUESTION -->\n",
    "\n",
    "<!-- BEGIN QUESTION -->\n",
    "\n",
    "### Question 2\n",
    "#####  Report the attributes (shape, dtype, size, itemsize, and nbytes) of NumPy array created in Question 1.\n",
    "<!--\n",
    "BEGIN QUESTION\n",
    "name: q2\n",
    "manual: true\n",
    "-->"
   ]
  },
  {
   "cell_type": "code",
   "execution_count": 24,
   "metadata": {
    "colab": {
     "base_uri": "https://localhost:8080/"
    },
    "id": "Z_x1SuVzMB7Y",
    "outputId": "1f869841-db97-40be-9560-60c24b1f2ee3"
   },
   "outputs": [
    {
     "name": "stdout",
     "output_type": "stream",
     "text": [
      "shape: (90,)\n",
      "dtype: int32\n",
      "size: 90\n",
      "itemsize: 4\n",
      "number of bytes of n_array: 360\n"
     ]
    }
   ],
   "source": [
    "# Write your code here\n",
    "# BEGIN SOLUTION\n",
    "print(\"shape:\", n_array.shape)\n",
    "print(\"dtype:\", n_array.dtype)\n",
    "print(\"size:\", n_array.size)\n",
    "print(\"itemsize:\", n_array.itemsize)\n",
    "print(\"number of bytes of n_array:\", n_array.nbytes)\n",
    "# END SOLUTION"
   ]
  },
  {
   "cell_type": "markdown",
   "metadata": {
    "id": "L_gRCmJ-JYw2"
   },
   "source": [
    "<!-- END QUESTION -->\n",
    "\n",
    "\n",
    "\n",
    "<!-- END QUESTION -->\n",
    "\n",
    "\n",
    "\n",
    "### Reshape function\n",
    "If we want to change the shape of an array after it is created, we can easily do it with `reshape(ROWS,COLUMNS)` function. "
   ]
  },
  {
   "cell_type": "code",
   "execution_count": 26,
   "metadata": {
    "colab": {
     "base_uri": "https://localhost:8080/"
    },
    "id": "BwQ3CqyRJRSw",
    "outputId": "d535ce38-ec06-4e18-9c37-88ecffa44442"
   },
   "outputs": [
    {
     "name": "stdout",
     "output_type": "stream",
     "text": [
      "[[1 2]\n",
      " [3 4]\n",
      " [5 6]\n",
      " [7 8]]\n"
     ]
    }
   ],
   "source": [
    "#creating a 2-d array\n",
    "two_dim_array1 = np.array([(1,2,3,4), (5,6,7,8)])\n",
    "\n",
    "two_dim_array1 = two_dim_array1.reshape(4,2)\n",
    "print(two_dim_array1)"
   ]
  },
  {
   "cell_type": "markdown",
   "metadata": {
    "id": "mjO5QWIrLdZl"
   },
   "source": [
    "*Note* - The new dimension must fit the number of elements in the original array. In the example above, the rows and columns can be interchangeable i.e. change rows and columns from (2,4) to (4,2) but cannot to (4,3). Because for (4,3) dimension, we need 12 elements, whereas we only have 8 elements. if try to reshape to this dimension, then Python will give an error as mentioned below:\n",
    "\n",
    "<font color='blue'> ValueError: cannot reshape array of size 8 into shape (4,3) </font>\n",
    "\n",
    "\n"
   ]
  },
  {
   "cell_type": "markdown",
   "metadata": {
    "id": "xI4-7wujMB7Z"
   },
   "source": [
    "### Flatting Matrix\n",
    "\n",
    "Flattening a matrix (higher dimensional array) produces a one-dimensional array.\n"
   ]
  },
  {
   "cell_type": "code",
   "execution_count": 28,
   "metadata": {
    "id": "CsC08w3XMB7Z"
   },
   "outputs": [],
   "source": [
    "one_dim=two_dim_array.flatten()"
   ]
  },
  {
   "cell_type": "markdown",
   "metadata": {
    "id": "dVQYDw46MB7a"
   },
   "source": [
    "### Indexing and Slicing\n",
    "\n",
    "**Indexing** \n",
    "\n",
    "Indexing is accessing an array element by referring to its index number. The indexes in NumPy arrays start with 0, meaning that the first element has index 0, and the second has index 1 etc. Numpy offers several ways to index into arrays."
   ]
  },
  {
   "cell_type": "markdown",
   "metadata": {
    "id": "4EJOH040MB7a"
   },
   "source": [
    "**Slicing**\n",
    "\n",
    "Slicing in python means taking elements from one given index to another given index. We can slice arrays similar to lists and pass slice instead of index like this: <font color='blue'>[start:end]</font>. We can also define the step, like this: <font color='blue'>[start:end:step]</font>. If we don't pass start it is considered 0. If we don't pass the end it is considered the length of the array in that dimension, and if we don't pass the step it is considered 1."
   ]
  },
  {
   "cell_type": "markdown",
   "metadata": {
    "id": "C2H0_KaQMq1k"
   },
   "source": [
    "For example, one_dim[1] will index the second element of my array but if I want a range we can use one_dim[0:2] which will bring me the first two elements as an array. Similarly, for the last value of the array, we can use one_dim[-1]."
   ]
  },
  {
   "cell_type": "code",
   "execution_count": 29,
   "metadata": {
    "id": "gkQpja6MMB7c",
    "outputId": "2482f35b-d35f-486e-cad3-253fd18b9ce4"
   },
   "outputs": [
    {
     "data": {
      "text/plain": [
       "9"
      ]
     },
     "execution_count": 29,
     "metadata": {},
     "output_type": "execute_result"
    }
   ],
   "source": [
    "one_dim[1] # returns the second element\n",
    "\n",
    "one_dim[0:2] # returns first two elements\n",
    "\n",
    "one_dim[-1] # returns the last element"
   ]
  },
  {
   "cell_type": "markdown",
   "metadata": {
    "id": "Y6HlAY3NMB7c"
   },
   "source": [
    "For a two-dimensional array, to select an element by row and column indices:"
   ]
  },
  {
   "cell_type": "code",
   "execution_count": 30,
   "metadata": {
    "id": "X0_oDI6XMB7c",
    "outputId": "ed8b51b6-a7ef-469a-9bcc-134e1b23e71d"
   },
   "outputs": [
    {
     "name": "stdout",
     "output_type": "stream",
     "text": [
      "9\n",
      "9\n"
     ]
    }
   ],
   "source": [
    "print(two_dim_array[2][2])\n",
    "# or more concisely\n",
    "print(two_dim_array[2,2])"
   ]
  },
  {
   "cell_type": "markdown",
   "metadata": {
    "id": "SjU3qsHkMB7d"
   },
   "source": [
    "To index with slicing"
   ]
  },
  {
   "cell_type": "code",
   "execution_count": 31,
   "metadata": {
    "colab": {
     "base_uri": "https://localhost:8080/"
    },
    "id": "G2RRojhsMB7d",
    "outputId": "b2ad1bab-3968-4280-da38-ad55515a3043"
   },
   "outputs": [
    {
     "name": "stdout",
     "output_type": "stream",
     "text": [
      "[[1 2]\n",
      " [4 5]]\n"
     ]
    }
   ],
   "source": [
    "print(two_dim_array[0:2, 0:2])"
   ]
  },
  {
   "cell_type": "markdown",
   "metadata": {
    "id": "SqJo2HAFMB7d"
   },
   "source": [
    "As the NumPy array is a mutable object, we can use indexing to update the values of the items in the array, similar to Python lists."
   ]
  },
  {
   "cell_type": "code",
   "execution_count": 29,
   "metadata": {
    "id": "x5zxUs4nMB7e",
    "outputId": "8da36286-9cd4-46ad-ca0f-7c7cada211b9"
   },
   "outputs": [
    {
     "name": "stdout",
     "output_type": "stream",
     "text": [
      "[[1 2 3]\n",
      " [4 5 6]\n",
      " [7 8 3]]\n",
      "[4 4 5 4 5 6 7 8 9]\n"
     ]
    }
   ],
   "source": [
    "two_dim_array[2, 2]=3\n",
    "print(two_dim_array)\n",
    "\n",
    "# Mutating with slicing\n",
    "one_dim[0:3]=[4,4,5]\n",
    "print(one_dim)"
   ]
  },
  {
   "cell_type": "markdown",
   "metadata": {
    "deletable": false,
    "editable": false,
    "id": "s_4m3NjpMB7e"
   },
   "source": [
    "<!-- BEGIN QUESTION -->\n",
    "\n",
    "<!-- BEGIN QUESTION -->\n",
    "\n",
    "### Question 3\n",
    "##### Write Python code below to create an 8x8 matrix and fill 0's and 1's to create a checkerboard pattern.\n",
    "\n",
    "_Hint: You can use np.zeros((ROWS,COLUMNS),dtype=int) to create an array with all zeros and then change the required values._\n",
    "\n",
    "<!--\n",
    "BEGIN QUESTION\n",
    "name: q3\n",
    "manual: true\n",
    "-->"
   ]
  },
  {
   "cell_type": "code",
   "execution_count": 30,
   "metadata": {
    "colab": {
     "base_uri": "https://localhost:8080/"
    },
    "id": "LdA_cqs1MB7e",
    "outputId": "65b4ad15-57cc-4251-cbf4-4700fdc5ce01"
   },
   "outputs": [
    {
     "name": "stdout",
     "output_type": "stream",
     "text": [
      "[[0 1 0 1 0 1 0 1]\n",
      " [1 0 1 0 1 0 1 0]\n",
      " [0 1 0 1 0 1 0 1]\n",
      " [1 0 1 0 1 0 1 0]\n",
      " [0 1 0 1 0 1 0 1]\n",
      " [1 0 1 0 1 0 1 0]\n",
      " [0 1 0 1 0 1 0 1]\n",
      " [1 0 1 0 1 0 1 0]]\n"
     ]
    }
   ],
   "source": [
    "# Write your code here\n",
    "# BEGIN SOLUTION\n",
    "Z = np.zeros((8,8),dtype=int)\n",
    "Z[1::2,::2] = 1\n",
    "Z[::2,1::2] = 1\n",
    "print(Z)\n",
    "# END SOLUTION"
   ]
  },
  {
   "cell_type": "markdown",
   "metadata": {
    "id": "hGm3eVRwMB7f"
   },
   "source": [
    "<!-- END QUESTION -->\n",
    "\n",
    "\n",
    "\n",
    "<!-- END QUESTION -->\n",
    "\n",
    "\n",
    "\n",
    "**Boolean indexing**\n",
    "\n",
    "If we want to choose which items in the array, the most natural way is to use boolean arrays that have the same shape as the original array."
   ]
  },
  {
   "cell_type": "code",
   "execution_count": 33,
   "metadata": {
    "colab": {
     "base_uri": "https://localhost:8080/"
    },
    "id": "BoIIeqYtMB7f",
    "outputId": "7282a37a-abaf-47ac-b034-cc930ce02022"
   },
   "outputs": [
    {
     "data": {
      "text/plain": [
       "array([[False, False, False, False],\n",
       "       [False, False,  True,  True],\n",
       "       [ True,  True,  True,  True],\n",
       "       [ True,  True,  True,  True]])"
      ]
     },
     "execution_count": 33,
     "metadata": {},
     "output_type": "execute_result"
    }
   ],
   "source": [
    "# Current code cell and next code cell are used to elaborate the to return the values in the array greater than 5.\n",
    "two_dim_array2 = np.arange(16).reshape(4,4)\n",
    "temp=two_dim_array2>5 # This would generate a boolean array of size array above.\n",
    "temp"
   ]
  },
  {
   "cell_type": "code",
   "execution_count": 34,
   "metadata": {
    "colab": {
     "base_uri": "https://localhost:8080/"
    },
    "id": "XEW4SuHKMB7f",
    "outputId": "ff060952-7425-4435-ac88-5f20530395f8"
   },
   "outputs": [
    {
     "data": {
      "text/plain": [
       "array([ 6,  7,  8,  9, 10, 11, 12, 13, 14, 15])"
      ]
     },
     "execution_count": 34,
     "metadata": {},
     "output_type": "execute_result"
    }
   ],
   "source": [
    "two_dim_array2[temp]  # or arr[np.where(arr>5)] #The statement returns the flatten array of elements"
   ]
  },
  {
   "cell_type": "markdown",
   "metadata": {
    "id": "6wYJITNCMB7g"
   },
   "source": [
    "We can use logical operators:\n",
    "- &: is representing LOGICAL AND; \n",
    "- |:  is representing LOGICAL OR; \n",
    "- not: is representing LOGICAL NOT\n",
    "to combine the multiple conditions to create boolean array."
   ]
  },
  {
   "cell_type": "code",
   "execution_count": 35,
   "metadata": {
    "colab": {
     "base_uri": "https://localhost:8080/"
    },
    "id": "vbmEhAxjMB7j",
    "outputId": "d9be872e-d841-4c2c-99d5-d4f6f9c94ffb"
   },
   "outputs": [
    {
     "data": {
      "text/plain": [
       "array([ 0,  1,  2,  3,  7,  8,  9, 10, 11, 12, 13, 14, 15])"
      ]
     },
     "execution_count": 35,
     "metadata": {},
     "output_type": "execute_result"
    }
   ],
   "source": [
    "two_dim_array2[(two_dim_array2<4) | (two_dim_array2>6)] "
   ]
  },
  {
   "cell_type": "markdown",
   "metadata": {
    "deletable": false,
    "editable": false,
    "id": "Ctcs88ARMB7j"
   },
   "source": [
    "<!-- BEGIN QUESTION -->\n",
    "\n",
    "\n",
    "### Question 4 \n",
    "##### Reshape the n_array (created in Question 1) to (9,10) dimensions and name it as\"n_array_reshaped\". \n",
    "##### 1) Replace all the values in the \"n_array_reshaped\"  values greater than 90 to 1. \n",
    "##### 2) Swap the first row of the array with the last row of the array. \n",
    "\n",
    "<!--\n",
    "BEGIN QUESTION\n",
    "name: q4\n",
    "manual: true\n",
    "-->"
   ]
  },
  {
   "cell_type": "code",
   "execution_count": 39,
   "metadata": {
    "colab": {
     "base_uri": "https://localhost:8080/"
    },
    "id": "mktv1BXjMB7j",
    "outputId": "b1e8d0b9-49c9-42d1-e3b4-d1c02c8916e5"
   },
   "outputs": [
    {
     "data": {
      "text/plain": [
       "array([[90,  1,  1,  1,  1,  1,  1,  1,  1,  1],\n",
       "       [20, 21, 22, 23, 24, 25, 26, 27, 28, 29],\n",
       "       [30, 31, 32, 33, 34, 35, 36, 37, 38, 39],\n",
       "       [40, 41, 42, 43, 44, 45, 46, 47, 48, 49],\n",
       "       [50, 51, 52, 53, 54, 55, 56, 57, 58, 59],\n",
       "       [60, 61, 62, 63, 64, 65, 66, 67, 68, 69],\n",
       "       [70, 71, 72, 73, 74, 75, 76, 77, 78, 79],\n",
       "       [80, 81, 82, 83, 84, 85, 86, 87, 88, 89],\n",
       "       [10, 11, 12, 13, 14, 15, 16, 17, 18, 19]])"
      ]
     },
     "execution_count": 39,
     "metadata": {},
     "output_type": "execute_result"
    }
   ],
   "source": [
    "# Write your code here\n",
    "# BEGIN SOLUTION\n",
    "n_array_reshaped=n_array.reshape(9,10)\n",
    "n_array_reshaped[n_array_reshaped>90] =1\n",
    "n_array_reshaped[[0,8]]=n_array_reshaped[[8,0]]\n",
    "n_array_reshaped\n",
    "# END SOLUTION"
   ]
  },
  {
   "cell_type": "markdown",
   "metadata": {
    "id": "HF8XAJckQYj6"
   },
   "source": [
    "<!-- END QUESTION -->\n",
    "\n",
    "\n",
    "\n",
    "\n",
    "## Arithmetic operations"
   ]
  },
  {
   "cell_type": "markdown",
   "metadata": {
    "id": "ImwveRkkPD2N"
   },
   "source": [
    "We can apply arithmetic operations, such as adding two arrays using `+` operator as represented below:"
   ]
  },
  {
   "cell_type": "markdown",
   "metadata": {
    "id": "EUc_TSsAPrgb"
   },
   "source": [
    "![array addition in Java.png](data:image/png;base64,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)"
   ]
  },
  {
   "cell_type": "code",
   "execution_count": 35,
   "metadata": {
    "colab": {
     "base_uri": "https://localhost:8080/"
    },
    "id": "njXWQ9hgNhZC",
    "outputId": "2001d600-a868-457e-8fdc-810389754d9c"
   },
   "outputs": [
    {
     "name": "stdout",
     "output_type": "stream",
     "text": [
      "[[ 2  4  6]\n",
      " [ 8 10 12]\n",
      " [14 16  6]]\n"
     ]
    }
   ],
   "source": [
    "print(two_dim_array + two_dim_array)"
   ]
  },
  {
   "cell_type": "code",
   "execution_count": 51,
   "metadata": {
    "colab": {
     "base_uri": "https://localhost:8080/"
    },
    "id": "bIE3j6NGQwW-",
    "outputId": "d9617adf-f64b-47cd-8425-b7f655e3a308"
   },
   "outputs": [
    {
     "name": "stdout",
     "output_type": "stream",
     "text": [
      "[[ 2  4  6]\n",
      " [ 8 10 12]\n",
      " [14 16 18]]\n"
     ]
    }
   ],
   "source": [
    "#Another way to do that\n",
    "print(np.add(two_dim_array,two_dim_array))\n"
   ]
  },
  {
   "cell_type": "markdown",
   "metadata": {
    "id": "5U5QYckURCEe"
   },
   "source": [
    "Similarly, we can do subtraction, division and multiplication.\n",
    "\n",
    "- np.subtract()\n",
    "\n",
    "- np.divide()\n",
    "\n",
    "- np.multiply()"
   ]
  },
  {
   "cell_type": "code",
   "execution_count": 50,
   "metadata": {
    "colab": {
     "base_uri": "https://localhost:8080/"
    },
    "id": "tKnWnFs7POH8",
    "outputId": "70c7f68a-9956-4470-9c39-3154a5fc5f06"
   },
   "outputs": [
    {
     "name": "stdout",
     "output_type": "stream",
     "text": [
      "[[0 0 0]\n",
      " [0 0 0]\n",
      " [0 0 0]]\n"
     ]
    }
   ],
   "source": [
    "#subtraction\n",
    "print(np.subtract(two_dim_array,two_dim_array))"
   ]
  },
  {
   "cell_type": "code",
   "execution_count": 38,
   "metadata": {
    "colab": {
     "base_uri": "https://localhost:8080/"
    },
    "id": "qYxtcggkRRxg",
    "outputId": "5f50bded-4a6f-4a3f-f2dc-58a575cd9d0c"
   },
   "outputs": [
    {
     "name": "stdout",
     "output_type": "stream",
     "text": [
      "[[ 1  4  9]\n",
      " [16 25 36]\n",
      " [49 64  9]]\n"
     ]
    }
   ],
   "source": [
    "# multiplication\n",
    "print(np.multiply(two_dim_array,two_dim_array))"
   ]
  },
  {
   "cell_type": "code",
   "execution_count": 39,
   "metadata": {
    "colab": {
     "base_uri": "https://localhost:8080/"
    },
    "id": "5LmhHQqCRlEx",
    "outputId": "7c5dc528-f178-408f-c84c-46ed9f707076"
   },
   "outputs": [
    {
     "name": "stdout",
     "output_type": "stream",
     "text": [
      "[[1. 1. 1.]\n",
      " [1. 1. 1.]\n",
      " [1. 1. 1.]]\n"
     ]
    }
   ],
   "source": [
    "# division\n",
    "print(np.divide(two_dim_array,two_dim_array))"
   ]
  },
  {
   "cell_type": "markdown",
   "metadata": {
    "id": "_iM6QR_QMQwF"
   },
   "source": [
    "# Aggregating functions\n",
    "Often when you are faced with a large amount of data, a first step is to compute summary statistics for the data in question. Perhaps the most common summary statistics are the mean and standard deviation, which allow you to summarize the “typical” values  in  a  dataset,  but  other  aggregates  are  useful  as  well  (the  sum,  product,  median, minimum and maximum, quantiles, etc.).\n",
    "\n",
    "By default, each NumPy aggregation function will return the aggregate over the entire array:"
   ]
  },
  {
   "cell_type": "code",
   "execution_count": 49,
   "metadata": {},
   "outputs": [
    {
     "data": {
      "text/plain": [
       "45"
      ]
     },
     "execution_count": 49,
     "metadata": {},
     "output_type": "execute_result"
    }
   ],
   "source": [
    "one_dim.sum()"
   ]
  },
  {
   "cell_type": "markdown",
   "metadata": {},
   "source": [
    "One  common  type  of  aggregation  operation  is  an  aggregate  along  a  row  or  column. Some data are stored in a two-dimensional array e.g. `two_dim_array`. Aggregation  functions  take  an  additional  argument specifying  the  axis  along  which the aggregate is computed. For example, to find the sum array (row-wise or column-wise), we can use sum(...) function by passing argument `axis= 0 or 1`,  axis = 1 will find sum row-wise and similarly for axis = 0 will find sum column-wise. "
   ]
  },
  {
   "cell_type": "code",
   "execution_count": 36,
   "metadata": {
    "colab": {
     "base_uri": "https://localhost:8080/"
    },
    "id": "pRA5d1nuL73v",
    "outputId": "3b17beb5-fdad-494f-adb8-c664e054621b"
   },
   "outputs": [
    {
     "name": "stdout",
     "output_type": "stream",
     "text": [
      "[12 15 18]\n"
     ]
    }
   ],
   "source": [
    "print(two_dim_array.sum(axis=0))"
   ]
  },
  {
   "cell_type": "code",
   "execution_count": 37,
   "metadata": {
    "colab": {
     "base_uri": "https://localhost:8080/"
    },
    "id": "tjBFVmifNavL",
    "outputId": "cbf6b5cb-8016-4698-d5fa-72f2851b54ac"
   },
   "outputs": [
    {
     "name": "stdout",
     "output_type": "stream",
     "text": [
      "[ 6 15 24]\n"
     ]
    }
   ],
   "source": [
    "print(two_dim_array.sum(axis=1))"
   ]
  },
  {
   "cell_type": "markdown",
   "metadata": {},
   "source": [
    "Similarly, we can find the minimum value within each\n",
    "column by specifying axis=0"
   ]
  },
  {
   "cell_type": "code",
   "execution_count": 52,
   "metadata": {},
   "outputs": [
    {
     "data": {
      "text/plain": [
       "array([1, 2, 3])"
      ]
     },
     "execution_count": 52,
     "metadata": {},
     "output_type": "execute_result"
    }
   ],
   "source": [
    "two_dim_array.min(axis=0)"
   ]
  },
  {
   "cell_type": "markdown",
   "metadata": {
    "id": "njo1pCkhTwCu"
   },
   "source": [
    "The  way  the  axis  is  specified  here  can  be  confusing  to  users  coming  from  other  languages.  The  axis  keyword  specifies  the  dimension  of  the  array  that  will  be  collapsed, rather than the dimension that will be returned. So specifying axis=0 means that the first axis will be collapsed: for two-dimensional arrays, this means that values within each column will be aggregated.\n",
    "\n",
    "Some other important arithmetic functions available in NumPy are:\n",
    "- np.mean: computes the mean\n",
    "- np.std: standard deviation\n",
    "- np.var variance\n",
    "- and [many more](https://numpy.org/doc/stable/reference/ufuncs.html#math-operations)"
   ]
  },
  {
   "cell_type": "markdown",
   "metadata": {
    "id": "R59I97naZQNs"
   },
   "source": [
    "There are times when you might want to carry out an operation between an array and a single number (also called an operation between a vector and a scalar) or between arrays of two different sizes. NumPy understands that multiplication should happen with each cell. That concept is called **broadcasting**. Broadcasting is a mechanism that allows NumPy to perform operations on arrays of different shapes."
   ]
  },
  {
   "cell_type": "code",
   "execution_count": 42,
   "metadata": {
    "colab": {
     "base_uri": "https://localhost:8080/"
    },
    "id": "lcG4p8yCVN_9",
    "outputId": "9eca7dfd-6a65-4a54-b1c5-0986c01a67f9"
   },
   "outputs": [
    {
     "name": "stdout",
     "output_type": "stream",
     "text": [
      "original data [4 4 5 4 5 6 7 8 9]\n",
      "after broadcasting [ 6.4  6.4  8.   6.4  8.   9.6 11.2 12.8 14.4]\n"
     ]
    }
   ],
   "source": [
    "print('original data', one_dim) \n",
    "print('after broadcasting', one_dim * 1.6)"
   ]
  },
  {
   "cell_type": "markdown",
   "metadata": {
    "deletable": false,
    "editable": false,
    "id": "Ve92tCmeMB7o"
   },
   "source": [
    "<!-- BEGIN QUESTION -->\n",
    "\n",
    "\n",
    "### Question 5 \n",
    "#####  1) Find the mean, median, standard deviation of   \"n_array_reshaped\" array created in Question 4.\n",
    "\n",
    "##### 2) Find the maximum and mean value using axis = 0 for appropriate aggregate functions. \n",
    "\n",
    "<!--\n",
    "BEGIN QUESTION\n",
    "name: q5\n",
    "manual: true\n",
    "-->"
   ]
  },
  {
   "cell_type": "code",
   "execution_count": 54,
   "metadata": {
    "colab": {
     "base_uri": "https://localhost:8080/"
    },
    "id": "QoVz6qKdMB7o",
    "outputId": "e88fd191-c262-4732-9b54-04842db0df8a"
   },
   "outputs": [
    {
     "name": "stdout",
     "output_type": "stream",
     "text": [
      "Mean: 45.1, Median: 45.5, Standard Deviation: 26.61\n",
      "[90 81 82 83 84 85 86 87 88 89]\n",
      "[50.         41.         41.88888889 42.77777778 43.66666667 44.55555556\n",
      " 45.44444444 46.33333333 47.22222222 48.11111111]\n"
     ]
    }
   ],
   "source": [
    "# Write your code here\n",
    "# BEGIN SOLUTION\n",
    "mean= np.mean(n_array_reshaped)\n",
    "median= np.median(n_array_reshaped)\n",
    "standard_deviation=np.std(n_array_reshaped)\n",
    "print(\"Mean: {}, Median: {}, Standard Deviation: {:.2f}\".format(mean, median, standard_deviation))\n",
    "\n",
    "max_axis= np.max(n_array_reshaped, axis=0)\n",
    "mean_axis = np.mean(n_array_reshaped, axis=0)\n",
    "print(max_axis)\n",
    "print(mean_axis)\n",
    "# END SOLUTION"
   ]
  },
  {
   "cell_type": "markdown",
   "metadata": {
    "id": "zp1ubSDv7MlG"
   },
   "source": [
    "<!-- END QUESTION -->\n",
    "\n",
    "\n",
    "\n",
    "<!-- END QUESTION -->\n",
    "\n",
    "\n",
    "\n",
    "### Joining multiple arrays\n",
    "\n",
    "Joining means putting the contents of two or more arrays in a single array. We pass a sequence of arrays that we want to join to the concatenate(ARRAY_A, ARRAY_B) function, along with the `axis`. If `axis` is not explicitly passed, it is taken as 0. There is another method of joining via stack functions discussed below:"
   ]
  },
  {
   "cell_type": "code",
   "execution_count": 55,
   "metadata": {
    "colab": {
     "base_uri": "https://localhost:8080/"
    },
    "id": "T6Tuk23e7Qju",
    "outputId": "46da0c70-e99b-4b8b-f0ad-4f5f261c4fb1"
   },
   "outputs": [
    {
     "name": "stdout",
     "output_type": "stream",
     "text": [
      "Concatenation when axis = 1 is:\n",
      " [[ 1  2  3 11 22 41]\n",
      " [ 4  5  6 22 33 77]\n",
      " [ 7  8  9 44 55 66]]\n",
      "Vertical Stacking:\n",
      " [[ 1  2  3]\n",
      " [ 4  5  6]\n",
      " [ 7  8  9]\n",
      " [11 22 41]\n",
      " [22 33 77]\n",
      " [44 55 66]]\n",
      "Horizontal Stacking:\n",
      " [[ 1  2  3 11 22 41]\n",
      " [ 4  5  6 22 33 77]\n",
      " [ 7  8  9 44 55 66]]\n"
     ]
    }
   ],
   "source": [
    "two_dim_array3= np.array([[11,22,41],[22,33,77],[44,55,66]])\n",
    "\n",
    "print(\"Concatenation when axis = 1 is:\\n\",np.concatenate((two_dim_array, two_dim_array3), axis=1))\n",
    "\n",
    "print(\"Vertical Stacking:\\n\",np.vstack((two_dim_array,two_dim_array3)))\n",
    "\n",
    "print(\"Horizontal Stacking:\\n\",np.hstack((two_dim_array,two_dim_array3)))"
   ]
  },
  {
   "cell_type": "markdown",
   "metadata": {
    "id": "gSsGxu8_8JmT"
   },
   "source": [
    "### Splitting \n",
    "Splitting breaks one array into multiple.\n",
    "\n",
    "We use array_split(ARRAY,NUMBER_OF_SPLITS, axis=1) function for splitting arrays along rows (axis=1), we pass the array and the number of splits. An alternate solution is using hsplit(...) function, which is the opposite of the hstack(...) function."
   ]
  },
  {
   "cell_type": "code",
   "execution_count": 56,
   "metadata": {
    "colab": {
     "base_uri": "https://localhost:8080/"
    },
    "id": "h8lva4a-8LNV",
    "outputId": "663ee23e-a34f-49c9-d708-dec6882bf1a9"
   },
   "outputs": [
    {
     "name": "stdout",
     "output_type": "stream",
     "text": [
      "original Array:\n",
      " [[ 0  1  2  3]\n",
      " [ 4  5  6  7]\n",
      " [ 8  9 10 11]\n",
      " [12 13 14 15]] \n",
      "\n",
      "Split by array_split() function: \n",
      " [array([[ 0,  1],\n",
      "       [ 4,  5],\n",
      "       [ 8,  9],\n",
      "       [12, 13]]), array([[ 2,  3],\n",
      "       [ 6,  7],\n",
      "       [10, 11],\n",
      "       [14, 15]])] \n",
      "\n",
      "Split by hspilt() function: \n",
      " [array([[ 0,  1],\n",
      "       [ 4,  5],\n",
      "       [ 8,  9],\n",
      "       [12, 13]]), array([[ 2,  3],\n",
      "       [ 6,  7],\n",
      "       [10, 11],\n",
      "       [14, 15]])]\n"
     ]
    }
   ],
   "source": [
    "print(\"original Array:\\n\",two_dim_array2,\"\\n\")\n",
    "# Split an array into 2\n",
    "print(\"Split by array_split() function: \\n\",np.array_split(two_dim_array2,2, axis=1),\"\\n\")\n",
    "print(\"Split by hspilt() function: \\n\",np.hsplit(two_dim_array2,2))"
   ]
  },
  {
   "cell_type": "markdown",
   "metadata": {
    "id": "HzFmWiWBMB7q"
   },
   "source": [
    "### Searching Arrays\n",
    "\n",
    "You can search an array for a certain value, and return the indexes that get a match. To search an array, use the where(...) method of ndarray."
   ]
  },
  {
   "cell_type": "code",
   "execution_count": 57,
   "metadata": {
    "id": "fSKmZZ3VMB7q",
    "outputId": "37d816e7-59f6-45d0-dbd6-7637bc853d53"
   },
   "outputs": [
    {
     "data": {
      "text/plain": [
       "(array([1], dtype=int64),)"
      ]
     },
     "execution_count": 57,
     "metadata": {},
     "output_type": "execute_result"
    }
   ],
   "source": [
    "ind=np.where(one_dim==2)\n",
    "ind"
   ]
  },
  {
   "cell_type": "markdown",
   "metadata": {
    "id": "2ZV9ybyFMB7q"
   },
   "source": [
    "For example, to find the indexes where the values are odd"
   ]
  },
  {
   "cell_type": "code",
   "execution_count": 47,
   "metadata": {
    "colab": {
     "base_uri": "https://localhost:8080/"
    },
    "id": "y3HXlc9NMB7q",
    "outputId": "5acf781e-1618-4734-ecb7-ce29c8bf6be4"
   },
   "outputs": [
    {
     "data": {
      "text/plain": [
       "(array([2, 4, 6, 8]),)"
      ]
     },
     "execution_count": 47,
     "metadata": {},
     "output_type": "execute_result"
    }
   ],
   "source": [
    "np.where(one_dim%2==1)"
   ]
  },
  {
   "cell_type": "markdown",
   "metadata": {
    "deletable": false,
    "editable": false,
    "id": "dVCyByFoMB7r"
   },
   "source": [
    "<!-- BEGIN QUESTION -->\n",
    "\n",
    "\n",
    "### Question 6 \n",
    "\n",
    "##### 1) Create an array of  (9,10) dimensions using random values.  \n",
    "\n",
    "_Hint: Use np.random.rand(ROWs, COLUMNS) function_\n",
    "\n",
    "##### 2) Compute the Euclidean distance between two arrays n_array_reshaped (from Question 4) and array created in part 1 of this Question.\n",
    "\n",
    "_Hint: np.linalg.norm(ARRAY_A-ARRAY_B), replace the capital words appropriately._\n",
    "\n",
    "<!--\n",
    "BEGIN QUESTION\n",
    "name: q6\n",
    "manual: true\n",
    "-->"
   ]
  },
  {
   "cell_type": "code",
   "execution_count": 48,
   "metadata": {
    "colab": {
     "base_uri": "https://localhost:8080/"
    },
    "id": "ldkrCJPIMB7r",
    "outputId": "63fe4b83-af55-4fb3-a601-198dc7c7d94a"
   },
   "outputs": [
    {
     "name": "stdout",
     "output_type": "stream",
     "text": [
      "[[0.59822682 0.96329963 0.23089188 0.32708151 0.6524268  0.2964096\n",
      "  0.96980425 0.38042634 0.58685425 0.38893521]\n",
      " [0.1627899  0.53237257 0.03038743 0.79397797 0.66975175 0.70810312\n",
      "  0.3494887  0.20689259 0.74056208 0.92333877]\n",
      " [0.50277306 0.51298839 0.46870533 0.17732608 0.7555981  0.68788827\n",
      "  0.66280333 0.35149777 0.60864722 0.15347137]\n",
      " [0.40919864 0.08195896 0.36458773 0.75731689 0.38192165 0.9625142\n",
      "  0.03355816 0.14569225 0.75648092 0.16169466]\n",
      " [0.57236785 0.03244377 0.43971824 0.02637912 0.82548666 0.63175478\n",
      "  0.15572941 0.79141779 0.46841443 0.70297081]\n",
      " [0.5258228  0.04033956 0.87414868 0.67346631 0.32603912 0.24036912\n",
      "  0.56475714 0.10420975 0.39857024 0.22937632]\n",
      " [0.28835526 0.03207861 0.13552394 0.14229197 0.50086741 0.8491443\n",
      "  0.23643101 0.17321525 0.17822207 0.21064879]\n",
      " [0.30517761 0.76976409 0.18709456 0.8093303  0.02310568 0.38483939\n",
      "  0.69073455 0.08815372 0.41974666 0.88392848]\n",
      " [0.70699434 0.59486146 0.47880589 0.61225084 0.94433777 0.59031507\n",
      "  0.24981045 0.60913897 0.84413381 0.48311964]]\n",
      "493.3171860596849\n"
     ]
    }
   ],
   "source": [
    "# Write your code here\n",
    "# BEGIN SOLUTION\n",
    "#Part 1)\n",
    "new_array=np.random.rand(9,10) \n",
    "print(new_array)\n",
    "#Part 2)\n",
    "print(np.linalg.norm(n_array_reshaped-new_array))\n",
    "# END SOLUTION"
   ]
  },
  {
   "cell_type": "markdown",
   "metadata": {
    "id": "ENaW89_kMB7r"
   },
   "source": [
    "<!-- END QUESTION -->\n",
    "\n",
    "\n",
    "\n",
    "<!-- END QUESTION -->\n",
    "\n",
    "\n",
    "\n",
    "### Sorting array\n",
    "\n",
    "Sorting means putting elements in an ordered sequence. Ordered sequence is any sequence that has an order corresponding to elements, like numeric or alphabetical, ascending or descending. Although Python has built-in sort and sorted functions to work with lists, we won’t\n",
    "discuss  them  here  because  NumPy’s  np.sort(...)  function  is  much  more efficient and useful for this purpose. This method returns a copy of the array, leaving the original array unchanged."
   ]
  },
  {
   "cell_type": "code",
   "execution_count": 58,
   "metadata": {
    "colab": {
     "base_uri": "https://localhost:8080/"
    },
    "id": "sYpwgA9BMB7s",
    "outputId": "4635a29c-b557-4235-9759-3b6c848adf59"
   },
   "outputs": [
    {
     "name": "stdout",
     "output_type": "stream",
     "text": [
      "\n",
      " The sorted array is:  ['apple' 'banana' 'cherry']\n"
     ]
    }
   ],
   "source": [
    "array = np.array(['banana', 'cherry', 'apple'])\n",
    "print(\"\\n The sorted array is: \", np.sort(array))"
   ]
  },
  {
   "cell_type": "markdown",
   "metadata": {},
   "source": [
    "A related function is argsort(...), which instead returns the indices of the sorted elements:"
   ]
  },
  {
   "cell_type": "code",
   "execution_count": 59,
   "metadata": {},
   "outputs": [
    {
     "data": {
      "text/plain": [
       "array([2, 0, 1], dtype=int64)"
      ]
     },
     "execution_count": 59,
     "metadata": {},
     "output_type": "execute_result"
    }
   ],
   "source": [
    "np.argsort(array)"
   ]
  },
  {
   "cell_type": "markdown",
   "metadata": {},
   "source": [
    "The  first  element  of  this  result  gives  the  index  of  the  smallest  element,  the  second value  gives  the  index  of  the  second  smallest,  and  so  on.  These  indices  can  then  be used (via fancy indexing) to construct the sorted array if desired"
   ]
  },
  {
   "cell_type": "markdown",
   "metadata": {},
   "source": [
    "A  useful  feature  of  NumPy’s  sorting  algorithms  is  the  ability  to  sort  along  specific\n",
    "rows or columns of a multidimensional array using the axis argument. For example:"
   ]
  },
  {
   "cell_type": "code",
   "execution_count": 60,
   "metadata": {},
   "outputs": [
    {
     "data": {
      "text/plain": [
       "array([[1, 2, 3],\n",
       "       [4, 5, 6],\n",
       "       [7, 8, 9]])"
      ]
     },
     "execution_count": 60,
     "metadata": {},
     "output_type": "execute_result"
    }
   ],
   "source": [
    "# sort each column of two_dim_arrary data\n",
    "np.sort(two_dim_array, axis=0)"
   ]
  },
  {
   "cell_type": "code",
   "execution_count": 61,
   "metadata": {},
   "outputs": [
    {
     "data": {
      "text/plain": [
       "array([[1, 2, 3],\n",
       "       [4, 5, 6],\n",
       "       [7, 8, 9]])"
      ]
     },
     "execution_count": 61,
     "metadata": {},
     "output_type": "execute_result"
    }
   ],
   "source": [
    "# sort each row of two_dim_arrary data\n",
    "np.sort(two_dim_array, axis=1)"
   ]
  },
  {
   "cell_type": "markdown",
   "metadata": {
    "id": "zJXi7FpvMB7s"
   },
   "source": [
    "The above discussion about NumPy is not exhaustive but would be good to start working with it. You may refer to the following for more information:\n",
    "\n",
    "- **[NumPy Quick Start Tutorial](https://numpy.org/doc/stable/user/quickstart.html)**\n",
    "- **[Stanford CS231n NumPy Tutorial](http://cs231n.github.io/python-numpy-tutorial/#numpy)**\n",
    "- **[The Data 8 Textbook Chapter on NumPy](https://www.inferentialthinking.com/chapters/05/1/Arrays)**\n",
    "- **[CheatSheet of Numpy](https://s3.amazonaws.com/assets.datacamp.com/blog_assets/Numpy_Python_Cheat_Sheet.pdf)**"
   ]
  },
  {
   "cell_type": "markdown",
   "metadata": {
    "id": "i3IDcQU8TiYv"
   },
   "source": [
    "## Part 2: Pandas"
   ]
  },
  {
   "cell_type": "markdown",
   "metadata": {
    "id": "sF53CYIjTiYv"
   },
   "source": [
    "Pandas is one of the most widely used Python libraries in data science. It provides fast, flexible, and expressive data structures designed to work with “relational” or “labeled” data both easy and intuitive. We are going to start a `non-comprehensive` overview of the fundamental data structures in Pandas.  \n",
    "\n",
    "In the remaining worksheet, we are going to discuss:\n",
    "\n",
    "- Data Frames\n",
    "- Indexes, Slicing, and Sorting\n",
    "- Grouping and Pivoting\n",
    "- Apply\n",
    "\n",
    "_Note: Remember for working with Pandas, we need to load this library (already loaded at the top of this Worksheet)._"
   ]
  },
  {
   "cell_type": "markdown",
   "metadata": {
    "id": "WSNTjwLETiYv"
   },
   "source": [
    "### Dataframes\n",
    "\n",
    "A dataframe is a table in which each column has a type; there is an index over the columns (typically string labels) and an index over the rows (typically ordinal numbers. It is a 2-dimensional data structure that can store data of different types (including characters, integers, floating-point values, categorical data and more) in columns. "
   ]
  },
  {
   "cell_type": "markdown",
   "metadata": {
    "id": "4EA0Ks4oTiYw",
    "nbgrader": {
     "grade": false,
     "grade_id": "basic_method1",
     "locked": true,
     "schema_version": 2,
     "solution": false
    }
   },
   "source": [
    "#### Manually Creating Dataframes\n",
    "\n",
    "There are two syntax methods to create the dataframes.\n",
    "\n",
    "**Syntax 1:** You can create a data frame by specifying the columns and values using a [dictionary](https://realpython.com/python-dicts/) as shown below. \n",
    "\n",
    "The keys of the dictionary are the column names, and the values of the dictionary are lists containing the row entries."
   ]
  },
  {
   "cell_type": "code",
   "execution_count": 62,
   "metadata": {
    "id": "DcXgkQ_pTiYw",
    "nbgrader": {
     "grade": false,
     "grade_id": "basic_method1_code",
     "locked": true,
     "schema_version": 2,
     "solution": false
    },
    "outputId": "7ce18f47-2846-4ba4-97ba-e8564385b0a0"
   },
   "outputs": [
    {
     "data": {
      "text/html": [
       "<div>\n",
       "<style scoped>\n",
       "    .dataframe tbody tr th:only-of-type {\n",
       "        vertical-align: middle;\n",
       "    }\n",
       "\n",
       "    .dataframe tbody tr th {\n",
       "        vertical-align: top;\n",
       "    }\n",
       "\n",
       "    .dataframe thead th {\n",
       "        text-align: right;\n",
       "    }\n",
       "</style>\n",
       "<table border=\"1\" class=\"dataframe\">\n",
       "  <thead>\n",
       "    <tr style=\"text-align: right;\">\n",
       "      <th></th>\n",
       "      <th>Cows</th>\n",
       "      <th>Goats</th>\n",
       "    </tr>\n",
       "  </thead>\n",
       "  <tbody>\n",
       "    <tr>\n",
       "      <th>0</th>\n",
       "      <td>12</td>\n",
       "      <td>22</td>\n",
       "    </tr>\n",
       "    <tr>\n",
       "      <th>1</th>\n",
       "      <td>20</td>\n",
       "      <td>19</td>\n",
       "    </tr>\n",
       "  </tbody>\n",
       "</table>\n",
       "</div>"
      ],
      "text/plain": [
       "   Cows  Goats\n",
       "0    12     22\n",
       "1    20     19"
      ]
     },
     "execution_count": 62,
     "metadata": {},
     "output_type": "execute_result"
    }
   ],
   "source": [
    "animals = pd.DataFrame({'Cows': [12, 20], 'Goats': [22, 19]})\n",
    "animals"
   ]
  },
  {
   "cell_type": "markdown",
   "metadata": {
    "id": "swN_nRTaTiYw",
    "nbgrader": {
     "grade": false,
     "grade_id": "basic_method2",
     "locked": true,
     "schema_version": 2,
     "solution": false
    }
   },
   "source": [
    "**Syntax 2:** You can also define a dataframe by specifying the rows like below. \n",
    "\n",
    "Each row corresponds to a distinct tuple, and the columns are specified separately."
   ]
  },
  {
   "cell_type": "code",
   "execution_count": 63,
   "metadata": {
    "id": "aAB0EsHETiYw",
    "nbgrader": {
     "grade": false,
     "grade_id": "basic_method2_code",
     "locked": true,
     "schema_version": 2,
     "solution": false
    },
    "outputId": "20e5d2a2-6690-4f78-fbe7-b438c55c19ad"
   },
   "outputs": [
    {
     "data": {
      "text/html": [
       "<div>\n",
       "<style scoped>\n",
       "    .dataframe tbody tr th:only-of-type {\n",
       "        vertical-align: middle;\n",
       "    }\n",
       "\n",
       "    .dataframe tbody tr th {\n",
       "        vertical-align: top;\n",
       "    }\n",
       "\n",
       "    .dataframe thead th {\n",
       "        text-align: right;\n",
       "    }\n",
       "</style>\n",
       "<table border=\"1\" class=\"dataframe\">\n",
       "  <thead>\n",
       "    <tr style=\"text-align: right;\">\n",
       "      <th></th>\n",
       "      <th>Apples</th>\n",
       "      <th>Banana</th>\n",
       "    </tr>\n",
       "  </thead>\n",
       "  <tbody>\n",
       "    <tr>\n",
       "      <th>0</th>\n",
       "      <td>30</td>\n",
       "      <td>21</td>\n",
       "    </tr>\n",
       "    <tr>\n",
       "      <th>1</th>\n",
       "      <td>20</td>\n",
       "      <td>24</td>\n",
       "    </tr>\n",
       "    <tr>\n",
       "      <th>2</th>\n",
       "      <td>34</td>\n",
       "      <td>12</td>\n",
       "    </tr>\n",
       "  </tbody>\n",
       "</table>\n",
       "</div>"
      ],
      "text/plain": [
       "   Apples  Banana\n",
       "0      30      21\n",
       "1      20      24\n",
       "2      34      12"
      ]
     },
     "execution_count": 63,
     "metadata": {},
     "output_type": "execute_result"
    }
   ],
   "source": [
    "fruits = pd.DataFrame([(30, 21), (20,24), (34,12)], columns=['Apples', 'Banana'])\n",
    "fruits"
   ]
  },
  {
   "cell_type": "markdown",
   "metadata": {
    "id": "vGrtk4AuTiYx"
   },
   "source": [
    "In the above examples, when dataframe is printed, each row has a number starting from 0,1.... This label is called index of the rows. We can specifically mention it like column names. "
   ]
  },
  {
   "cell_type": "code",
   "execution_count": 64,
   "metadata": {
    "id": "yRrJBzkGTiYx",
    "outputId": "22db8a10-a260-4f24-e655-15d0543e677b"
   },
   "outputs": [
    {
     "data": {
      "text/html": [
       "<div>\n",
       "<style scoped>\n",
       "    .dataframe tbody tr th:only-of-type {\n",
       "        vertical-align: middle;\n",
       "    }\n",
       "\n",
       "    .dataframe tbody tr th {\n",
       "        vertical-align: top;\n",
       "    }\n",
       "\n",
       "    .dataframe thead th {\n",
       "        text-align: right;\n",
       "    }\n",
       "</style>\n",
       "<table border=\"1\" class=\"dataframe\">\n",
       "  <thead>\n",
       "    <tr style=\"text-align: right;\">\n",
       "      <th></th>\n",
       "      <th>Apples</th>\n",
       "      <th>Bananas</th>\n",
       "    </tr>\n",
       "  </thead>\n",
       "  <tbody>\n",
       "    <tr>\n",
       "      <th>2017 Sales</th>\n",
       "      <td>35</td>\n",
       "      <td>21</td>\n",
       "    </tr>\n",
       "    <tr>\n",
       "      <th>2018 Sales</th>\n",
       "      <td>20</td>\n",
       "      <td>24</td>\n",
       "    </tr>\n",
       "    <tr>\n",
       "      <th>2019 Sales</th>\n",
       "      <td>34</td>\n",
       "      <td>12</td>\n",
       "    </tr>\n",
       "  </tbody>\n",
       "</table>\n",
       "</div>"
      ],
      "text/plain": [
       "            Apples  Bananas\n",
       "2017 Sales      35       21\n",
       "2018 Sales      20       24\n",
       "2019 Sales      34       12"
      ]
     },
     "execution_count": 64,
     "metadata": {},
     "output_type": "execute_result"
    }
   ],
   "source": [
    "fruit_sales = pd.DataFrame([(35,21), (20,24), (34,12)], columns=['Apples', 'Bananas'], index=[\"2017 Sales\", \"2018 Sales\", \"2019 Sales\"])\n",
    "fruit_sales"
   ]
  },
  {
   "cell_type": "markdown",
   "metadata": {
    "id": "KeuMLj3ETiYx"
   },
   "source": [
    "Each column in a DataFrame is a Pandas Series, and is one dimensional. Many pandas operations return a DataFrame or a Series, Series do not have any name/header where as the dataframe has column names. Let's create a Pandas Series"
   ]
  },
  {
   "cell_type": "code",
   "execution_count": 65,
   "metadata": {
    "id": "V7JUD0VeTiYx",
    "outputId": "8cec9a0c-c8b0-4169-fdb0-8c40c1bc1df5"
   },
   "outputs": [
    {
     "name": "stdout",
     "output_type": "stream",
     "text": [
      "Type of object is:\n",
      " <class 'pandas.core.series.Series'>\n",
      "Series is: \n",
      " Flour     4 cups\n",
      "Milk       1 cup\n",
      "Eggs     2 large\n",
      "Spam       1 can\n",
      "dtype: object\n"
     ]
    }
   ],
   "source": [
    "quantities = ['4 cups', '1 cup', '2 large', '1 can']\n",
    "items = ['Flour', 'Milk', 'Eggs', 'Spam']\n",
    "ingredients = pd.Series(quantities, index=items)\n",
    "print(\"Type of object is:\\n\", type(ingredients))\n",
    "print(\"Series is: \\n\",ingredients)"
   ]
  },
  {
   "cell_type": "markdown",
   "metadata": {
    "deletable": false,
    "editable": false,
    "id": "kv-d0oldTiYx",
    "nbgrader": {
     "grade": false,
     "grade_id": "q1",
     "locked": true,
     "schema_version": 2,
     "solution": false
    }
   },
   "source": [
    "<!-- BEGIN QUESTION -->\n",
    "\n",
    "\n",
    "### Question 7\n",
    "\n",
    "##### For a DataFrame `fruit_sales`, add a column using `fruit_sales['new column name'] = ...` and assign a list or array of values to the column. Add a column of integers containing 2017, 2018, and 2019 called `Year` to the `fruit_sales` table which adds the year of sales into the dataframe.\n",
    "\n",
    "<!--\n",
    "BEGIN QUESTION\n",
    "name: q7\n",
    "points: 1\n",
    "manual: true\n",
    "-->"
   ]
  },
  {
   "cell_type": "code",
   "execution_count": 54,
   "metadata": {
    "id": "P9z7Yc_hTiYy",
    "nbgrader": {
     "grade": false,
     "grade_id": "q1_answer",
     "locked": false,
     "schema_version": 2,
     "solution": true
    },
    "outputId": "ac35e9b7-ad6b-4d85-9be9-447a6016fcf0",
    "tags": [
     "solution"
    ]
   },
   "outputs": [
    {
     "data": {
      "text/html": [
       "<div>\n",
       "<style scoped>\n",
       "    .dataframe tbody tr th:only-of-type {\n",
       "        vertical-align: middle;\n",
       "    }\n",
       "\n",
       "    .dataframe tbody tr th {\n",
       "        vertical-align: top;\n",
       "    }\n",
       "\n",
       "    .dataframe thead th {\n",
       "        text-align: right;\n",
       "    }\n",
       "</style>\n",
       "<table border=\"1\" class=\"dataframe\">\n",
       "  <thead>\n",
       "    <tr style=\"text-align: right;\">\n",
       "      <th></th>\n",
       "      <th>Apples</th>\n",
       "      <th>Bananas</th>\n",
       "      <th>Year</th>\n",
       "    </tr>\n",
       "  </thead>\n",
       "  <tbody>\n",
       "    <tr>\n",
       "      <th>2017 Sales</th>\n",
       "      <td>35</td>\n",
       "      <td>21</td>\n",
       "      <td>2017</td>\n",
       "    </tr>\n",
       "    <tr>\n",
       "      <th>2018 Sales</th>\n",
       "      <td>20</td>\n",
       "      <td>24</td>\n",
       "      <td>2018</td>\n",
       "    </tr>\n",
       "    <tr>\n",
       "      <th>2019 Sales</th>\n",
       "      <td>34</td>\n",
       "      <td>12</td>\n",
       "      <td>2019</td>\n",
       "    </tr>\n",
       "  </tbody>\n",
       "</table>\n",
       "</div>"
      ],
      "text/plain": [
       "            Apples  Bananas  Year\n",
       "2017 Sales      35       21  2017\n",
       "2018 Sales      20       24  2018\n",
       "2019 Sales      34       12  2019"
      ]
     },
     "execution_count": 54,
     "metadata": {},
     "output_type": "execute_result"
    }
   ],
   "source": [
    "# Write your code here\n",
    "# BEGIN SOLUTION\n",
    "fruit_sales[\"Year\"] = [2017,2018,2019]\n",
    "# END SOLUTION\n",
    "fruit_sales"
   ]
  },
  {
   "cell_type": "markdown",
   "metadata": {
    "deletable": false,
    "editable": false,
    "id": "mAzvErgTTiYy",
    "nbgrader": {
     "grade": false,
     "grade_id": "q2",
     "locked": true,
     "schema_version": 2,
     "solution": false
    }
   },
   "source": [
    "<!-- END QUESTION -->\n",
    "\n",
    "<!-- BEGIN QUESTION -->\n",
    "\n",
    "### Question 8\n",
    "\n",
    "##### Use the `.drop()` method to [drop](https://pandas.pydata.org/pandas-docs/stable/generated/pandas.DataFrame.drop.html) the `Year` column you created. (Make sure to use the `axis` parameter correctly.) Note that `drop` does not change a table, but instead returns a new table with fewer columns or rows unless you set the optional `inplace` parameter.\n",
    "\n",
    "*Hint*: Look through the documentation to see how you can drop multiple columns of a Pandas dataframe at once using a list of column names.\n",
    "\n",
    "<!--\n",
    "BEGIN QUESTION\n",
    "name: q8\n",
    "point: 1\n",
    "manual: true\n",
    "-->"
   ]
  },
  {
   "cell_type": "code",
   "execution_count": 55,
   "metadata": {
    "id": "VfC1qlYLTiYy",
    "nbgrader": {
     "grade": false,
     "grade_id": "q2_answer",
     "locked": false,
     "schema_version": 2,
     "solution": true
    },
    "outputId": "be6970ee-1ef0-4670-8360-b33a458d106d",
    "tags": [
     "solution"
    ]
   },
   "outputs": [
    {
     "data": {
      "text/html": [
       "<div>\n",
       "<style scoped>\n",
       "    .dataframe tbody tr th:only-of-type {\n",
       "        vertical-align: middle;\n",
       "    }\n",
       "\n",
       "    .dataframe tbody tr th {\n",
       "        vertical-align: top;\n",
       "    }\n",
       "\n",
       "    .dataframe thead th {\n",
       "        text-align: right;\n",
       "    }\n",
       "</style>\n",
       "<table border=\"1\" class=\"dataframe\">\n",
       "  <thead>\n",
       "    <tr style=\"text-align: right;\">\n",
       "      <th></th>\n",
       "      <th>Apples</th>\n",
       "      <th>Bananas</th>\n",
       "    </tr>\n",
       "  </thead>\n",
       "  <tbody>\n",
       "    <tr>\n",
       "      <th>2017 Sales</th>\n",
       "      <td>35</td>\n",
       "      <td>21</td>\n",
       "    </tr>\n",
       "    <tr>\n",
       "      <th>2018 Sales</th>\n",
       "      <td>20</td>\n",
       "      <td>24</td>\n",
       "    </tr>\n",
       "    <tr>\n",
       "      <th>2019 Sales</th>\n",
       "      <td>34</td>\n",
       "      <td>12</td>\n",
       "    </tr>\n",
       "  </tbody>\n",
       "</table>\n",
       "</div>"
      ],
      "text/plain": [
       "            Apples  Bananas\n",
       "2017 Sales      35       21\n",
       "2018 Sales      20       24\n",
       "2019 Sales      34       12"
      ]
     },
     "execution_count": 55,
     "metadata": {},
     "output_type": "execute_result"
    }
   ],
   "source": [
    "# Write your code here\n",
    "fruit_sales_original = fruit_sales.drop([\"Year\"], axis = 1) # SOLUTION\n",
    "fruit_sales_original"
   ]
  },
  {
   "cell_type": "markdown",
   "metadata": {
    "id": "ydFmnHZoTiYy"
   },
   "source": [
    "<!-- END QUESTION -->\n",
    "\n",
    "\n",
    "\n",
    "<!-- END QUESTION -->\n",
    "\n",
    "\n",
    "\n",
    "#### Importing Datasets as Dataframes\n",
    "If you do a quick web search for 'importing datasets into Python' you'll see that there are numerous methods/commands for accomplishing this - read_excel, read_csv, read_table etc. \n",
    "The majority of these commands, however, require you to know a lot about the dataset already (are there variable names - headers - in the dataset? is the data separated by commas, semi-colons, etc. in the dataset?).  These commands will load the dataset as a \"dataframe\".\n",
    "\n",
    "Pandas support the integration with many file formats or data sources out of the box (csv, excel, sql, json, parquet,…). Importing data from each of these data sources is provided by function with the prefix read_\\*. Similarly, the to_\\* methods are used to store data. We can import local files (on your computer) or remote files from the Web using these functions. Let's use read_csv(...) function to load the dataset from the following link (\"https://raw.githubusercontent.com/sukhjitsehra/datasets/master/DATA200/Datasets/Beers.csv\") and name the dataset as \"beers\". The dataset contains information on over 2000 craft beers from the United States.\n"
   ]
  },
  {
   "cell_type": "code",
   "execution_count": 66,
   "metadata": {
    "id": "pv5lvS4NTiYy",
    "outputId": "345eeb75-9e35-4bcf-b132-3f6a28e6d6b2"
   },
   "outputs": [
    {
     "data": {
      "text/html": [
       "<div>\n",
       "<style scoped>\n",
       "    .dataframe tbody tr th:only-of-type {\n",
       "        vertical-align: middle;\n",
       "    }\n",
       "\n",
       "    .dataframe tbody tr th {\n",
       "        vertical-align: top;\n",
       "    }\n",
       "\n",
       "    .dataframe thead th {\n",
       "        text-align: right;\n",
       "    }\n",
       "</style>\n",
       "<table border=\"1\" class=\"dataframe\">\n",
       "  <thead>\n",
       "    <tr style=\"text-align: right;\">\n",
       "      <th></th>\n",
       "      <th>Content</th>\n",
       "      <th>Type</th>\n",
       "      <th>ID</th>\n",
       "      <th>Flavour</th>\n",
       "      <th>BrewID</th>\n",
       "      <th>12</th>\n",
       "      <th>16</th>\n",
       "      <th>24</th>\n",
       "      <th>32</th>\n",
       "      <th>Other</th>\n",
       "    </tr>\n",
       "  </thead>\n",
       "  <tbody>\n",
       "    <tr>\n",
       "      <th>0</th>\n",
       "      <td>22.000</td>\n",
       "      <td>IBU</td>\n",
       "      <td>1887</td>\n",
       "      <td>Abbey Single Ale</td>\n",
       "      <td>57</td>\n",
       "      <td>Abbey's Single Ale (Current)</td>\n",
       "      <td>NaN</td>\n",
       "      <td>NaN</td>\n",
       "      <td>NaN</td>\n",
       "      <td>NaN</td>\n",
       "    </tr>\n",
       "    <tr>\n",
       "      <th>1</th>\n",
       "      <td>22.000</td>\n",
       "      <td>IBU</td>\n",
       "      <td>2505</td>\n",
       "      <td>Abbey Single Ale</td>\n",
       "      <td>57</td>\n",
       "      <td>Abbey's Single (2015- )</td>\n",
       "      <td>NaN</td>\n",
       "      <td>NaN</td>\n",
       "      <td>NaN</td>\n",
       "      <td>NaN</td>\n",
       "    </tr>\n",
       "    <tr>\n",
       "      <th>2</th>\n",
       "      <td>0.049</td>\n",
       "      <td>AP</td>\n",
       "      <td>1887</td>\n",
       "      <td>Abbey Single Ale</td>\n",
       "      <td>57</td>\n",
       "      <td>Abbey's Single Ale (Current)</td>\n",
       "      <td>NaN</td>\n",
       "      <td>NaN</td>\n",
       "      <td>NaN</td>\n",
       "      <td>NaN</td>\n",
       "    </tr>\n",
       "    <tr>\n",
       "      <th>3</th>\n",
       "      <td>0.049</td>\n",
       "      <td>AP</td>\n",
       "      <td>2505</td>\n",
       "      <td>Abbey Single Ale</td>\n",
       "      <td>57</td>\n",
       "      <td>Abbey's Single (2015- )</td>\n",
       "      <td>NaN</td>\n",
       "      <td>NaN</td>\n",
       "      <td>NaN</td>\n",
       "      <td>NaN</td>\n",
       "    </tr>\n",
       "    <tr>\n",
       "      <th>4</th>\n",
       "      <td>40.000</td>\n",
       "      <td>IBU</td>\n",
       "      <td>502</td>\n",
       "      <td>Altbier</td>\n",
       "      <td>395</td>\n",
       "      <td>Alteration</td>\n",
       "      <td>NaN</td>\n",
       "      <td>NaN</td>\n",
       "      <td>NaN</td>\n",
       "      <td>NaN</td>\n",
       "    </tr>\n",
       "  </tbody>\n",
       "</table>\n",
       "</div>"
      ],
      "text/plain": [
       "   Content Type    ID           Flavour  BrewID                            12  \\\n",
       "0   22.000  IBU  1887  Abbey Single Ale      57  Abbey's Single Ale (Current)   \n",
       "1   22.000  IBU  2505  Abbey Single Ale      57       Abbey's Single (2015- )   \n",
       "2    0.049   AP  1887  Abbey Single Ale      57  Abbey's Single Ale (Current)   \n",
       "3    0.049   AP  2505  Abbey Single Ale      57       Abbey's Single (2015- )   \n",
       "4   40.000  IBU   502           Altbier     395                    Alteration   \n",
       "\n",
       "    16   24   32 Other  \n",
       "0  NaN  NaN  NaN   NaN  \n",
       "1  NaN  NaN  NaN   NaN  \n",
       "2  NaN  NaN  NaN   NaN  \n",
       "3  NaN  NaN  NaN   NaN  \n",
       "4  NaN  NaN  NaN   NaN  "
      ]
     },
     "execution_count": 66,
     "metadata": {},
     "output_type": "execute_result"
    }
   ],
   "source": [
    "URL=\"https://raw.githubusercontent.com/sukhjitsehra/datasets/master/DATA200/Datasets/Beers.csv\"\n",
    "beers= pd.read_csv(URL, index_col = False)\n",
    "beers.head() # To look at first few rows of records of dataset"
   ]
  },
  {
   "cell_type": "markdown",
   "metadata": {
    "id": "inEZ5DsSTiYz",
    "nbgrader": {
     "grade": false,
     "grade_id": "basic_shape",
     "locked": true,
     "schema_version": 2,
     "solution": false
    }
   },
   "source": [
    "You can obtain the dimensions of a dataframe by using the shape attribute `dataframe.shape`."
   ]
  },
  {
   "cell_type": "code",
   "execution_count": 67,
   "metadata": {
    "id": "xI4AFiMxTiYz",
    "nbgrader": {
     "grade": false,
     "grade_id": "basic_shape_code",
     "locked": true,
     "schema_version": 2,
     "solution": false
    },
    "outputId": "7707db5e-bf57-4737-b8e8-9f875e4c3988"
   },
   "outputs": [
    {
     "data": {
      "text/plain": [
       "(4820, 10)"
      ]
     },
     "execution_count": 67,
     "metadata": {},
     "output_type": "execute_result"
    }
   ],
   "source": [
    "beers.shape"
   ]
  },
  {
   "cell_type": "markdown",
   "metadata": {
    "id": "arb-1uhWTiYz"
   },
   "source": [
    "To look at the information of the dataframe by `dataframe.info()` method, i.e. Column names, Non-Null count, and Dtype (datatype of data in each column)."
   ]
  },
  {
   "cell_type": "code",
   "execution_count": 83,
   "metadata": {
    "id": "HHVkYVqBTiYz",
    "outputId": "40c1dff4-1bda-4474-d7ff-16aa75ffa51f"
   },
   "outputs": [
    {
     "name": "stdout",
     "output_type": "stream",
     "text": [
      "<class 'pandas.core.frame.DataFrame'>\n",
      "RangeIndex: 4820 entries, 0 to 4819\n",
      "Data columns (total 10 columns):\n",
      " #   Column   Non-Null Count  Dtype  \n",
      "---  ------   --------------  -----  \n",
      " 0   Content  3753 non-null   float64\n",
      " 1   Type     4820 non-null   object \n",
      " 2   ID       4820 non-null   int64  \n",
      " 3   Flavour  4810 non-null   object \n",
      " 4   BrewID   4820 non-null   int64  \n",
      " 5   12       3052 non-null   object \n",
      " 6   16       1682 non-null   object \n",
      " 7   24       44 non-null     object \n",
      " 8   32       10 non-null     object \n",
      " 9   Other    34 non-null     object \n",
      "dtypes: float64(1), int64(2), object(7)\n",
      "memory usage: 376.7+ KB\n"
     ]
    }
   ],
   "source": [
    "beers.info()"
   ]
  },
  {
   "cell_type": "markdown",
   "metadata": {
    "id": "C-2iLe8UTiYz"
   },
   "source": [
    "To look at the basic statistics of numeric columns in the dataframe by `dataframe.describe()` method. "
   ]
  },
  {
   "cell_type": "code",
   "execution_count": 68,
   "metadata": {
    "id": "uHhCpoT_TiYz",
    "outputId": "c4031e2c-131d-4814-d212-903d9c3038bf"
   },
   "outputs": [
    {
     "data": {
      "text/html": [
       "<div>\n",
       "<style scoped>\n",
       "    .dataframe tbody tr th:only-of-type {\n",
       "        vertical-align: middle;\n",
       "    }\n",
       "\n",
       "    .dataframe tbody tr th {\n",
       "        vertical-align: top;\n",
       "    }\n",
       "\n",
       "    .dataframe thead th {\n",
       "        text-align: right;\n",
       "    }\n",
       "</style>\n",
       "<table border=\"1\" class=\"dataframe\">\n",
       "  <thead>\n",
       "    <tr style=\"text-align: right;\">\n",
       "      <th></th>\n",
       "      <th>Content</th>\n",
       "      <th>ID</th>\n",
       "      <th>BrewID</th>\n",
       "    </tr>\n",
       "  </thead>\n",
       "  <tbody>\n",
       "    <tr>\n",
       "      <th>count</th>\n",
       "      <td>3753.000000</td>\n",
       "      <td>4820.000000</td>\n",
       "      <td>4820.000000</td>\n",
       "    </tr>\n",
       "    <tr>\n",
       "      <th>mean</th>\n",
       "      <td>16.027804</td>\n",
       "      <td>1431.113278</td>\n",
       "      <td>231.749793</td>\n",
       "    </tr>\n",
       "    <tr>\n",
       "      <th>std</th>\n",
       "      <td>26.044056</td>\n",
       "      <td>752.381898</td>\n",
       "      <td>157.669242</td>\n",
       "    </tr>\n",
       "    <tr>\n",
       "      <th>min</th>\n",
       "      <td>0.001000</td>\n",
       "      <td>1.000000</td>\n",
       "      <td>0.000000</td>\n",
       "    </tr>\n",
       "    <tr>\n",
       "      <th>25%</th>\n",
       "      <td>0.054000</td>\n",
       "      <td>808.000000</td>\n",
       "      <td>93.000000</td>\n",
       "    </tr>\n",
       "    <tr>\n",
       "      <th>50%</th>\n",
       "      <td>0.070000</td>\n",
       "      <td>1453.500000</td>\n",
       "      <td>205.000000</td>\n",
       "    </tr>\n",
       "    <tr>\n",
       "      <th>75%</th>\n",
       "      <td>25.000000</td>\n",
       "      <td>2076.000000</td>\n",
       "      <td>366.000000</td>\n",
       "    </tr>\n",
       "    <tr>\n",
       "      <th>max</th>\n",
       "      <td>138.000000</td>\n",
       "      <td>2692.000000</td>\n",
       "      <td>557.000000</td>\n",
       "    </tr>\n",
       "  </tbody>\n",
       "</table>\n",
       "</div>"
      ],
      "text/plain": [
       "           Content           ID       BrewID\n",
       "count  3753.000000  4820.000000  4820.000000\n",
       "mean     16.027804  1431.113278   231.749793\n",
       "std      26.044056   752.381898   157.669242\n",
       "min       0.001000     1.000000     0.000000\n",
       "25%       0.054000   808.000000    93.000000\n",
       "50%       0.070000  1453.500000   205.000000\n",
       "75%      25.000000  2076.000000   366.000000\n",
       "max     138.000000  2692.000000   557.000000"
      ]
     },
     "execution_count": 68,
     "metadata": {},
     "output_type": "execute_result"
    }
   ],
   "source": [
    "beers.describe()"
   ]
  },
  {
   "cell_type": "markdown",
   "metadata": {
    "id": "kJnZXg4WTiY0"
   },
   "source": [
    "You can also convert the entire dataframe into a two-dimensional numpy array."
   ]
  },
  {
   "cell_type": "code",
   "execution_count": 69,
   "metadata": {
    "id": "KwsYZHvPTiY0",
    "outputId": "24c4db67-abd8-4f76-a0f7-71130ca66b2e"
   },
   "outputs": [
    {
     "data": {
      "text/plain": [
       "array([[22.0, 'IBU', 1887, ..., nan, nan, nan],\n",
       "       [22.0, 'IBU', 2505, ..., nan, nan, nan],\n",
       "       [0.049, 'AP', 1887, ..., nan, nan, nan],\n",
       "       ...,\n",
       "       [nan, 'AP', 2210, ..., nan, nan, nan],\n",
       "       [0.053, 'AP', 2527, ..., nan, nan, nan],\n",
       "       [nan, 'AP', 1796, ..., nan, 'The CROWLER™', nan]], dtype=object)"
      ]
     },
     "execution_count": 69,
     "metadata": {},
     "output_type": "execute_result"
    }
   ],
   "source": [
    "beers.values"
   ]
  },
  {
   "cell_type": "markdown",
   "metadata": {
    "id": "qBbkjAhuTiY0"
   },
   "source": [
    "### Select the subset of a dataframe\n",
    "\n",
    "Pandas provide methods for slicing, selecting, and extracting the data you need from a dataframe.\n",
    "\n",
    "- Select specific rows and/or columns using `loc` when using the row and column names.\n",
    "- Select specific rows and/or columns using `iloc` when using the positions in the table."
   ]
  },
  {
   "cell_type": "markdown",
   "metadata": {
    "id": "xGSgUplxTiY0",
    "nbgrader": {
     "grade": false,
     "grade_id": "slicing_text",
     "locked": true,
     "schema_version": 2,
     "solution": false
    }
   },
   "source": [
    "#### Selection Using Label/Index (using loc)\n",
    "\n",
    "**Column Selection** \n",
    "\n",
    "To select a column of a `DataFrame` by column label, the safest and fastest way is to use the `.loc` [method](https://pandas.pydata.org/pandas-docs/stable/generated/pandas.DataFrame.loc.html). General usage of `.loc` looks like `df.loc[rowname, colname]`. (Reminder that the colon `:` means \"everything.\")  For example, if we want the `color` column of the `ex` data frame, we would use: `ex.loc[:, 'color']`\n",
    "\n",
    "- You can also slice across columns. For example, `beers.loc[:, 'Name':]` would select the column `Name` and all columns after `Name`.\n",
    "\n",
    "- *Alternative:* While `.loc` is invaluable when writing production code, it may be a little too verbose for interactive use. One recommended alternative is the `[]` method, which takes on the form `df['colname']`.\n",
    "\n",
    "**Row Selection**\n",
    "\n",
    "Similarly, if we want to select a row by its label, we can use the same `.loc` method. In this case, the \"label\" of each row refers to the index (ie. primary key) of the dataframe."
   ]
  },
  {
   "cell_type": "code",
   "execution_count": 70,
   "metadata": {
    "id": "v695qItNTiY0",
    "nbgrader": {
     "grade": false,
     "grade_id": "slicing_e1",
     "locked": true,
     "schema_version": 2,
     "solution": false
    },
    "outputId": "72f9eb4d-d336-4f73-b26c-524724714982"
   },
   "outputs": [
    {
     "data": {
      "text/plain": [
       "2    Abbey Single Ale\n",
       "3    Abbey Single Ale\n",
       "4             Altbier\n",
       "5             Altbier\n",
       "Name: Flavour, dtype: object"
      ]
     },
     "execution_count": 70,
     "metadata": {},
     "output_type": "execute_result"
    }
   ],
   "source": [
    "#Example:\n",
    "beers.loc[2:5, 'Flavour'] # Here, 2:5 are the row's index."
   ]
  },
  {
   "cell_type": "code",
   "execution_count": 71,
   "metadata": {
    "id": "zhdmdcroTiY1",
    "nbgrader": {
     "grade": false,
     "grade_id": "slicing_e2",
     "locked": true,
     "schema_version": 2,
     "solution": false
    },
    "outputId": "837268dd-53d0-4c5e-af4a-e99063cadb30"
   },
   "outputs": [
    {
     "data": {
      "text/html": [
       "<div>\n",
       "<style scoped>\n",
       "    .dataframe tbody tr th:only-of-type {\n",
       "        vertical-align: middle;\n",
       "    }\n",
       "\n",
       "    .dataframe tbody tr th {\n",
       "        vertical-align: top;\n",
       "    }\n",
       "\n",
       "    .dataframe thead th {\n",
       "        text-align: right;\n",
       "    }\n",
       "</style>\n",
       "<table border=\"1\" class=\"dataframe\">\n",
       "  <thead>\n",
       "    <tr style=\"text-align: right;\">\n",
       "      <th></th>\n",
       "      <th>Flavour</th>\n",
       "    </tr>\n",
       "  </thead>\n",
       "  <tbody>\n",
       "    <tr>\n",
       "      <th>2</th>\n",
       "      <td>Abbey Single Ale</td>\n",
       "    </tr>\n",
       "    <tr>\n",
       "      <th>3</th>\n",
       "      <td>Abbey Single Ale</td>\n",
       "    </tr>\n",
       "    <tr>\n",
       "      <th>4</th>\n",
       "      <td>Altbier</td>\n",
       "    </tr>\n",
       "    <tr>\n",
       "      <th>5</th>\n",
       "      <td>Altbier</td>\n",
       "    </tr>\n",
       "  </tbody>\n",
       "</table>\n",
       "</div>"
      ],
      "text/plain": [
       "            Flavour\n",
       "2  Abbey Single Ale\n",
       "3  Abbey Single Ale\n",
       "4           Altbier\n",
       "5           Altbier"
      ]
     },
     "execution_count": 71,
     "metadata": {},
     "output_type": "execute_result"
    }
   ],
   "source": [
    "#Example:  Notice the difference between these two methods\n",
    "#Just passing in 'Name' returns a Series while ['Name'] returns a Dataframe\n",
    "beers.loc[2:5, ['Flavour']]"
   ]
  },
  {
   "cell_type": "markdown",
   "metadata": {
    "id": "h6ZwRvrUTiY1",
    "nbgrader": {
     "grade": false,
     "grade_id": "slicing_loc_iloc",
     "locked": true,
     "schema_version": 2,
     "solution": false
    }
   },
   "source": [
    "The `.loc` uses the Pandas row index rather than row id/position of rows in the dataframe to perform the selection. Also, notice that if you write `2:5` with `loc[]`, contrary to normal Python slicing functionality, the end index is included, so you get the row with index 5. \n"
   ]
  },
  {
   "cell_type": "markdown",
   "metadata": {
    "id": "fjp1o8JATiY1"
   },
   "source": [
    "### Selection using Integer location (using iloc)"
   ]
  },
  {
   "cell_type": "markdown",
   "metadata": {
    "id": "gihF5xrUTiY1",
    "nbgrader": {
     "grade": false,
     "grade_id": "cell-463dfc0b4ae2e39d",
     "locked": true,
     "schema_version": 2,
     "solution": false
    }
   },
   "source": [
    "Another pandas feature is `iloc[]`, which lets you slice the dataframe by row position and column position instead of row index and column label (which is the case for `loc[]`). This is the main difference between the 2 functions and it is **important** that you remember the difference and why you might want to use one over the other. In addition, with `iloc[]`, the end index is NOT included, like with normal Python slicing.\n",
    "\n",
    "As a mnemonic, remember that the `i` in `iloc` means \"integer\". \n",
    "\n",
    "Below, we have sorted the `beers` dataframe. Notice how the *position* of a row is not necessarily equal to the *index* of a row. For example, the first row is not necessarily the row associated with index 1. This distinction is important in understanding the difference between `loc[]` and `iloc[]`.\n",
    "\n",
    "For this we would sort the data by 'ID', the sort_values() method is used to get data in the order. `sort_values(...)` defaults to ascending order, so if we want it to be descending order then an argument `ascending=False` can be passed to `sort_values(...)` function. "
   ]
  },
  {
   "cell_type": "code",
   "execution_count": 63,
   "metadata": {
    "id": "6wnXH6poTiY1",
    "outputId": "621cbfc4-95f2-42c3-b13e-3b5072ff6f9c",
    "scrolled": false
   },
   "outputs": [
    {
     "data": {
      "text/html": [
       "<div>\n",
       "<style scoped>\n",
       "    .dataframe tbody tr th:only-of-type {\n",
       "        vertical-align: middle;\n",
       "    }\n",
       "\n",
       "    .dataframe tbody tr th {\n",
       "        vertical-align: top;\n",
       "    }\n",
       "\n",
       "    .dataframe thead th {\n",
       "        text-align: right;\n",
       "    }\n",
       "</style>\n",
       "<table border=\"1\" class=\"dataframe\">\n",
       "  <thead>\n",
       "    <tr style=\"text-align: right;\">\n",
       "      <th></th>\n",
       "      <th>Content</th>\n",
       "      <th>Type</th>\n",
       "      <th>ID</th>\n",
       "      <th>Flavour</th>\n",
       "      <th>BrewID</th>\n",
       "      <th>12</th>\n",
       "      <th>16</th>\n",
       "      <th>24</th>\n",
       "      <th>32</th>\n",
       "      <th>Other</th>\n",
       "    </tr>\n",
       "  </thead>\n",
       "  <tbody>\n",
       "    <tr>\n",
       "      <th>2171</th>\n",
       "      <td>0.065</td>\n",
       "      <td>AP</td>\n",
       "      <td>1</td>\n",
       "      <td>American Pale Ale (APA)</td>\n",
       "      <td>166</td>\n",
       "      <td>Dale's Pale Ale</td>\n",
       "      <td>NaN</td>\n",
       "      <td>NaN</td>\n",
       "      <td>NaN</td>\n",
       "      <td>NaN</td>\n",
       "    </tr>\n",
       "    <tr>\n",
       "      <th>1926</th>\n",
       "      <td>65.000</td>\n",
       "      <td>IBU</td>\n",
       "      <td>1</td>\n",
       "      <td>American Pale Ale (APA)</td>\n",
       "      <td>166</td>\n",
       "      <td>Dale's Pale Ale</td>\n",
       "      <td>NaN</td>\n",
       "      <td>NaN</td>\n",
       "      <td>NaN</td>\n",
       "      <td>NaN</td>\n",
       "    </tr>\n",
       "    <tr>\n",
       "      <th>838</th>\n",
       "      <td>85.000</td>\n",
       "      <td>IBU</td>\n",
       "      <td>4</td>\n",
       "      <td>American Double / Imperial IPA</td>\n",
       "      <td>166</td>\n",
       "      <td>Gordon Ale (2009)</td>\n",
       "      <td>NaN</td>\n",
       "      <td>NaN</td>\n",
       "      <td>NaN</td>\n",
       "      <td>NaN</td>\n",
       "    </tr>\n",
       "    <tr>\n",
       "      <th>943</th>\n",
       "      <td>0.087</td>\n",
       "      <td>AP</td>\n",
       "      <td>4</td>\n",
       "      <td>American Double / Imperial IPA</td>\n",
       "      <td>166</td>\n",
       "      <td>Gordon Ale (2009)</td>\n",
       "      <td>NaN</td>\n",
       "      <td>NaN</td>\n",
       "      <td>NaN</td>\n",
       "      <td>NaN</td>\n",
       "    </tr>\n",
       "    <tr>\n",
       "      <th>4568</th>\n",
       "      <td>35.000</td>\n",
       "      <td>IBU</td>\n",
       "      <td>5</td>\n",
       "      <td>Scottish Ale</td>\n",
       "      <td>166</td>\n",
       "      <td>Old Chub</td>\n",
       "      <td>NaN</td>\n",
       "      <td>NaN</td>\n",
       "      <td>NaN</td>\n",
       "      <td>NaN</td>\n",
       "    </tr>\n",
       "  </tbody>\n",
       "</table>\n",
       "</div>"
      ],
      "text/plain": [
       "      Content Type  ID                         Flavour  BrewID  \\\n",
       "2171    0.065   AP   1         American Pale Ale (APA)     166   \n",
       "1926   65.000  IBU   1         American Pale Ale (APA)     166   \n",
       "838    85.000  IBU   4  American Double / Imperial IPA     166   \n",
       "943     0.087   AP   4  American Double / Imperial IPA     166   \n",
       "4568   35.000  IBU   5                    Scottish Ale     166   \n",
       "\n",
       "                     12   16   24   32 Other  \n",
       "2171    Dale's Pale Ale  NaN  NaN  NaN   NaN  \n",
       "1926    Dale's Pale Ale  NaN  NaN  NaN   NaN  \n",
       "838   Gordon Ale (2009)  NaN  NaN  NaN   NaN  \n",
       "943   Gordon Ale (2009)  NaN  NaN  NaN   NaN  \n",
       "4568           Old Chub  NaN  NaN  NaN   NaN  "
      ]
     },
     "execution_count": 63,
     "metadata": {},
     "output_type": "execute_result"
    }
   ],
   "source": [
    "sorted_beers = beers.sort_values(by=['ID']) # For descending order beers.sort_values(by=['ID'],ascending=False)\n",
    "sorted_beers.head()"
   ]
  },
  {
   "cell_type": "markdown",
   "metadata": {
    "id": "YeivVJDQTiY2"
   },
   "source": [
    "Here is an example of how we would get the 12 rows with only the `ID` column of the  `sorted_beers` dataframe using both `iloc[]` and `loc[]`. Observe the difference, especially after sorting `beers` by ID."
   ]
  },
  {
   "cell_type": "code",
   "execution_count": 64,
   "metadata": {
    "id": "TuPiDtMTTiY2",
    "nbgrader": {
     "grade": false,
     "grade_id": "cell-1292533181dbd2eb",
     "locked": true,
     "schema_version": 2,
     "solution": false
    },
    "outputId": "0bef54b6-2950-4aa5-b810-1399598f973d"
   },
   "outputs": [
    {
     "data": {
      "text/plain": [
       "2171    1\n",
       "1926    1\n",
       "838     4\n",
       "943     4\n",
       "4568    5\n",
       "4587    5\n",
       "839     6\n",
       "944     6\n",
       "3388    7\n",
       "3360    7\n",
       "4369    8\n",
       "4358    8\n",
       "Name: ID, dtype: int64"
      ]
     },
     "execution_count": 64,
     "metadata": {},
     "output_type": "execute_result"
    }
   ],
   "source": [
    "sorted_beers.iloc[0:12, 2]"
   ]
  },
  {
   "cell_type": "markdown",
   "metadata": {
    "id": "gg4ubVkbTiY2"
   },
   "source": [
    "Notice that using `loc[]` with 0:12 gives different results, since it selects using the *index*."
   ]
  },
  {
   "cell_type": "code",
   "execution_count": 65,
   "metadata": {
    "id": "q_WV52s4TiY2",
    "nbgrader": {
     "grade": false,
     "grade_id": "cell-31c9d32586d65565",
     "locked": true,
     "schema_version": 2,
     "solution": false
    },
    "outputId": "7f0bb092-31f2-4cb1-ac12-fa91892f9edb"
   },
   "outputs": [
    {
     "data": {
      "text/plain": [
       "0       1887\n",
       "2       1887\n",
       "1011    1888\n",
       "906     1888\n",
       "294     1889\n",
       "        ... \n",
       "4407    1918\n",
       "4389    1918\n",
       "4168    1919\n",
       "4163    1919\n",
       "12      1920\n",
       "Name: ID, Length: 65, dtype: int64"
      ]
     },
     "execution_count": 65,
     "metadata": {},
     "output_type": "execute_result"
    }
   ],
   "source": [
    "sorted_beers.loc[0:12,'ID'] # Rows with label/index between 0 to 12"
   ]
  },
  {
   "cell_type": "markdown",
   "metadata": {
    "id": "chekSteuTiY2",
    "nbgrader": {
     "grade": false,
     "grade_id": "cell-17ca8e630cf2d4bd",
     "locked": true,
     "schema_version": 2,
     "solution": false
    }
   },
   "source": [
    "Lastly, we can change the index of a dataframe using the `set_index` method."
   ]
  },
  {
   "cell_type": "code",
   "execution_count": 66,
   "metadata": {
    "id": "xvPv2ZE9TiY3",
    "nbgrader": {
     "grade": false,
     "grade_id": "slicing_e3",
     "locked": true,
     "schema_version": 2,
     "solution": false
    },
    "outputId": "9eae21c0-5367-4c33-b6f8-79bfb6adbd6b"
   },
   "outputs": [
    {
     "data": {
      "text/html": [
       "<div>\n",
       "<style scoped>\n",
       "    .dataframe tbody tr th:only-of-type {\n",
       "        vertical-align: middle;\n",
       "    }\n",
       "\n",
       "    .dataframe tbody tr th {\n",
       "        vertical-align: top;\n",
       "    }\n",
       "\n",
       "    .dataframe thead th {\n",
       "        text-align: right;\n",
       "    }\n",
       "</style>\n",
       "<table border=\"1\" class=\"dataframe\">\n",
       "  <thead>\n",
       "    <tr style=\"text-align: right;\">\n",
       "      <th></th>\n",
       "      <th>Content</th>\n",
       "      <th>Type</th>\n",
       "      <th>Flavour</th>\n",
       "      <th>BrewID</th>\n",
       "      <th>12</th>\n",
       "      <th>16</th>\n",
       "      <th>24</th>\n",
       "      <th>32</th>\n",
       "      <th>Other</th>\n",
       "    </tr>\n",
       "    <tr>\n",
       "      <th>ID</th>\n",
       "      <th></th>\n",
       "      <th></th>\n",
       "      <th></th>\n",
       "      <th></th>\n",
       "      <th></th>\n",
       "      <th></th>\n",
       "      <th></th>\n",
       "      <th></th>\n",
       "      <th></th>\n",
       "    </tr>\n",
       "  </thead>\n",
       "  <tbody>\n",
       "    <tr>\n",
       "      <th>1887</th>\n",
       "      <td>22.000</td>\n",
       "      <td>IBU</td>\n",
       "      <td>Abbey Single Ale</td>\n",
       "      <td>57</td>\n",
       "      <td>Abbey's Single Ale (Current)</td>\n",
       "      <td>NaN</td>\n",
       "      <td>NaN</td>\n",
       "      <td>NaN</td>\n",
       "      <td>NaN</td>\n",
       "    </tr>\n",
       "    <tr>\n",
       "      <th>2505</th>\n",
       "      <td>22.000</td>\n",
       "      <td>IBU</td>\n",
       "      <td>Abbey Single Ale</td>\n",
       "      <td>57</td>\n",
       "      <td>Abbey's Single (2015- )</td>\n",
       "      <td>NaN</td>\n",
       "      <td>NaN</td>\n",
       "      <td>NaN</td>\n",
       "      <td>NaN</td>\n",
       "    </tr>\n",
       "    <tr>\n",
       "      <th>1887</th>\n",
       "      <td>0.049</td>\n",
       "      <td>AP</td>\n",
       "      <td>Abbey Single Ale</td>\n",
       "      <td>57</td>\n",
       "      <td>Abbey's Single Ale (Current)</td>\n",
       "      <td>NaN</td>\n",
       "      <td>NaN</td>\n",
       "      <td>NaN</td>\n",
       "      <td>NaN</td>\n",
       "    </tr>\n",
       "    <tr>\n",
       "      <th>2505</th>\n",
       "      <td>0.049</td>\n",
       "      <td>AP</td>\n",
       "      <td>Abbey Single Ale</td>\n",
       "      <td>57</td>\n",
       "      <td>Abbey's Single (2015- )</td>\n",
       "      <td>NaN</td>\n",
       "      <td>NaN</td>\n",
       "      <td>NaN</td>\n",
       "      <td>NaN</td>\n",
       "    </tr>\n",
       "    <tr>\n",
       "      <th>502</th>\n",
       "      <td>40.000</td>\n",
       "      <td>IBU</td>\n",
       "      <td>Altbier</td>\n",
       "      <td>395</td>\n",
       "      <td>Alteration</td>\n",
       "      <td>NaN</td>\n",
       "      <td>NaN</td>\n",
       "      <td>NaN</td>\n",
       "      <td>NaN</td>\n",
       "    </tr>\n",
       "  </tbody>\n",
       "</table>\n",
       "</div>"
      ],
      "text/plain": [
       "      Content Type           Flavour  BrewID                            12  \\\n",
       "ID                                                                           \n",
       "1887   22.000  IBU  Abbey Single Ale      57  Abbey's Single Ale (Current)   \n",
       "2505   22.000  IBU  Abbey Single Ale      57       Abbey's Single (2015- )   \n",
       "1887    0.049   AP  Abbey Single Ale      57  Abbey's Single Ale (Current)   \n",
       "2505    0.049   AP  Abbey Single Ale      57       Abbey's Single (2015- )   \n",
       "502    40.000  IBU           Altbier     395                    Alteration   \n",
       "\n",
       "       16   24   32 Other  \n",
       "ID                         \n",
       "1887  NaN  NaN  NaN   NaN  \n",
       "2505  NaN  NaN  NaN   NaN  \n",
       "1887  NaN  NaN  NaN   NaN  \n",
       "2505  NaN  NaN  NaN   NaN  \n",
       "502   NaN  NaN  NaN   NaN  "
      ]
     },
     "execution_count": 66,
     "metadata": {},
     "output_type": "execute_result"
    }
   ],
   "source": [
    "#Example: We change the index from 0,1,2... to the Name column\n",
    "df = beers[:5].set_index(\"ID\") \n",
    "df"
   ]
  },
  {
   "cell_type": "markdown",
   "metadata": {
    "id": "esRs-OnyTiY3",
    "nbgrader": {
     "grade": false,
     "grade_id": "slicing_loc_index",
     "locked": true,
     "schema_version": 2,
     "solution": false
    }
   },
   "source": [
    "We can now lookup rows by name directly:"
   ]
  },
  {
   "cell_type": "code",
   "execution_count": 67,
   "metadata": {
    "id": "xp64b6XdTiY3",
    "nbgrader": {
     "grade": false,
     "grade_id": "slicing_loc_index_code",
     "locked": true,
     "schema_version": 2,
     "solution": false
    },
    "outputId": "7e4be0e2-608c-4466-cc47-3318ca92d035"
   },
   "outputs": [
    {
     "data": {
      "text/html": [
       "<div>\n",
       "<style scoped>\n",
       "    .dataframe tbody tr th:only-of-type {\n",
       "        vertical-align: middle;\n",
       "    }\n",
       "\n",
       "    .dataframe tbody tr th {\n",
       "        vertical-align: top;\n",
       "    }\n",
       "\n",
       "    .dataframe thead th {\n",
       "        text-align: right;\n",
       "    }\n",
       "</style>\n",
       "<table border=\"1\" class=\"dataframe\">\n",
       "  <thead>\n",
       "    <tr style=\"text-align: right;\">\n",
       "      <th></th>\n",
       "      <th>Content</th>\n",
       "      <th>Type</th>\n",
       "      <th>Flavour</th>\n",
       "      <th>BrewID</th>\n",
       "      <th>12</th>\n",
       "      <th>16</th>\n",
       "      <th>24</th>\n",
       "      <th>32</th>\n",
       "      <th>Other</th>\n",
       "    </tr>\n",
       "    <tr>\n",
       "      <th>ID</th>\n",
       "      <th></th>\n",
       "      <th></th>\n",
       "      <th></th>\n",
       "      <th></th>\n",
       "      <th></th>\n",
       "      <th></th>\n",
       "      <th></th>\n",
       "      <th></th>\n",
       "      <th></th>\n",
       "    </tr>\n",
       "  </thead>\n",
       "  <tbody>\n",
       "    <tr>\n",
       "      <th>1887</th>\n",
       "      <td>22.000</td>\n",
       "      <td>IBU</td>\n",
       "      <td>Abbey Single Ale</td>\n",
       "      <td>57</td>\n",
       "      <td>Abbey's Single Ale (Current)</td>\n",
       "      <td>NaN</td>\n",
       "      <td>NaN</td>\n",
       "      <td>NaN</td>\n",
       "      <td>NaN</td>\n",
       "    </tr>\n",
       "    <tr>\n",
       "      <th>1887</th>\n",
       "      <td>0.049</td>\n",
       "      <td>AP</td>\n",
       "      <td>Abbey Single Ale</td>\n",
       "      <td>57</td>\n",
       "      <td>Abbey's Single Ale (Current)</td>\n",
       "      <td>NaN</td>\n",
       "      <td>NaN</td>\n",
       "      <td>NaN</td>\n",
       "      <td>NaN</td>\n",
       "    </tr>\n",
       "    <tr>\n",
       "      <th>2505</th>\n",
       "      <td>22.000</td>\n",
       "      <td>IBU</td>\n",
       "      <td>Abbey Single Ale</td>\n",
       "      <td>57</td>\n",
       "      <td>Abbey's Single (2015- )</td>\n",
       "      <td>NaN</td>\n",
       "      <td>NaN</td>\n",
       "      <td>NaN</td>\n",
       "      <td>NaN</td>\n",
       "    </tr>\n",
       "    <tr>\n",
       "      <th>2505</th>\n",
       "      <td>0.049</td>\n",
       "      <td>AP</td>\n",
       "      <td>Abbey Single Ale</td>\n",
       "      <td>57</td>\n",
       "      <td>Abbey's Single (2015- )</td>\n",
       "      <td>NaN</td>\n",
       "      <td>NaN</td>\n",
       "      <td>NaN</td>\n",
       "      <td>NaN</td>\n",
       "    </tr>\n",
       "  </tbody>\n",
       "</table>\n",
       "</div>"
      ],
      "text/plain": [
       "      Content Type           Flavour  BrewID                            12  \\\n",
       "ID                                                                           \n",
       "1887   22.000  IBU  Abbey Single Ale      57  Abbey's Single Ale (Current)   \n",
       "1887    0.049   AP  Abbey Single Ale      57  Abbey's Single Ale (Current)   \n",
       "2505   22.000  IBU  Abbey Single Ale      57       Abbey's Single (2015- )   \n",
       "2505    0.049   AP  Abbey Single Ale      57       Abbey's Single (2015- )   \n",
       "\n",
       "       16   24   32 Other  \n",
       "ID                         \n",
       "1887  NaN  NaN  NaN   NaN  \n",
       "1887  NaN  NaN  NaN   NaN  \n",
       "2505  NaN  NaN  NaN   NaN  \n",
       "2505  NaN  NaN  NaN   NaN  "
      ]
     },
     "execution_count": 67,
     "metadata": {},
     "output_type": "execute_result"
    }
   ],
   "source": [
    "df.loc[[1887, 2505], :]"
   ]
  },
  {
   "cell_type": "markdown",
   "metadata": {
    "id": "yApnMx02TiY3",
    "nbgrader": {
     "grade": false,
     "grade_id": "slicing_iloc",
     "locked": true,
     "schema_version": 2,
     "solution": false
    }
   },
   "source": [
    "However, if we still want to access rows by location we will need to use the integer loc (`iloc`) accessor:"
   ]
  },
  {
   "cell_type": "code",
   "execution_count": 68,
   "metadata": {
    "id": "kMpnsYRNTiY3",
    "nbgrader": {
     "grade": false,
     "grade_id": "slicing_iloc_code",
     "locked": true,
     "schema_version": 2,
     "solution": false
    },
    "outputId": "c81178df-544b-42ef-8d89-fd2da458dbc2"
   },
   "outputs": [
    {
     "data": {
      "text/html": [
       "<div>\n",
       "<style scoped>\n",
       "    .dataframe tbody tr th:only-of-type {\n",
       "        vertical-align: middle;\n",
       "    }\n",
       "\n",
       "    .dataframe tbody tr th {\n",
       "        vertical-align: top;\n",
       "    }\n",
       "\n",
       "    .dataframe thead th {\n",
       "        text-align: right;\n",
       "    }\n",
       "</style>\n",
       "<table border=\"1\" class=\"dataframe\">\n",
       "  <thead>\n",
       "    <tr style=\"text-align: right;\">\n",
       "      <th></th>\n",
       "      <th>Flavour</th>\n",
       "      <th>BrewID</th>\n",
       "    </tr>\n",
       "    <tr>\n",
       "      <th>ID</th>\n",
       "      <th></th>\n",
       "      <th></th>\n",
       "    </tr>\n",
       "  </thead>\n",
       "  <tbody>\n",
       "    <tr>\n",
       "      <th>2505</th>\n",
       "      <td>Abbey Single Ale</td>\n",
       "      <td>57</td>\n",
       "    </tr>\n",
       "    <tr>\n",
       "      <th>1887</th>\n",
       "      <td>Abbey Single Ale</td>\n",
       "      <td>57</td>\n",
       "    </tr>\n",
       "    <tr>\n",
       "      <th>2505</th>\n",
       "      <td>Abbey Single Ale</td>\n",
       "      <td>57</td>\n",
       "    </tr>\n",
       "  </tbody>\n",
       "</table>\n",
       "</div>"
      ],
      "text/plain": [
       "               Flavour  BrewID\n",
       "ID                            \n",
       "2505  Abbey Single Ale      57\n",
       "1887  Abbey Single Ale      57\n",
       "2505  Abbey Single Ale      57"
      ]
     },
     "execution_count": 68,
     "metadata": {},
     "output_type": "execute_result"
    }
   ],
   "source": [
    "df.iloc[1:4, 2:4]"
   ]
  },
  {
   "cell_type": "markdown",
   "metadata": {
    "deletable": false,
    "editable": false,
    "id": "NfHD4u-VTiY4",
    "nbgrader": {
     "grade": false,
     "grade_id": "q4",
     "locked": true,
     "schema_version": 2,
     "solution": false
    }
   },
   "source": [
    "<!-- BEGIN QUESTION -->\n",
    "\n",
    "### Question 9\n",
    "\n",
    "##### Selecting multiple columns is easy.  You just need to supply a list of column names.  Select the `ID`, `BrewID` `Content`, `Type`, and `Flavour`  **in that order** from the `beers` dataframe and name it as `beers_selected`. _Note that `.loc[...]` can be used to re-order the columns within a dataframe._\n",
    "\n",
    "<!--\n",
    "BEGIN QUESTION\n",
    "name: q9\n",
    "points: 2\n",
    "manual: true\n",
    "-->"
   ]
  },
  {
   "cell_type": "code",
   "execution_count": 69,
   "metadata": {
    "id": "Y21lIr4BTiY4",
    "nbgrader": {
     "grade": false,
     "grade_id": "q4_answer",
     "locked": false,
     "schema_version": 2,
     "solution": true
    },
    "outputId": "2ba8351e-eba5-45be-e655-3d8746fe1c69"
   },
   "outputs": [
    {
     "data": {
      "text/html": [
       "<div>\n",
       "<style scoped>\n",
       "    .dataframe tbody tr th:only-of-type {\n",
       "        vertical-align: middle;\n",
       "    }\n",
       "\n",
       "    .dataframe tbody tr th {\n",
       "        vertical-align: top;\n",
       "    }\n",
       "\n",
       "    .dataframe thead th {\n",
       "        text-align: right;\n",
       "    }\n",
       "</style>\n",
       "<table border=\"1\" class=\"dataframe\">\n",
       "  <thead>\n",
       "    <tr style=\"text-align: right;\">\n",
       "      <th></th>\n",
       "      <th>ID</th>\n",
       "      <th>BrewID</th>\n",
       "      <th>Content</th>\n",
       "      <th>Type</th>\n",
       "      <th>Flavour</th>\n",
       "    </tr>\n",
       "  </thead>\n",
       "  <tbody>\n",
       "    <tr>\n",
       "      <th>0</th>\n",
       "      <td>1887</td>\n",
       "      <td>57</td>\n",
       "      <td>22.000</td>\n",
       "      <td>IBU</td>\n",
       "      <td>Abbey Single Ale</td>\n",
       "    </tr>\n",
       "    <tr>\n",
       "      <th>1</th>\n",
       "      <td>2505</td>\n",
       "      <td>57</td>\n",
       "      <td>22.000</td>\n",
       "      <td>IBU</td>\n",
       "      <td>Abbey Single Ale</td>\n",
       "    </tr>\n",
       "    <tr>\n",
       "      <th>2</th>\n",
       "      <td>1887</td>\n",
       "      <td>57</td>\n",
       "      <td>0.049</td>\n",
       "      <td>AP</td>\n",
       "      <td>Abbey Single Ale</td>\n",
       "    </tr>\n",
       "    <tr>\n",
       "      <th>3</th>\n",
       "      <td>2505</td>\n",
       "      <td>57</td>\n",
       "      <td>0.049</td>\n",
       "      <td>AP</td>\n",
       "      <td>Abbey Single Ale</td>\n",
       "    </tr>\n",
       "    <tr>\n",
       "      <th>4</th>\n",
       "      <td>502</td>\n",
       "      <td>395</td>\n",
       "      <td>40.000</td>\n",
       "      <td>IBU</td>\n",
       "      <td>Altbier</td>\n",
       "    </tr>\n",
       "  </tbody>\n",
       "</table>\n",
       "</div>"
      ],
      "text/plain": [
       "     ID  BrewID  Content Type           Flavour\n",
       "0  1887      57   22.000  IBU  Abbey Single Ale\n",
       "1  2505      57   22.000  IBU  Abbey Single Ale\n",
       "2  1887      57    0.049   AP  Abbey Single Ale\n",
       "3  2505      57    0.049   AP  Abbey Single Ale\n",
       "4   502     395   40.000  IBU           Altbier"
      ]
     },
     "execution_count": 69,
     "metadata": {},
     "output_type": "execute_result"
    }
   ],
   "source": [
    "# Write your code here\n",
    "beers_selected = beers.loc[:, ['ID', 'BrewID', 'Content', 'Type', 'Flavour']] # SOLUTION\n",
    "beers_selected[:5]"
   ]
  },
  {
   "cell_type": "markdown",
   "metadata": {
    "id": "ReJYveT-TiY4",
    "nbgrader": {
     "grade": false,
     "grade_id": "filter_data",
     "locked": true,
     "schema_version": 2,
     "solution": false
    }
   },
   "source": [
    "<!-- END QUESTION -->\n",
    "\n",
    "\n",
    "\n",
    "<!-- END QUESTION -->\n",
    "\n",
    "\n",
    "\n",
    "### Filtering Data"
   ]
  },
  {
   "cell_type": "markdown",
   "metadata": {
    "id": "9uofNIBsTiY4",
    "nbgrader": {
     "grade": false,
     "grade_id": "filter_data_op",
     "locked": true,
     "schema_version": 2,
     "solution": false
    }
   },
   "source": [
    "#### Filtering with boolean arrays\n",
    "\n",
    "Filtering is the process of removing unwanted material.  In your quest for cleaner data, you will undoubtedly filter your data at some point: whether it be for clearing up cases with missing values, for culling out fishy outliers, or for analyzing subgroups of your data set.  Note that compound expressions have to be grouped with parentheses. Example usage looks like `df[df['column name'] < 5]]`.\n",
    "\n",
    "For your reference, some commonly used comparison operators are given below.\n",
    "\n",
    "Symbol | Usage      | Meaning \n",
    "------ | ---------- | -------------------------------------\n",
    "==     | a == b     | Does a equal b?\n",
    "<=     | a <= b     | Is a less than or equal to b?\n",
    "\\>=     | a >= b     | Is a greater than or equal to b?\n",
    "<      | a < b      | Is a less than b?\n",
    "\\>      | a > b      | Is a greater than b?\n",
    "~      | ~p         | Returns negation of p\n",
    "\\|     | p \\| q     | p OR q\n",
    "&      | p & q      | p AND q\n",
    "^      | p ^ q      | p XOR q (exclusive or)"
   ]
  },
  {
   "cell_type": "markdown",
   "metadata": {
    "id": "r29E4r95TiY4",
    "nbgrader": {
     "grade": false,
     "grade_id": "filter_ca",
     "locked": true,
     "schema_version": 2,
     "solution": false
    }
   },
   "source": [
    "In the following we construct the DataFrame containing only 'Flavour' == 'Abbey Single Ale' (filtering based on one condition)"
   ]
  },
  {
   "cell_type": "code",
   "execution_count": 70,
   "metadata": {
    "id": "6hC2eps-TiY4",
    "nbgrader": {
     "grade": false,
     "grade_id": "filter_ca_code",
     "locked": true,
     "schema_version": 2,
     "solution": false
    },
    "outputId": "6536fa4f-78a4-485a-97dd-93ed1d8387b9"
   },
   "outputs": [
    {
     "data": {
      "text/html": [
       "<div>\n",
       "<style scoped>\n",
       "    .dataframe tbody tr th:only-of-type {\n",
       "        vertical-align: middle;\n",
       "    }\n",
       "\n",
       "    .dataframe tbody tr th {\n",
       "        vertical-align: top;\n",
       "    }\n",
       "\n",
       "    .dataframe thead th {\n",
       "        text-align: right;\n",
       "    }\n",
       "</style>\n",
       "<table border=\"1\" class=\"dataframe\">\n",
       "  <thead>\n",
       "    <tr style=\"text-align: right;\">\n",
       "      <th></th>\n",
       "      <th>Content</th>\n",
       "      <th>Type</th>\n",
       "      <th>ID</th>\n",
       "      <th>Flavour</th>\n",
       "      <th>BrewID</th>\n",
       "      <th>12</th>\n",
       "      <th>16</th>\n",
       "      <th>24</th>\n",
       "      <th>32</th>\n",
       "      <th>Other</th>\n",
       "    </tr>\n",
       "  </thead>\n",
       "  <tbody>\n",
       "    <tr>\n",
       "      <th>0</th>\n",
       "      <td>22.000</td>\n",
       "      <td>IBU</td>\n",
       "      <td>1887</td>\n",
       "      <td>Abbey Single Ale</td>\n",
       "      <td>57</td>\n",
       "      <td>Abbey's Single Ale (Current)</td>\n",
       "      <td>NaN</td>\n",
       "      <td>NaN</td>\n",
       "      <td>NaN</td>\n",
       "      <td>NaN</td>\n",
       "    </tr>\n",
       "    <tr>\n",
       "      <th>1</th>\n",
       "      <td>22.000</td>\n",
       "      <td>IBU</td>\n",
       "      <td>2505</td>\n",
       "      <td>Abbey Single Ale</td>\n",
       "      <td>57</td>\n",
       "      <td>Abbey's Single (2015- )</td>\n",
       "      <td>NaN</td>\n",
       "      <td>NaN</td>\n",
       "      <td>NaN</td>\n",
       "      <td>NaN</td>\n",
       "    </tr>\n",
       "    <tr>\n",
       "      <th>2</th>\n",
       "      <td>0.049</td>\n",
       "      <td>AP</td>\n",
       "      <td>1887</td>\n",
       "      <td>Abbey Single Ale</td>\n",
       "      <td>57</td>\n",
       "      <td>Abbey's Single Ale (Current)</td>\n",
       "      <td>NaN</td>\n",
       "      <td>NaN</td>\n",
       "      <td>NaN</td>\n",
       "      <td>NaN</td>\n",
       "    </tr>\n",
       "    <tr>\n",
       "      <th>3</th>\n",
       "      <td>0.049</td>\n",
       "      <td>AP</td>\n",
       "      <td>2505</td>\n",
       "      <td>Abbey Single Ale</td>\n",
       "      <td>57</td>\n",
       "      <td>Abbey's Single (2015- )</td>\n",
       "      <td>NaN</td>\n",
       "      <td>NaN</td>\n",
       "      <td>NaN</td>\n",
       "      <td>NaN</td>\n",
       "    </tr>\n",
       "  </tbody>\n",
       "</table>\n",
       "</div>"
      ],
      "text/plain": [
       "   Content Type    ID           Flavour  BrewID                            12  \\\n",
       "0   22.000  IBU  1887  Abbey Single Ale      57  Abbey's Single Ale (Current)   \n",
       "1   22.000  IBU  2505  Abbey Single Ale      57       Abbey's Single (2015- )   \n",
       "2    0.049   AP  1887  Abbey Single Ale      57  Abbey's Single Ale (Current)   \n",
       "3    0.049   AP  2505  Abbey Single Ale      57       Abbey's Single (2015- )   \n",
       "\n",
       "    16   24   32 Other  \n",
       "0  NaN  NaN  NaN   NaN  \n",
       "1  NaN  NaN  NaN   NaN  \n",
       "2  NaN  NaN  NaN   NaN  \n",
       "3  NaN  NaN  NaN   NaN  "
      ]
     },
     "execution_count": 70,
     "metadata": {},
     "output_type": "execute_result"
    }
   ],
   "source": [
    "beers[beers['Flavour'] == 'Abbey Single Ale']"
   ]
  },
  {
   "cell_type": "markdown",
   "metadata": {
    "id": "8wRJZrKQTiY5"
   },
   "source": [
    "More than one condition can be used to filter the data. We can combine multiple conditions using various conditional operators."
   ]
  },
  {
   "cell_type": "code",
   "execution_count": 71,
   "metadata": {
    "id": "U2FlGEb1TiY5",
    "outputId": "1eb396f1-82f5-495c-c07e-4761afee0448"
   },
   "outputs": [
    {
     "data": {
      "text/html": [
       "<div>\n",
       "<style scoped>\n",
       "    .dataframe tbody tr th:only-of-type {\n",
       "        vertical-align: middle;\n",
       "    }\n",
       "\n",
       "    .dataframe tbody tr th {\n",
       "        vertical-align: top;\n",
       "    }\n",
       "\n",
       "    .dataframe thead th {\n",
       "        text-align: right;\n",
       "    }\n",
       "</style>\n",
       "<table border=\"1\" class=\"dataframe\">\n",
       "  <thead>\n",
       "    <tr style=\"text-align: right;\">\n",
       "      <th></th>\n",
       "      <th>Content</th>\n",
       "      <th>Type</th>\n",
       "      <th>ID</th>\n",
       "      <th>Flavour</th>\n",
       "      <th>BrewID</th>\n",
       "      <th>12</th>\n",
       "      <th>16</th>\n",
       "      <th>24</th>\n",
       "      <th>32</th>\n",
       "      <th>Other</th>\n",
       "    </tr>\n",
       "  </thead>\n",
       "  <tbody>\n",
       "    <tr>\n",
       "      <th>0</th>\n",
       "      <td>22.0</td>\n",
       "      <td>IBU</td>\n",
       "      <td>1887</td>\n",
       "      <td>Abbey Single Ale</td>\n",
       "      <td>57</td>\n",
       "      <td>Abbey's Single Ale (Current)</td>\n",
       "      <td>NaN</td>\n",
       "      <td>NaN</td>\n",
       "      <td>NaN</td>\n",
       "      <td>NaN</td>\n",
       "    </tr>\n",
       "    <tr>\n",
       "      <th>1</th>\n",
       "      <td>22.0</td>\n",
       "      <td>IBU</td>\n",
       "      <td>2505</td>\n",
       "      <td>Abbey Single Ale</td>\n",
       "      <td>57</td>\n",
       "      <td>Abbey's Single (2015- )</td>\n",
       "      <td>NaN</td>\n",
       "      <td>NaN</td>\n",
       "      <td>NaN</td>\n",
       "      <td>NaN</td>\n",
       "    </tr>\n",
       "    <tr>\n",
       "      <th>4</th>\n",
       "      <td>40.0</td>\n",
       "      <td>IBU</td>\n",
       "      <td>502</td>\n",
       "      <td>Altbier</td>\n",
       "      <td>395</td>\n",
       "      <td>Alteration</td>\n",
       "      <td>NaN</td>\n",
       "      <td>NaN</td>\n",
       "      <td>NaN</td>\n",
       "      <td>NaN</td>\n",
       "    </tr>\n",
       "    <tr>\n",
       "      <th>5</th>\n",
       "      <td>30.0</td>\n",
       "      <td>IBU</td>\n",
       "      <td>573</td>\n",
       "      <td>Altbier</td>\n",
       "      <td>268</td>\n",
       "      <td>Long Trail Ale (1)</td>\n",
       "      <td>NaN</td>\n",
       "      <td>NaN</td>\n",
       "      <td>NaN</td>\n",
       "      <td>NaN</td>\n",
       "    </tr>\n",
       "    <tr>\n",
       "      <th>8</th>\n",
       "      <td>33.0</td>\n",
       "      <td>IBU</td>\n",
       "      <td>1090</td>\n",
       "      <td>Altbier</td>\n",
       "      <td>268</td>\n",
       "      <td>NaN</td>\n",
       "      <td>Double Bag</td>\n",
       "      <td>NaN</td>\n",
       "      <td>NaN</td>\n",
       "      <td>NaN</td>\n",
       "    </tr>\n",
       "    <tr>\n",
       "      <th>10</th>\n",
       "      <td>40.0</td>\n",
       "      <td>IBU</td>\n",
       "      <td>1248</td>\n",
       "      <td>Altbier</td>\n",
       "      <td>122</td>\n",
       "      <td>Main St. Virginia Ale</td>\n",
       "      <td>NaN</td>\n",
       "      <td>NaN</td>\n",
       "      <td>NaN</td>\n",
       "      <td>NaN</td>\n",
       "    </tr>\n",
       "    <tr>\n",
       "      <th>13</th>\n",
       "      <td>43.0</td>\n",
       "      <td>IBU</td>\n",
       "      <td>2339</td>\n",
       "      <td>Altbier</td>\n",
       "      <td>144</td>\n",
       "      <td>Little Red Cap</td>\n",
       "      <td>NaN</td>\n",
       "      <td>NaN</td>\n",
       "      <td>NaN</td>\n",
       "      <td>NaN</td>\n",
       "    </tr>\n",
       "    <tr>\n",
       "      <th>15</th>\n",
       "      <td>40.0</td>\n",
       "      <td>IBU</td>\n",
       "      <td>2377</td>\n",
       "      <td>Altbier</td>\n",
       "      <td>122</td>\n",
       "      <td>Main St. Virginia Ale</td>\n",
       "      <td>NaN</td>\n",
       "      <td>NaN</td>\n",
       "      <td>NaN</td>\n",
       "      <td>NaN</td>\n",
       "    </tr>\n",
       "    <tr>\n",
       "      <th>16</th>\n",
       "      <td>29.0</td>\n",
       "      <td>IBU</td>\n",
       "      <td>2605</td>\n",
       "      <td>Altbier</td>\n",
       "      <td>25</td>\n",
       "      <td>NaN</td>\n",
       "      <td>Tip Off</td>\n",
       "      <td>NaN</td>\n",
       "      <td>NaN</td>\n",
       "      <td>NaN</td>\n",
       "    </tr>\n",
       "  </tbody>\n",
       "</table>\n",
       "</div>"
      ],
      "text/plain": [
       "    Content Type    ID           Flavour  BrewID  \\\n",
       "0      22.0  IBU  1887  Abbey Single Ale      57   \n",
       "1      22.0  IBU  2505  Abbey Single Ale      57   \n",
       "4      40.0  IBU   502           Altbier     395   \n",
       "5      30.0  IBU   573           Altbier     268   \n",
       "8      33.0  IBU  1090           Altbier     268   \n",
       "10     40.0  IBU  1248           Altbier     122   \n",
       "13     43.0  IBU  2339           Altbier     144   \n",
       "15     40.0  IBU  2377           Altbier     122   \n",
       "16     29.0  IBU  2605           Altbier      25   \n",
       "\n",
       "                              12          16   24   32 Other  \n",
       "0   Abbey's Single Ale (Current)         NaN  NaN  NaN   NaN  \n",
       "1        Abbey's Single (2015- )         NaN  NaN  NaN   NaN  \n",
       "4                     Alteration         NaN  NaN  NaN   NaN  \n",
       "5             Long Trail Ale (1)         NaN  NaN  NaN   NaN  \n",
       "8                            NaN  Double Bag  NaN  NaN   NaN  \n",
       "10         Main St. Virginia Ale         NaN  NaN  NaN   NaN  \n",
       "13                Little Red Cap         NaN  NaN  NaN   NaN  \n",
       "15         Main St. Virginia Ale         NaN  NaN  NaN   NaN  \n",
       "16                           NaN     Tip Off  NaN  NaN   NaN  "
      ]
     },
     "execution_count": 71,
     "metadata": {},
     "output_type": "execute_result"
    }
   ],
   "source": [
    "beers.loc[(beers.Flavour.isin(['Abbey Single Ale', 'Altbier'])) & (beers.Content>= 20)]"
   ]
  },
  {
   "cell_type": "markdown",
   "metadata": {
    "id": "ZnP74V8mTiY5"
   },
   "source": [
    "### Create new columns derived from existing columns"
   ]
  },
  {
   "cell_type": "markdown",
   "metadata": {
    "id": "q62mz1x3TiY5"
   },
   "source": [
    "To create a new column by assigning the output to the DataFrame with a new column name in between the `[...]`."
   ]
  },
  {
   "cell_type": "code",
   "execution_count": 72,
   "metadata": {
    "id": "q2IRlaHRTiY5",
    "outputId": "5128cbfe-e4be-426c-f0d2-1f95a436255d"
   },
   "outputs": [
    {
     "data": {
      "text/html": [
       "<div>\n",
       "<style scoped>\n",
       "    .dataframe tbody tr th:only-of-type {\n",
       "        vertical-align: middle;\n",
       "    }\n",
       "\n",
       "    .dataframe tbody tr th {\n",
       "        vertical-align: top;\n",
       "    }\n",
       "\n",
       "    .dataframe thead th {\n",
       "        text-align: right;\n",
       "    }\n",
       "</style>\n",
       "<table border=\"1\" class=\"dataframe\">\n",
       "  <thead>\n",
       "    <tr style=\"text-align: right;\">\n",
       "      <th></th>\n",
       "      <th>Content</th>\n",
       "      <th>Type</th>\n",
       "      <th>Flavour</th>\n",
       "      <th>BrewID</th>\n",
       "      <th>12</th>\n",
       "      <th>16</th>\n",
       "      <th>24</th>\n",
       "      <th>32</th>\n",
       "      <th>Other</th>\n",
       "      <th>New_content</th>\n",
       "    </tr>\n",
       "    <tr>\n",
       "      <th>ID</th>\n",
       "      <th></th>\n",
       "      <th></th>\n",
       "      <th></th>\n",
       "      <th></th>\n",
       "      <th></th>\n",
       "      <th></th>\n",
       "      <th></th>\n",
       "      <th></th>\n",
       "      <th></th>\n",
       "      <th></th>\n",
       "    </tr>\n",
       "  </thead>\n",
       "  <tbody>\n",
       "    <tr>\n",
       "      <th>1887</th>\n",
       "      <td>22.000</td>\n",
       "      <td>IBU</td>\n",
       "      <td>Abbey Single Ale</td>\n",
       "      <td>57</td>\n",
       "      <td>Abbey's Single Ale (Current)</td>\n",
       "      <td>NaN</td>\n",
       "      <td>NaN</td>\n",
       "      <td>NaN</td>\n",
       "      <td>NaN</td>\n",
       "      <td>24.000</td>\n",
       "    </tr>\n",
       "    <tr>\n",
       "      <th>2505</th>\n",
       "      <td>22.000</td>\n",
       "      <td>IBU</td>\n",
       "      <td>Abbey Single Ale</td>\n",
       "      <td>57</td>\n",
       "      <td>Abbey's Single (2015- )</td>\n",
       "      <td>NaN</td>\n",
       "      <td>NaN</td>\n",
       "      <td>NaN</td>\n",
       "      <td>NaN</td>\n",
       "      <td>24.000</td>\n",
       "    </tr>\n",
       "    <tr>\n",
       "      <th>1887</th>\n",
       "      <td>0.049</td>\n",
       "      <td>AP</td>\n",
       "      <td>Abbey Single Ale</td>\n",
       "      <td>57</td>\n",
       "      <td>Abbey's Single Ale (Current)</td>\n",
       "      <td>NaN</td>\n",
       "      <td>NaN</td>\n",
       "      <td>NaN</td>\n",
       "      <td>NaN</td>\n",
       "      <td>2.049</td>\n",
       "    </tr>\n",
       "    <tr>\n",
       "      <th>2505</th>\n",
       "      <td>0.049</td>\n",
       "      <td>AP</td>\n",
       "      <td>Abbey Single Ale</td>\n",
       "      <td>57</td>\n",
       "      <td>Abbey's Single (2015- )</td>\n",
       "      <td>NaN</td>\n",
       "      <td>NaN</td>\n",
       "      <td>NaN</td>\n",
       "      <td>NaN</td>\n",
       "      <td>2.049</td>\n",
       "    </tr>\n",
       "    <tr>\n",
       "      <th>502</th>\n",
       "      <td>40.000</td>\n",
       "      <td>IBU</td>\n",
       "      <td>Altbier</td>\n",
       "      <td>395</td>\n",
       "      <td>Alteration</td>\n",
       "      <td>NaN</td>\n",
       "      <td>NaN</td>\n",
       "      <td>NaN</td>\n",
       "      <td>NaN</td>\n",
       "      <td>42.000</td>\n",
       "    </tr>\n",
       "  </tbody>\n",
       "</table>\n",
       "</div>"
      ],
      "text/plain": [
       "      Content Type           Flavour  BrewID                            12  \\\n",
       "ID                                                                           \n",
       "1887   22.000  IBU  Abbey Single Ale      57  Abbey's Single Ale (Current)   \n",
       "2505   22.000  IBU  Abbey Single Ale      57       Abbey's Single (2015- )   \n",
       "1887    0.049   AP  Abbey Single Ale      57  Abbey's Single Ale (Current)   \n",
       "2505    0.049   AP  Abbey Single Ale      57       Abbey's Single (2015- )   \n",
       "502    40.000  IBU           Altbier     395                    Alteration   \n",
       "\n",
       "       16   24   32 Other  New_content  \n",
       "ID                                      \n",
       "1887  NaN  NaN  NaN   NaN       24.000  \n",
       "2505  NaN  NaN  NaN   NaN       24.000  \n",
       "1887  NaN  NaN  NaN   NaN        2.049  \n",
       "2505  NaN  NaN  NaN   NaN        2.049  \n",
       "502   NaN  NaN  NaN   NaN       42.000  "
      ]
     },
     "execution_count": 72,
     "metadata": {},
     "output_type": "execute_result"
    }
   ],
   "source": [
    "df[\"New_content\"]=df[\"Content\"]+2\n",
    "df"
   ]
  },
  {
   "cell_type": "markdown",
   "metadata": {
    "id": "Q3oHUlKDTiY6"
   },
   "source": [
    "_Note: The calculation of the values is done element_wise. This means all values in the given column are added by the value 2 at once. You do not need to use a loop to iterate each of the rows!_"
   ]
  },
  {
   "cell_type": "markdown",
   "metadata": {
    "deletable": false,
    "editable": false,
    "id": "M2UXkUYsTiY6"
   },
   "source": [
    "<!-- BEGIN QUESTION -->\n",
    "\n",
    "### Question 10\n",
    "\n",
    "##### 1) Filter the beers dataset include beers of type \"IBU\" and beer content is greater than 20, and name the dataset \"beers_IBU'. \n",
    "##### 2) Sort the data by `BrewID` in descending order and use the DATAFRAME.to_csv(\"NEW_FILE_NAME\") command to save it to your DATA200 folder (substituting appropriately for the CAPITAL letters).\n",
    "<!--\n",
    "BEGIN QUESTION\n",
    "name: q10\n",
    "points: 2\n",
    "manual: true\n",
    "-->"
   ]
  },
  {
   "cell_type": "code",
   "execution_count": 73,
   "metadata": {
    "id": "uxeGljdETiY6",
    "outputId": "036f1cf3-962a-4da0-f4e2-26cdcbc2b854"
   },
   "outputs": [
    {
     "data": {
      "text/html": [
       "<div>\n",
       "<style scoped>\n",
       "    .dataframe tbody tr th:only-of-type {\n",
       "        vertical-align: middle;\n",
       "    }\n",
       "\n",
       "    .dataframe tbody tr th {\n",
       "        vertical-align: top;\n",
       "    }\n",
       "\n",
       "    .dataframe thead th {\n",
       "        text-align: right;\n",
       "    }\n",
       "</style>\n",
       "<table border=\"1\" class=\"dataframe\">\n",
       "  <thead>\n",
       "    <tr style=\"text-align: right;\">\n",
       "      <th></th>\n",
       "      <th>Content</th>\n",
       "      <th>Type</th>\n",
       "      <th>ID</th>\n",
       "      <th>Flavour</th>\n",
       "      <th>BrewID</th>\n",
       "      <th>12</th>\n",
       "      <th>16</th>\n",
       "      <th>24</th>\n",
       "      <th>32</th>\n",
       "      <th>Other</th>\n",
       "    </tr>\n",
       "  </thead>\n",
       "  <tbody>\n",
       "    <tr>\n",
       "      <th>695</th>\n",
       "      <td>22.0</td>\n",
       "      <td>IBU</td>\n",
       "      <td>382</td>\n",
       "      <td>American Brown Ale</td>\n",
       "      <td>546</td>\n",
       "      <td>NaN</td>\n",
       "      <td>Common Sense Kentucky Common Ale</td>\n",
       "      <td>NaN</td>\n",
       "      <td>NaN</td>\n",
       "      <td>NaN</td>\n",
       "    </tr>\n",
       "    <tr>\n",
       "      <th>1111</th>\n",
       "      <td>70.0</td>\n",
       "      <td>IBU</td>\n",
       "      <td>381</td>\n",
       "      <td>American IPA</td>\n",
       "      <td>546</td>\n",
       "      <td>Upstate I.P.W.</td>\n",
       "      <td>NaN</td>\n",
       "      <td>NaN</td>\n",
       "      <td>NaN</td>\n",
       "      <td>NaN</td>\n",
       "    </tr>\n",
       "    <tr>\n",
       "      <th>4160</th>\n",
       "      <td>30.0</td>\n",
       "      <td>IBU</td>\n",
       "      <td>392</td>\n",
       "      <td>Maibock / Helles Bock</td>\n",
       "      <td>545</td>\n",
       "      <td>Rumspringa Golden Bock</td>\n",
       "      <td>NaN</td>\n",
       "      <td>NaN</td>\n",
       "      <td>NaN</td>\n",
       "      <td>NaN</td>\n",
       "    </tr>\n",
       "    <tr>\n",
       "      <th>3986</th>\n",
       "      <td>28.0</td>\n",
       "      <td>IBU</td>\n",
       "      <td>195</td>\n",
       "      <td>Kölsch</td>\n",
       "      <td>545</td>\n",
       "      <td>Lancaster German Style Kölsch</td>\n",
       "      <td>NaN</td>\n",
       "      <td>NaN</td>\n",
       "      <td>NaN</td>\n",
       "      <td>NaN</td>\n",
       "    </tr>\n",
       "    <tr>\n",
       "      <th>1956</th>\n",
       "      <td>55.0</td>\n",
       "      <td>IBU</td>\n",
       "      <td>413</td>\n",
       "      <td>American Pale Ale (APA)</td>\n",
       "      <td>541</td>\n",
       "      <td>Sky High Rye</td>\n",
       "      <td>NaN</td>\n",
       "      <td>NaN</td>\n",
       "      <td>NaN</td>\n",
       "      <td>NaN</td>\n",
       "    </tr>\n",
       "    <tr>\n",
       "      <th>...</th>\n",
       "      <td>...</td>\n",
       "      <td>...</td>\n",
       "      <td>...</td>\n",
       "      <td>...</td>\n",
       "      <td>...</td>\n",
       "      <td>...</td>\n",
       "      <td>...</td>\n",
       "      <td>...</td>\n",
       "      <td>...</td>\n",
       "      <td>...</td>\n",
       "    </tr>\n",
       "    <tr>\n",
       "      <th>2805</th>\n",
       "      <td>25.0</td>\n",
       "      <td>IBU</td>\n",
       "      <td>2688</td>\n",
       "      <td>American Porter</td>\n",
       "      <td>0</td>\n",
       "      <td>NaN</td>\n",
       "      <td>Stronghold</td>\n",
       "      <td>NaN</td>\n",
       "      <td>NaN</td>\n",
       "      <td>NaN</td>\n",
       "    </tr>\n",
       "    <tr>\n",
       "      <th>1499</th>\n",
       "      <td>50.0</td>\n",
       "      <td>IBU</td>\n",
       "      <td>2692</td>\n",
       "      <td>American IPA</td>\n",
       "      <td>0</td>\n",
       "      <td>NaN</td>\n",
       "      <td>Get Together</td>\n",
       "      <td>NaN</td>\n",
       "      <td>NaN</td>\n",
       "      <td>NaN</td>\n",
       "    </tr>\n",
       "    <tr>\n",
       "      <th>4312</th>\n",
       "      <td>38.0</td>\n",
       "      <td>IBU</td>\n",
       "      <td>2689</td>\n",
       "      <td>Pumpkin Ale</td>\n",
       "      <td>0</td>\n",
       "      <td>NaN</td>\n",
       "      <td>Pumpion</td>\n",
       "      <td>NaN</td>\n",
       "      <td>NaN</td>\n",
       "      <td>NaN</td>\n",
       "    </tr>\n",
       "    <tr>\n",
       "      <th>3621</th>\n",
       "      <td>47.0</td>\n",
       "      <td>IBU</td>\n",
       "      <td>2687</td>\n",
       "      <td>Extra Special / Strong Bitter (ESB)</td>\n",
       "      <td>0</td>\n",
       "      <td>NaN</td>\n",
       "      <td>Parapet ESB</td>\n",
       "      <td>NaN</td>\n",
       "      <td>NaN</td>\n",
       "      <td>NaN</td>\n",
       "    </tr>\n",
       "    <tr>\n",
       "      <th>4189</th>\n",
       "      <td>26.0</td>\n",
       "      <td>IBU</td>\n",
       "      <td>2691</td>\n",
       "      <td>Milk / Sweet Stout</td>\n",
       "      <td>0</td>\n",
       "      <td>NaN</td>\n",
       "      <td>Maggie's Leap</td>\n",
       "      <td>NaN</td>\n",
       "      <td>NaN</td>\n",
       "      <td>NaN</td>\n",
       "    </tr>\n",
       "  </tbody>\n",
       "</table>\n",
       "<p>1067 rows × 10 columns</p>\n",
       "</div>"
      ],
      "text/plain": [
       "      Content Type    ID                              Flavour  BrewID  \\\n",
       "695      22.0  IBU   382                   American Brown Ale     546   \n",
       "1111     70.0  IBU   381                         American IPA     546   \n",
       "4160     30.0  IBU   392                Maibock / Helles Bock     545   \n",
       "3986     28.0  IBU   195                               Kölsch     545   \n",
       "1956     55.0  IBU   413              American Pale Ale (APA)     541   \n",
       "...       ...  ...   ...                                  ...     ...   \n",
       "2805     25.0  IBU  2688                      American Porter       0   \n",
       "1499     50.0  IBU  2692                         American IPA       0   \n",
       "4312     38.0  IBU  2689                          Pumpkin Ale       0   \n",
       "3621     47.0  IBU  2687  Extra Special / Strong Bitter (ESB)       0   \n",
       "4189     26.0  IBU  2691                   Milk / Sweet Stout       0   \n",
       "\n",
       "                                 12                                16   24  \\\n",
       "695                             NaN  Common Sense Kentucky Common Ale  NaN   \n",
       "1111                 Upstate I.P.W.                               NaN  NaN   \n",
       "4160         Rumspringa Golden Bock                               NaN  NaN   \n",
       "3986  Lancaster German Style Kölsch                               NaN  NaN   \n",
       "1956                   Sky High Rye                               NaN  NaN   \n",
       "...                             ...                               ...  ...   \n",
       "2805                            NaN                        Stronghold  NaN   \n",
       "1499                            NaN                      Get Together  NaN   \n",
       "4312                            NaN                           Pumpion  NaN   \n",
       "3621                            NaN                       Parapet ESB  NaN   \n",
       "4189                            NaN                     Maggie's Leap  NaN   \n",
       "\n",
       "       32 Other  \n",
       "695   NaN   NaN  \n",
       "1111  NaN   NaN  \n",
       "4160  NaN   NaN  \n",
       "3986  NaN   NaN  \n",
       "1956  NaN   NaN  \n",
       "...   ...   ...  \n",
       "2805  NaN   NaN  \n",
       "1499  NaN   NaN  \n",
       "4312  NaN   NaN  \n",
       "3621  NaN   NaN  \n",
       "4189  NaN   NaN  \n",
       "\n",
       "[1067 rows x 10 columns]"
      ]
     },
     "execution_count": 73,
     "metadata": {},
     "output_type": "execute_result"
    }
   ],
   "source": [
    "# Write your code here\n",
    "# BEGIN SOLUTION\n",
    "beers_IBU = beers.loc[(beers.Type== \"IBU\") & (beers.Content> 20)]\n",
    "beers_IBU= beers_IBU.sort_values(by=\"BrewID\", ascending=False)\n",
    "beers_IBU.to_csv(\"beers_IBU.csv\")\n",
    "# END SOLUTION\n",
    "beers_IBU"
   ]
  },
  {
   "cell_type": "markdown",
   "metadata": {
    "id": "lIrK_UJ0TiY6"
   },
   "source": [
    "<!-- END QUESTION -->\n",
    "\n",
    "\n",
    "\n",
    "<!-- END QUESTION -->\n",
    "\n",
    "\n",
    "\n",
    "### Grouping"
   ]
  },
  {
   "cell_type": "markdown",
   "metadata": {
    "id": "a8yZv9g-TiY6"
   },
   "source": [
    "Sometimes, we want to calculate a given statistic (e.g. mean) for each category in a column (e.g. male/female in the Sex column). The `.groupby(...)` method is used to support this type of operation.\n",
    "\n",
    "The general process of `groupby(...)` involves the following steps:\n",
    "\n",
    "*  Split: Splitting the data into groups based on some criteria.\n",
    "*  Apply: Applying a function to each group independently:\n",
    "   - .sum()\n",
    "   - .count()\n",
    "   - .mean() \n",
    "   - .std() \n",
    "   - .aggregate()\n",
    "   - .apply() etc..\n",
    "* Combine: Combining the results into a data structure.\n",
    "\n",
    "<img src=\"https://s3-api.us-geo.objectstorage.softlayer.net/cf-courses-data/CognitiveClass/DV0101EN/labs/Images/Mod3Fig4SplitApplyCombine.png\" height=400 align=\"center\">"
   ]
  },
  {
   "cell_type": "markdown",
   "metadata": {
    "id": "Lhl20WYMTiY6"
   },
   "source": [
    "Let's look at the unique values of `Type` from `beers` dataset."
   ]
  },
  {
   "cell_type": "code",
   "execution_count": 72,
   "metadata": {
    "id": "oBPzXYYgTiY7",
    "outputId": "88ad9446-0fc8-46d6-9516-e4f3233a6364"
   },
   "outputs": [
    {
     "data": {
      "text/plain": [
       "array(['IBU', 'AP'], dtype=object)"
      ]
     },
     "execution_count": 72,
     "metadata": {},
     "output_type": "execute_result"
    }
   ],
   "source": [
    "beers.Type.unique()"
   ]
  },
  {
   "cell_type": "markdown",
   "metadata": {
    "id": "JeQwbtDDTiY7"
   },
   "source": [
    "Let's try to find the mean Content in each type of beer."
   ]
  },
  {
   "cell_type": "code",
   "execution_count": 73,
   "metadata": {
    "id": "57657VkWTiY7",
    "outputId": "f6f417cb-7ff2-471d-964a-75337587ef8a"
   },
   "outputs": [
    {
     "data": {
      "text/plain": [
       "Type\n",
       "AP      0.059773\n",
       "IBU    42.713167\n",
       "Name: Content, dtype: float64"
      ]
     },
     "execution_count": 73,
     "metadata": {},
     "output_type": "execute_result"
    }
   ],
   "source": [
    "beers.groupby('Type').Content.mean()# OR beers.groupby('Type')[\"Content\"].mean()\n"
   ]
  },
  {
   "cell_type": "markdown",
   "metadata": {
    "id": "ZHviB-J9TiY7"
   },
   "source": [
    "Here, `groupby(...)` created group based on `Type` column. Then, for each of `Type`, we grabbed the `Content` column and find the mean content. We can also apply groupby(...) method based on multiple columns. For example, given below:"
   ]
  },
  {
   "cell_type": "code",
   "execution_count": 74,
   "metadata": {
    "id": "_O1ueVRsTiY7",
    "outputId": "8c8a79f6-c278-4c5d-c565-f652b03c7a2b"
   },
   "outputs": [
    {
     "data": {
      "text/plain": [
       "Type  Flavour                   \n",
       "AP    Abbey Single Ale               0.049\n",
       "      Altbier                        0.072\n",
       "      American Adjunct Lager         0.055\n",
       "      American Amber / Red Ale       0.082\n",
       "      American Amber / Red Lager     0.057\n",
       "                                     ...  \n",
       "IBU   Tripel                        34.000\n",
       "      Vienna Lager                  33.000\n",
       "      Wheat Ale                     24.000\n",
       "      Winter Warmer                 45.000\n",
       "      Witbier                       27.000\n",
       "Name: Content, Length: 198, dtype: float64"
      ]
     },
     "execution_count": 74,
     "metadata": {},
     "output_type": "execute_result"
    }
   ],
   "source": [
    "temp_df=beers.groupby(['Type', 'Flavour']).Content.max()# OR beers.groupby(['Type', 'Flavour'])[\"Content\"].max()\n",
    "temp_df"
   ]
  },
  {
   "cell_type": "markdown",
   "metadata": {
    "id": "ktyhywLZTiY8"
   },
   "source": [
    "The opposite to `.groupby(...)` method is .reset_index(...)."
   ]
  },
  {
   "cell_type": "code",
   "execution_count": 75,
   "metadata": {
    "id": "byhuzzWKTiY8",
    "outputId": "b154efa2-9699-45db-d410-ae7f6885a0aa"
   },
   "outputs": [
    {
     "data": {
      "text/html": [
       "<div>\n",
       "<style scoped>\n",
       "    .dataframe tbody tr th:only-of-type {\n",
       "        vertical-align: middle;\n",
       "    }\n",
       "\n",
       "    .dataframe tbody tr th {\n",
       "        vertical-align: top;\n",
       "    }\n",
       "\n",
       "    .dataframe thead th {\n",
       "        text-align: right;\n",
       "    }\n",
       "</style>\n",
       "<table border=\"1\" class=\"dataframe\">\n",
       "  <thead>\n",
       "    <tr style=\"text-align: right;\">\n",
       "      <th></th>\n",
       "      <th>Type</th>\n",
       "      <th>Flavour</th>\n",
       "      <th>Content</th>\n",
       "    </tr>\n",
       "  </thead>\n",
       "  <tbody>\n",
       "    <tr>\n",
       "      <th>0</th>\n",
       "      <td>AP</td>\n",
       "      <td>Abbey Single Ale</td>\n",
       "      <td>0.049</td>\n",
       "    </tr>\n",
       "    <tr>\n",
       "      <th>1</th>\n",
       "      <td>AP</td>\n",
       "      <td>Altbier</td>\n",
       "      <td>0.072</td>\n",
       "    </tr>\n",
       "    <tr>\n",
       "      <th>2</th>\n",
       "      <td>AP</td>\n",
       "      <td>American Adjunct Lager</td>\n",
       "      <td>0.055</td>\n",
       "    </tr>\n",
       "    <tr>\n",
       "      <th>3</th>\n",
       "      <td>AP</td>\n",
       "      <td>American Amber / Red Ale</td>\n",
       "      <td>0.082</td>\n",
       "    </tr>\n",
       "    <tr>\n",
       "      <th>4</th>\n",
       "      <td>AP</td>\n",
       "      <td>American Amber / Red Lager</td>\n",
       "      <td>0.057</td>\n",
       "    </tr>\n",
       "    <tr>\n",
       "      <th>...</th>\n",
       "      <td>...</td>\n",
       "      <td>...</td>\n",
       "      <td>...</td>\n",
       "    </tr>\n",
       "    <tr>\n",
       "      <th>193</th>\n",
       "      <td>IBU</td>\n",
       "      <td>Tripel</td>\n",
       "      <td>34.000</td>\n",
       "    </tr>\n",
       "    <tr>\n",
       "      <th>194</th>\n",
       "      <td>IBU</td>\n",
       "      <td>Vienna Lager</td>\n",
       "      <td>33.000</td>\n",
       "    </tr>\n",
       "    <tr>\n",
       "      <th>195</th>\n",
       "      <td>IBU</td>\n",
       "      <td>Wheat Ale</td>\n",
       "      <td>24.000</td>\n",
       "    </tr>\n",
       "    <tr>\n",
       "      <th>196</th>\n",
       "      <td>IBU</td>\n",
       "      <td>Winter Warmer</td>\n",
       "      <td>45.000</td>\n",
       "    </tr>\n",
       "    <tr>\n",
       "      <th>197</th>\n",
       "      <td>IBU</td>\n",
       "      <td>Witbier</td>\n",
       "      <td>27.000</td>\n",
       "    </tr>\n",
       "  </tbody>\n",
       "</table>\n",
       "<p>198 rows × 3 columns</p>\n",
       "</div>"
      ],
      "text/plain": [
       "    Type                     Flavour  Content\n",
       "0     AP            Abbey Single Ale    0.049\n",
       "1     AP                     Altbier    0.072\n",
       "2     AP      American Adjunct Lager    0.055\n",
       "3     AP    American Amber / Red Ale    0.082\n",
       "4     AP  American Amber / Red Lager    0.057\n",
       "..   ...                         ...      ...\n",
       "193  IBU                      Tripel   34.000\n",
       "194  IBU                Vienna Lager   33.000\n",
       "195  IBU                   Wheat Ale   24.000\n",
       "196  IBU               Winter Warmer   45.000\n",
       "197  IBU                     Witbier   27.000\n",
       "\n",
       "[198 rows x 3 columns]"
      ]
     },
     "execution_count": 75,
     "metadata": {},
     "output_type": "execute_result"
    }
   ],
   "source": [
    "temp_df.reset_index()"
   ]
  },
  {
   "cell_type": "markdown",
   "metadata": {
    "id": "ZULKCOsjTiY8"
   },
   "source": [
    "A apply(FUNCTION) method allows the users to pass a function and apply it on every single value of the Pandas series. This function acts as a Python map(...) function."
   ]
  },
  {
   "cell_type": "code",
   "execution_count": 76,
   "metadata": {
    "id": "bcvQW2ANTiY8",
    "outputId": "d1297830-7cb7-4e3a-c686-e59776c047a6"
   },
   "outputs": [
    {
     "data": {
      "text/plain": [
       "0      16\n",
       "1       7\n",
       "2      22\n",
       "3      24\n",
       "4      26\n",
       "       ..\n",
       "193     6\n",
       "194    12\n",
       "195     9\n",
       "196    13\n",
       "197     7\n",
       "Name: Flavour, Length: 198, dtype: int64"
      ]
     },
     "execution_count": 76,
     "metadata": {},
     "output_type": "execute_result"
    }
   ],
   "source": [
    "temp_df.reset_index().Flavour.apply(len)"
   ]
  },
  {
   "cell_type": "markdown",
   "metadata": {
    "id": "mpeEkMHcTiY8"
   },
   "source": [
    "To count number of records by category, we can use `value_counts(...)` method is just a shortcut to this `groupby()` operation.\n"
   ]
  },
  {
   "cell_type": "code",
   "execution_count": 77,
   "metadata": {
    "id": "P_SOeGNWTiY9",
    "outputId": "b58a867d-49c0-4177-f024-55f125ca1a21"
   },
   "outputs": [
    {
     "data": {
      "text/plain": [
       "American IPA                      848\n",
       "American Pale Ale (APA)           490\n",
       "American Amber / Red Ale          266\n",
       "American Blonde Ale               216\n",
       "American Double / Imperial IPA    210\n",
       "                                 ... \n",
       "Smoked Beer                         2\n",
       "Braggot                             2\n",
       "Flanders Oud Bruin                  2\n",
       "American Malt Liquor                2\n",
       "Flanders Red Ale                    2\n",
       "Name: Flavour, Length: 99, dtype: int64"
      ]
     },
     "execution_count": 77,
     "metadata": {},
     "output_type": "execute_result"
    }
   ],
   "source": [
    "beers['Flavour'].value_counts()"
   ]
  },
  {
   "cell_type": "markdown",
   "metadata": {
    "id": "BPhz5lj2TiY9"
   },
   "source": [
    "### Reshaping\n",
    "\n",
    "To make the analysis of data easier, we can reshape the data into a more computer-friendly form using Pandas in Python. Two most widely used methods are given below for converting:\n",
    "\n",
    "- Long to wide table format by `pivot(...)` function. Reshape data (produce a “pivot” table) based on column values. Uses unique values from specified index / columns to form axes of the resulting Dataframe.\n",
    "- Wide to long format by `melt(...)` function. The column headers become the variable names in a newly created column."
   ]
  },
  {
   "cell_type": "markdown",
   "metadata": {
    "id": "f5xxsZvKTiY9"
   },
   "source": [
    "Take a look at the beers dataset.  Notice that the last five columns represent the volume (or size) of each beer in fluid ounces and the entry in each cell is the beer's name.  Therefore, \n",
    "\n",
    "    i. Create a dataset named beers2 that replaces the last 5  columns in the beers dataset with 2 columns called \"Volume\" and \"Name\" using the melt(...) method.\n",
    "    ii. Use the arrange(...) command to view the new dataset by \"ID\"."
   ]
  },
  {
   "cell_type": "code",
   "execution_count": 80,
   "metadata": {
    "id": "q1Nj3Q-6TiY-",
    "outputId": "367862f8-95eb-4450-a59e-a4e880adcf36"
   },
   "outputs": [
    {
     "data": {
      "text/html": [
       "<div>\n",
       "<style scoped>\n",
       "    .dataframe tbody tr th:only-of-type {\n",
       "        vertical-align: middle;\n",
       "    }\n",
       "\n",
       "    .dataframe tbody tr th {\n",
       "        vertical-align: top;\n",
       "    }\n",
       "\n",
       "    .dataframe thead th {\n",
       "        text-align: right;\n",
       "    }\n",
       "</style>\n",
       "<table border=\"1\" class=\"dataframe\">\n",
       "  <thead>\n",
       "    <tr style=\"text-align: right;\">\n",
       "      <th></th>\n",
       "      <th>Content</th>\n",
       "      <th>Type</th>\n",
       "      <th>ID</th>\n",
       "      <th>Flavour</th>\n",
       "      <th>BrewID</th>\n",
       "      <th>Volume</th>\n",
       "      <th>Name</th>\n",
       "    </tr>\n",
       "  </thead>\n",
       "  <tbody>\n",
       "    <tr>\n",
       "      <th>6991</th>\n",
       "      <td>0.065</td>\n",
       "      <td>AP</td>\n",
       "      <td>1</td>\n",
       "      <td>American Pale Ale (APA)</td>\n",
       "      <td>166</td>\n",
       "      <td>16</td>\n",
       "      <td>NaN</td>\n",
       "    </tr>\n",
       "    <tr>\n",
       "      <th>16631</th>\n",
       "      <td>0.065</td>\n",
       "      <td>AP</td>\n",
       "      <td>1</td>\n",
       "      <td>American Pale Ale (APA)</td>\n",
       "      <td>166</td>\n",
       "      <td>32</td>\n",
       "      <td>NaN</td>\n",
       "    </tr>\n",
       "    <tr>\n",
       "      <th>2171</th>\n",
       "      <td>0.065</td>\n",
       "      <td>AP</td>\n",
       "      <td>1</td>\n",
       "      <td>American Pale Ale (APA)</td>\n",
       "      <td>166</td>\n",
       "      <td>12</td>\n",
       "      <td>Dale's Pale Ale</td>\n",
       "    </tr>\n",
       "    <tr>\n",
       "      <th>11811</th>\n",
       "      <td>0.065</td>\n",
       "      <td>AP</td>\n",
       "      <td>1</td>\n",
       "      <td>American Pale Ale (APA)</td>\n",
       "      <td>166</td>\n",
       "      <td>24</td>\n",
       "      <td>NaN</td>\n",
       "    </tr>\n",
       "    <tr>\n",
       "      <th>6746</th>\n",
       "      <td>65.000</td>\n",
       "      <td>IBU</td>\n",
       "      <td>1</td>\n",
       "      <td>American Pale Ale (APA)</td>\n",
       "      <td>166</td>\n",
       "      <td>16</td>\n",
       "      <td>NaN</td>\n",
       "    </tr>\n",
       "    <tr>\n",
       "      <th>21206</th>\n",
       "      <td>65.000</td>\n",
       "      <td>IBU</td>\n",
       "      <td>1</td>\n",
       "      <td>American Pale Ale (APA)</td>\n",
       "      <td>166</td>\n",
       "      <td>Other</td>\n",
       "      <td>NaN</td>\n",
       "    </tr>\n",
       "    <tr>\n",
       "      <th>16386</th>\n",
       "      <td>65.000</td>\n",
       "      <td>IBU</td>\n",
       "      <td>1</td>\n",
       "      <td>American Pale Ale (APA)</td>\n",
       "      <td>166</td>\n",
       "      <td>32</td>\n",
       "      <td>NaN</td>\n",
       "    </tr>\n",
       "    <tr>\n",
       "      <th>1926</th>\n",
       "      <td>65.000</td>\n",
       "      <td>IBU</td>\n",
       "      <td>1</td>\n",
       "      <td>American Pale Ale (APA)</td>\n",
       "      <td>166</td>\n",
       "      <td>12</td>\n",
       "      <td>Dale's Pale Ale</td>\n",
       "    </tr>\n",
       "    <tr>\n",
       "      <th>21451</th>\n",
       "      <td>0.065</td>\n",
       "      <td>AP</td>\n",
       "      <td>1</td>\n",
       "      <td>American Pale Ale (APA)</td>\n",
       "      <td>166</td>\n",
       "      <td>Other</td>\n",
       "      <td>NaN</td>\n",
       "    </tr>\n",
       "    <tr>\n",
       "      <th>11566</th>\n",
       "      <td>65.000</td>\n",
       "      <td>IBU</td>\n",
       "      <td>1</td>\n",
       "      <td>American Pale Ale (APA)</td>\n",
       "      <td>166</td>\n",
       "      <td>24</td>\n",
       "      <td>NaN</td>\n",
       "    </tr>\n",
       "    <tr>\n",
       "      <th>5763</th>\n",
       "      <td>0.087</td>\n",
       "      <td>AP</td>\n",
       "      <td>4</td>\n",
       "      <td>American Double / Imperial IPA</td>\n",
       "      <td>166</td>\n",
       "      <td>16</td>\n",
       "      <td>NaN</td>\n",
       "    </tr>\n",
       "    <tr>\n",
       "      <th>838</th>\n",
       "      <td>85.000</td>\n",
       "      <td>IBU</td>\n",
       "      <td>4</td>\n",
       "      <td>American Double / Imperial IPA</td>\n",
       "      <td>166</td>\n",
       "      <td>12</td>\n",
       "      <td>Gordon Ale (2009)</td>\n",
       "    </tr>\n",
       "    <tr>\n",
       "      <th>20223</th>\n",
       "      <td>0.087</td>\n",
       "      <td>AP</td>\n",
       "      <td>4</td>\n",
       "      <td>American Double / Imperial IPA</td>\n",
       "      <td>166</td>\n",
       "      <td>Other</td>\n",
       "      <td>NaN</td>\n",
       "    </tr>\n",
       "    <tr>\n",
       "      <th>10583</th>\n",
       "      <td>0.087</td>\n",
       "      <td>AP</td>\n",
       "      <td>4</td>\n",
       "      <td>American Double / Imperial IPA</td>\n",
       "      <td>166</td>\n",
       "      <td>24</td>\n",
       "      <td>NaN</td>\n",
       "    </tr>\n",
       "    <tr>\n",
       "      <th>15403</th>\n",
       "      <td>0.087</td>\n",
       "      <td>AP</td>\n",
       "      <td>4</td>\n",
       "      <td>American Double / Imperial IPA</td>\n",
       "      <td>166</td>\n",
       "      <td>32</td>\n",
       "      <td>NaN</td>\n",
       "    </tr>\n",
       "    <tr>\n",
       "      <th>5658</th>\n",
       "      <td>85.000</td>\n",
       "      <td>IBU</td>\n",
       "      <td>4</td>\n",
       "      <td>American Double / Imperial IPA</td>\n",
       "      <td>166</td>\n",
       "      <td>16</td>\n",
       "      <td>NaN</td>\n",
       "    </tr>\n",
       "    <tr>\n",
       "      <th>943</th>\n",
       "      <td>0.087</td>\n",
       "      <td>AP</td>\n",
       "      <td>4</td>\n",
       "      <td>American Double / Imperial IPA</td>\n",
       "      <td>166</td>\n",
       "      <td>12</td>\n",
       "      <td>Gordon Ale (2009)</td>\n",
       "    </tr>\n",
       "    <tr>\n",
       "      <th>20118</th>\n",
       "      <td>85.000</td>\n",
       "      <td>IBU</td>\n",
       "      <td>4</td>\n",
       "      <td>American Double / Imperial IPA</td>\n",
       "      <td>166</td>\n",
       "      <td>Other</td>\n",
       "      <td>NaN</td>\n",
       "    </tr>\n",
       "    <tr>\n",
       "      <th>15298</th>\n",
       "      <td>85.000</td>\n",
       "      <td>IBU</td>\n",
       "      <td>4</td>\n",
       "      <td>American Double / Imperial IPA</td>\n",
       "      <td>166</td>\n",
       "      <td>32</td>\n",
       "      <td>NaN</td>\n",
       "    </tr>\n",
       "    <tr>\n",
       "      <th>10478</th>\n",
       "      <td>85.000</td>\n",
       "      <td>IBU</td>\n",
       "      <td>4</td>\n",
       "      <td>American Double / Imperial IPA</td>\n",
       "      <td>166</td>\n",
       "      <td>24</td>\n",
       "      <td>NaN</td>\n",
       "    </tr>\n",
       "  </tbody>\n",
       "</table>\n",
       "</div>"
      ],
      "text/plain": [
       "       Content Type  ID                         Flavour  BrewID Volume  \\\n",
       "6991     0.065   AP   1         American Pale Ale (APA)     166     16   \n",
       "16631    0.065   AP   1         American Pale Ale (APA)     166     32   \n",
       "2171     0.065   AP   1         American Pale Ale (APA)     166     12   \n",
       "11811    0.065   AP   1         American Pale Ale (APA)     166     24   \n",
       "6746    65.000  IBU   1         American Pale Ale (APA)     166     16   \n",
       "21206   65.000  IBU   1         American Pale Ale (APA)     166  Other   \n",
       "16386   65.000  IBU   1         American Pale Ale (APA)     166     32   \n",
       "1926    65.000  IBU   1         American Pale Ale (APA)     166     12   \n",
       "21451    0.065   AP   1         American Pale Ale (APA)     166  Other   \n",
       "11566   65.000  IBU   1         American Pale Ale (APA)     166     24   \n",
       "5763     0.087   AP   4  American Double / Imperial IPA     166     16   \n",
       "838     85.000  IBU   4  American Double / Imperial IPA     166     12   \n",
       "20223    0.087   AP   4  American Double / Imperial IPA     166  Other   \n",
       "10583    0.087   AP   4  American Double / Imperial IPA     166     24   \n",
       "15403    0.087   AP   4  American Double / Imperial IPA     166     32   \n",
       "5658    85.000  IBU   4  American Double / Imperial IPA     166     16   \n",
       "943      0.087   AP   4  American Double / Imperial IPA     166     12   \n",
       "20118   85.000  IBU   4  American Double / Imperial IPA     166  Other   \n",
       "15298   85.000  IBU   4  American Double / Imperial IPA     166     32   \n",
       "10478   85.000  IBU   4  American Double / Imperial IPA     166     24   \n",
       "\n",
       "                    Name  \n",
       "6991                 NaN  \n",
       "16631                NaN  \n",
       "2171     Dale's Pale Ale  \n",
       "11811                NaN  \n",
       "6746                 NaN  \n",
       "21206                NaN  \n",
       "16386                NaN  \n",
       "1926     Dale's Pale Ale  \n",
       "21451                NaN  \n",
       "11566                NaN  \n",
       "5763                 NaN  \n",
       "838    Gordon Ale (2009)  \n",
       "20223                NaN  \n",
       "10583                NaN  \n",
       "15403                NaN  \n",
       "5658                 NaN  \n",
       "943    Gordon Ale (2009)  \n",
       "20118                NaN  \n",
       "15298                NaN  \n",
       "10478                NaN  "
      ]
     },
     "execution_count": 80,
     "metadata": {},
     "output_type": "execute_result"
    }
   ],
   "source": [
    "beers2=beers.melt(id_vars=[\"Content\",\"Type\",\"ID\", \"Flavour\", \"BrewID\"], value_vars =[\"12\",\"16\",\"24\",\"32\",\"Other\"],\n",
    "           var_name=\"Volume\", value_name=\"Name\")\n",
    "beers2.sort_values(by=(\"ID\")).head(20)"
   ]
  },
  {
   "cell_type": "markdown",
   "metadata": {
    "id": "GAYrG_HoTiY-"
   },
   "source": [
    "Note, however, that the original data only listed each beer ID two times (i.e. once for its Bitterness or IBU and once for its alcohol percentage or AP) but the new dataset lists each beer ID ten times.  This occurs since, for example, ID 1 now has 8 \"NAs\" for Names along with two 12 ounce values (technically, the beer could have been brewed in all 5 sizes but it wasn't). "
   ]
  },
  {
   "cell_type": "markdown",
   "metadata": {
    "deletable": false,
    "editable": false,
    "id": "aY316Dj_TiY-"
   },
   "source": [
    "<!-- BEGIN QUESTION -->\n",
    "\n",
    "<!-- BEGIN QUESTION -->\n",
    "\n",
    "### Question 11\n",
    " \n",
    "##### 1) Redefine beers2 dataset as beers3 so that it excludes the \"NA\"s in the \"Name\" variable (hint: use DATAFRAME.dropna(subset=['COLUMN1', 'COLUMN2']) to drop values those are NAs in the selected columns) and use sort_values(...)  command to sort beers3 by \"ID\" .\n",
    "\n",
    "_Note: Each beer ID should now only appear twice as it did in the original dataset._\n",
    "\n",
    "##### 2) As has been mentioned, notice that the beers3 dataset still has 2 rows for each beer ID (or Name of beer).   Define beers4 using the pivot(columns=\"Type\", values=\"Content\") command to convert the \"Type\" variable into 2 separate variables - one called IBU (the international bitterness unit) and one called AP (the alcohol percentage as a decimal) - by \"Content\" as value.\n",
    "\n",
    "<!--\n",
    "BEGIN QUESTION\n",
    "name: q11\n",
    "points: 2\n",
    "manual: true\n",
    "-->\n"
   ]
  },
  {
   "cell_type": "code",
   "execution_count": 81,
   "metadata": {
    "id": "gZmZiqgXTiY-",
    "outputId": "8157e888-d260-49bf-e753-1282b77113e7"
   },
   "outputs": [
    {
     "name": "stdout",
     "output_type": "stream",
     "text": [
      "       Content Type    ID           Flavour  BrewID Volume  \\\n",
      "0       22.000  IBU  1887  Abbey Single Ale      57     12   \n",
      "1       22.000  IBU  2505  Abbey Single Ale      57     12   \n",
      "2        0.049   AP  1887  Abbey Single Ale      57     12   \n",
      "3        0.049   AP  2505  Abbey Single Ale      57     12   \n",
      "4       40.000  IBU   502           Altbier     395     12   \n",
      "...        ...  ...   ...               ...     ...    ...   \n",
      "23623    0.128   AP  2565  Quadrupel (Quad)      51  Other   \n",
      "23676      NaN  IBU  2564          Rye Beer      51  Other   \n",
      "23694    0.104   AP  2564          Rye Beer      51  Other   \n",
      "23903   34.000  IBU  2575            Tripel      45  Other   \n",
      "23914    0.085   AP  2575            Tripel      45  Other   \n",
      "\n",
      "                                                    Name  \n",
      "0                           Abbey's Single Ale (Current)  \n",
      "1                                Abbey's Single (2015- )  \n",
      "2                           Abbey's Single Ale (Current)  \n",
      "3                                Abbey's Single (2015- )  \n",
      "4                                             Alteration  \n",
      "...                                                  ...  \n",
      "23623  Lee Hill Series Vol. 5 - Belgian Style Quadrup...  \n",
      "23676   Lee Hill Series Vol. 4 - Manhattan Style Rye Ale  \n",
      "23694   Lee Hill Series Vol. 4 - Manhattan Style Rye Ale  \n",
      "23903                                     Wooden Rooster  \n",
      "23914                                     Wooden Rooster  \n",
      "\n",
      "[4822 rows x 7 columns]\n",
      "Type      AP   IBU\n",
      "0        NaN  22.0\n",
      "1        NaN  22.0\n",
      "2      0.049   NaN\n",
      "3      0.049   NaN\n",
      "4        NaN  40.0\n",
      "...      ...   ...\n",
      "23623  0.128   NaN\n",
      "23676    NaN   NaN\n",
      "23694  0.104   NaN\n",
      "23903    NaN  34.0\n",
      "23914  0.085   NaN\n",
      "\n",
      "[4822 rows x 2 columns]\n"
     ]
    }
   ],
   "source": [
    "# Write your code here\n",
    "# BEGIN SOLUTION\n",
    "# 1)\n",
    "beers3=beers2.dropna(subset=[\"Name\"])\n",
    "beers3.sort_values(by=\"ID\")\n",
    "print(beers3)\n",
    "# 2)\n",
    "beers4= beers3.pivot(columns=\"Type\", values=\"Content\")\n",
    "print(beers4)\n",
    "# END SOLUTION"
   ]
  }
 ],
 "metadata": {
  "colab": {
   "collapsed_sections": [
    "dWuaiDxoMB7Q",
    "8YQLJjF5MB7R",
    "L6XejU96MB7X",
    "xI4-7wujMB7Z",
    "dVQYDw46MB7a",
    "s_4m3NjpMB7e",
    "zp1ubSDv7MlG",
    "HzFmWiWBMB7q",
    "kv-d0oldTiYx",
    "ydFmnHZoTiYy",
    "qBbkjAhuTiY0",
    "xGSgUplxTiY0",
    "fjp1o8JATiY1",
    "NfHD4u-VTiY4",
    "ReJYveT-TiY4",
    "9uofNIBsTiY4",
    "ZnP74V8mTiY5",
    "M2UXkUYsTiY6",
    "lIrK_UJ0TiY6",
    "BPhz5lj2TiY9",
    "aY316Dj_TiY-"
   ],
   "name": "DATA200_Worksheet.ipynb",
   "provenance": []
  },
  "interpreter": {
   "hash": "5c070e3d46d1facbf753779385529dae0626534a3c07672b55f55e6d9c85175d"
  },
  "kernelspec": {
   "display_name": "PyCharm (DATA200)",
   "language": "python",
   "name": "python3"
  },
  "language_info": {
   "codemirror_mode": {
    "name": "ipython",
    "version": 3
   },
   "file_extension": ".py",
   "mimetype": "text/x-python",
   "name": "python",
   "nbconvert_exporter": "python",
   "pygments_lexer": "ipython3",
   "version": "3.7.9"
  },
  "toc": {
   "colors": {
    "hover_highlight": "#DAA520",
    "running_highlight": "#FF0000",
    "selected_highlight": "#FFD700"
   },
   "moveMenuLeft": true,
   "nav_menu": {
    "height": "156px",
    "width": "252px"
   },
   "navigate_menu": true,
   "number_sections": true,
   "sideBar": true,
   "threshold": 4,
   "toc_cell": true,
   "toc_section_display": "block",
   "toc_window_display": true
  }
 },
 "nbformat": 4,
 "nbformat_minor": 1
}
